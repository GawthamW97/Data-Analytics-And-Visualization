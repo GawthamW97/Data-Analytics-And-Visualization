


pip install neo4j


import numpy as np
import pandas as pd
from neo4j import GraphDatabase


#Intergovernmental Panel on Climate Change - IPCC


df = pd.read_excel('IEA_EDGAR_CO2_1970_2023.xlsx',sheet_name="IPCC 2006")


df.info


df.head()


def connectToDataBases():
    URI = "bolt://localhost:7687"
    AUTH = ("neo4j", "asd123asd123")
    
    with GraphDatabase.driver(URI, auth=AUTH) as driver:
        driver.verify_connectivity()
    return driver





#Aggregate Data to create tables


df = df.drop(["Substance","fossil_bio"],axis=1)


Country_columns = ["IPCC_annex","C_group_IM24_sh","Country_code_A3","Name"]
Code_columns = ["ipcc_code_2006_for_standard_report","ipcc_code_2006_for_standard_report_name"]
Country = df[Country_columns]
Ipcc_code = df.drop(Country_columns,axis=1)[Code_columns]
Year = df.drop(Country_columns + Code_columns,axis=1)
print(Country.columns)
print(Ipcc_code.columns)
print(Year.columns)


# Handling missing values
Country.fillna('Unknown',inplace=True)
Ipcc_code.fillna('Unknown',inplace=True)
Year.fillna(0,inplace=True)

#remove duplicate records
Country.drop_duplicates(subset=['Name'], keep='first', inplace=True)
Ipcc_code.drop_duplicates(subset=['ipcc_code_2006_for_standard_report'], keep='first', inplace=True)


def create_node(tx, label, properties):
    query = (
        f"CREATE (n:{label} $props) "
        "RETURN n"
    )
    result = tx.run(query, props=properties)
    return result.single()[0]


driver = connectToDataBases()


with driver.session() as session:
    # Create a Person node
    person = session.execute_write(
        create_node, 
        "Country", 
        {"ipcc_annex": "", "zone": "", "country_code": "","name":""}
    )



