{
 "cells": [
  {
   "cell_type": "markdown",
   "id": "f415bc3c-dd29-4511-802e-1852d45647e7",
   "metadata": {},
   "source": [
    "# Loading Dataset to PostgreSQL"
   ]
  },
  {
   "cell_type": "code",
   "execution_count": 4,
   "id": "a63816c7-b9c5-4cfd-b3d7-b27971537b0c",
   "metadata": {},
   "outputs": [],
   "source": [
    "# pip install psycopg2"
   ]
  },
  {
   "cell_type": "code",
   "execution_count": 42,
   "id": "c6d5bc65-0268-44f0-8fc1-8acf8022faf0",
   "metadata": {},
   "outputs": [],
   "source": [
    "import psycopg2\n",
    "import pandas as pd\n",
    "import numpy as np"
   ]
  },
  {
   "cell_type": "code",
   "execution_count": 44,
   "id": "c2f92eca-084f-447d-8dcb-31cf8c5a8484",
   "metadata": {},
   "outputs": [],
   "source": [
    "df = pd.read_excel('IEA_EDGAR_CO2_1970_2023.xlsx',sheet_name=\"IPCC 2006\",skiprows=9)"
   ]
  },
  {
   "cell_type": "code",
   "execution_count": 45,
   "id": "a31a3f24-74f3-43f1-ac25-2f5d7bf8858f",
   "metadata": {},
   "outputs": [],
   "source": [
    "df = df.rename(columns={\"C_group_IM24_sh\":\"zone\",\"Country_code_A3\":\"code\"})\n",
    "df = df.rename(columns={\"ipcc_code_2006_for_standard_report\":\"ipcc_code\",\"ipcc_code_2006_for_standard_report_name\":\"ipcc_name\"})\n",
    "df.fillna(0,inplace=True)"
   ]
  },
  {
   "cell_type": "code",
   "execution_count": 46,
   "id": "25c34892-4370-4528-a9df-5e6a0ea9817b",
   "metadata": {},
   "outputs": [],
   "source": [
    "create_queries = {\"country\":\n",
    "    \"\"\"\n",
    "    CREATE TABLE country(\n",
    "        country_id SERIAL PRIMARY KEY,\n",
    "        name VARCHAR(255),\n",
    "        code VARCHAR(3),\n",
    "        zone VARCHAR(25),\n",
    "        ipcc_annex VARCHAR(25)\n",
    "    )\n",
    "    \"\"\"\n",
    "    ,\"ipcc\":\n",
    "    \"\"\"\n",
    "    CREATE TABLE ipcc(\n",
    "        ipcc_id SERIAL PRIMARY KEY,\n",
    "        ipcc_code VARCHAR(15),\n",
    "        ipcc_name VARCHAR(255)\n",
    "    )\n",
    "    \"\"\"\n",
    "    ,\"emission\":\n",
    "    \"\"\"\n",
    "    CREATE TABLE emission(\n",
    "        emission_id SERIAL PRIMARY KEY,\n",
    "        country_id INTEGER REFERENCES country(country_id),\n",
    "        ipcc_id INTEGER REFERENCES ipcc(ipcc_id),\n",
    "        year INTEGER NOT NULL,\n",
    "        emission_rate NUMERIC(20,10),\n",
    "        UNIQUE(country_id,ipcc_id,year)\n",
    "    )\n",
    "    \"\"\"}"
   ]
  },
  {
   "cell_type": "code",
   "execution_count": 50,
   "id": "0325ea37-285f-45d1-bff2-7ec431a647b0",
   "metadata": {},
   "outputs": [],
   "source": [
    "check_query = \"\"\"\n",
    "SELECT EXISTS (\n",
    "   SELECT 1 FROM information_schema.tables \n",
    "   WHERE table_schema ='public' \n",
    "   AND table_name ='{table}'\n",
    "   )\"\"\""
   ]
  },
  {
   "cell_type": "code",
   "execution_count": 52,
   "id": "3e83dcb1-0a5c-4dc8-80ef-ee8e2e02c623",
   "metadata": {},
   "outputs": [],
   "source": [
    "table_list=[\"country\",\"ipcc\",\"emission\"]"
   ]
  },
  {
   "cell_type": "code",
   "execution_count": 54,
   "id": "3e76e624-edcd-4abb-8cc9-7a0470fd3479",
   "metadata": {},
   "outputs": [],
   "source": [
    "def connectToDB():\n",
    "    try:\n",
    "        conn = psycopg2.connect(database=\"CO2_Emission\",\n",
    "                host=\"localhost\",\n",
    "                user=\"postgres\",\n",
    "                password=\"asd123\",\n",
    "                port=\"5432\")\n",
    "        return conn\n",
    "    except (psycopg2.DatabaseError, Exception) as error:\n",
    "        print(error)"
   ]
  },
  {
   "cell_type": "code",
   "execution_count": 56,
   "id": "7cad99c0-8d0d-4332-ace9-7d182664aa1e",
   "metadata": {},
   "outputs": [],
   "source": [
    "conn = connectToDB()\n",
    "cursor = conn.cursor()"
   ]
  },
  {
   "cell_type": "code",
   "execution_count": 58,
   "id": "4332afa6-e4b1-4b45-80ba-7bc9daf8eae9",
   "metadata": {},
   "outputs": [],
   "source": [
    "try:\n",
    "    for table in table_list:\n",
    "        query = str(check_query).format(table=table)\n",
    "        cursor.execute(query)\n",
    "        table_exist = cursor.fetchall()[0][0]\n",
    "        if(table_exist):\n",
    "            continue\n",
    "        else:\n",
    "            print(\"create\")\n",
    "            create_query = create_queries[table]\n",
    "            cursor.execute(create_query)\n",
    "            conn.commit()\n",
    "            if(table == \"country\"):\n",
    "                insertCountryData()\n",
    "            if(table == \"ipcc\"):\n",
    "                insertIpccData()\n",
    "            if(table == \"emission\"):\n",
    "                insertEmissionData()\n",
    "    #add indexes\n",
    "    cursor.execute(\"CREATE INDEX IF NOT EXISTS idx_country_year_emission ON emission(country_id,year)\")\n",
    "    cursor.execute(\"CREATE INDEX IF NOT EXISTS idx_ipcc_year_emission ON emission(ipcc_id,year)\")\n",
    "    conn.commit()\n",
    "except (psycopg2.DatabaseError, Exception) as error:\n",
    "    print(error)\n",
    "    conn.rollback()"
   ]
  },
  {
   "cell_type": "code",
   "execution_count": 60,
   "id": "0271a6f9-4b62-4926-85f1-1935fb3aa030",
   "metadata": {
    "scrolled": true
   },
   "outputs": [],
   "source": [
    "data_collection = {\n",
    "    \"country\":set(),\n",
    "    \"ipcc\":set(),\n",
    "    \"emission\":[]\n",
    "}\n",
    "\n",
    "for i,row in df.iterrows():\n",
    "    #country data\n",
    "    country_name = row[\"Name\"]\n",
    "    country_zone = row[\"zone\"]\n",
    "    country_code = row[\"code\"]\n",
    "    IPCC_annex = row[\"IPCC_annex\"]\n",
    "    data_collection[\"country\"].add((country_name,country_zone,country_code,IPCC_annex))\n",
    "    #ipcc data\n",
    "    ipcc_code = row[\"ipcc_code\"]\n",
    "    ipcc_name = row[\"ipcc_name\"]\n",
    "    data_collection[\"ipcc\"].add((ipcc_code,ipcc_name))\n",
    "    #emission data\n",
    "    year_list=[]\n",
    "    for i in range(2000,2024,1):\n",
    "        year_list.append(\"Y_\" + str(i))\n",
    "    year_columns = df[year_list];\n",
    "    for year_column in year_columns:\n",
    "        year = int(year_column.replace(\"Y_\",''))\n",
    "        emission_rate = row[year_column]\n",
    "        if pd.notna(emission_rate):\n",
    "            data_collection[\"emission\"].append({\n",
    "                'country_code': country_code,\n",
    "                'ipcc_code':ipcc_code,\n",
    "                'ipcc_name':ipcc_name,\n",
    "                'year':year,\n",
    "                'emission_rate':emission_rate\n",
    "            })\n",
    "            "
   ]
  },
  {
   "cell_type": "code",
   "execution_count": 62,
   "id": "d296414d-2b5d-498e-988e-9b35d9e8adf8",
   "metadata": {},
   "outputs": [],
   "source": [
    "def insertCountryData():\n",
    "    insert_query = \"\"\"\n",
    "    INSERT INTO country(name,zone,code,ipcc_annex)\n",
    "    VALUES (%s,%s,%s,%s)\n",
    "    \"\"\"\n",
    "    try:\n",
    "        cursor.executemany(insert_query,data_collection[\"country\"])\n",
    "        conn.commit()\n",
    "    except (psycopg2.DatabaseError, Exception) as error:\n",
    "        print(error)\n",
    "        conn.rollback()\n",
    "\n",
    "def insertIpccData():\n",
    "    insert_query = \"\"\"\n",
    "    INSERT INTO ipcc(ipcc_code,ipcc_name)\n",
    "    VALUES (%s,%s)\n",
    "    \"\"\"\n",
    "    try:\n",
    "        cursor.executemany(insert_query,data_collection[\"ipcc\"])\n",
    "        conn.commit()\n",
    "    except (psycopg2.DatabaseError, Exception) as error:\n",
    "        print(error)\n",
    "        conn.rollback()\n",
    "        \n",
    "def insertEmissionData():\n",
    "    emission_rate_values=[]\n",
    "    for emission in data_collection[\"emission\"]:\n",
    "        try:\n",
    "            cursor.execute(\"\"\"\n",
    "                SELECT country_id FROM country WHERE code = %s\n",
    "                \"\"\",(emission['country_code'],)\n",
    "            )\n",
    "            country_id_list = cursor.fetchall()\n",
    "            cursor.execute(\"\"\"\n",
    "                SELECT ipcc_id FROM ipcc WHERE ipcc_code = %s\n",
    "                AND ipcc_name = %s\n",
    "                \"\"\",(emission['ipcc_code'],emission['ipcc_name'])\n",
    "            )\n",
    "            ipcc_id_list = cursor.fetchall()\n",
    "            \n",
    "            if country_id_list and ipcc_id_list:\n",
    "                emission_rate_values.append({\n",
    "                    \"country_id\" : country_id_list[0][0],\n",
    "                    \"ipcc_id\" : ipcc_id_list[0][0],\n",
    "                    \"year\": int(emission[\"year\"]),\n",
    "                    \"emission_rate\" : float(emission[\"emission_rate\"])\n",
    "                })\n",
    "            else:\n",
    "                print(\"Id not found!\")\n",
    "        except (psycopg2.DatabaseError, Exception) as error:\n",
    "            print(error)\n",
    "            conn.rollback()\n",
    "            break\n",
    "\n",
    "    try:\n",
    "        size = 1000\n",
    "        insert_query = \"\"\"\n",
    "        INSERT INTO emission(country_id,ipcc_id,year,emission_rate)\n",
    "        VALUES (%s,%s,%s,%s)\n",
    "        \"\"\"\n",
    "        print(emission_rate_values[0:10])\n",
    "        for i in range(0, len(emission_rate_values),size):\n",
    "            batch = emission_rate_values[i: i + size]\n",
    "            row_data=[]\n",
    "            for x in batch:\n",
    "                row_data.append((x[\"country_id\"],x[\"ipcc_id\"],x[\"year\"],x[\"emission_rate\"]))\n",
    "            cursor.executemany(insert_query,row_data)\n",
    "            conn.commit()\n",
    "    except (psycopg2.DatabaseError, Exception) as error:\n",
    "            print(error)\n",
    "            conn.rollback()\n",
    "                "
   ]
  },
  {
   "cell_type": "code",
   "execution_count": null,
   "id": "979f93cd-90a7-48c7-afbd-fb193470b338",
   "metadata": {},
   "outputs": [],
   "source": []
  }
 ],
 "metadata": {
  "kernelspec": {
   "display_name": "Python [conda env:base] *",
   "language": "python",
   "name": "conda-base-py"
  },
  "language_info": {
   "codemirror_mode": {
    "name": "ipython",
    "version": 3
   },
   "file_extension": ".py",
   "mimetype": "text/x-python",
   "name": "python",
   "nbconvert_exporter": "python",
   "pygments_lexer": "ipython3",
   "version": "3.12.3"
  }
 },
 "nbformat": 4,
 "nbformat_minor": 5
}
