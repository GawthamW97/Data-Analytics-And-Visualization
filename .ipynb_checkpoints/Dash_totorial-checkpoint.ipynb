{
 "cells": [
  {
   "cell_type": "code",
   "execution_count": 1,
   "metadata": {},
   "outputs": [
    {
     "name": "stdout",
     "output_type": "stream",
     "text": [
      "Collecting dash\n",
      "  Downloading dash-3.0.1-py3-none-any.whl.metadata (10 kB)\n",
      "Collecting Flask<3.1,>=1.0.4 (from dash)\n",
      "  Downloading flask-3.0.3-py3-none-any.whl.metadata (3.2 kB)\n",
      "Collecting Werkzeug<3.1 (from dash)\n",
      "  Downloading werkzeug-3.0.6-py3-none-any.whl.metadata (3.7 kB)\n",
      "Requirement already satisfied: plotly>=5.0.0 in c:\\users\\astaikopoulos\\appdata\\local\\anaconda3\\envs\\dap\\lib\\site-packages (from dash) (6.0.1)\n",
      "Requirement already satisfied: importlib-metadata in c:\\users\\astaikopoulos\\appdata\\local\\anaconda3\\envs\\dap\\lib\\site-packages (from dash) (8.6.1)\n",
      "Requirement already satisfied: typing-extensions>=4.1.1 in c:\\users\\astaikopoulos\\appdata\\local\\anaconda3\\envs\\dap\\lib\\site-packages (from dash) (4.12.2)\n",
      "Requirement already satisfied: requests in c:\\users\\astaikopoulos\\appdata\\local\\anaconda3\\envs\\dap\\lib\\site-packages (from dash) (2.32.3)\n",
      "Collecting retrying (from dash)\n",
      "  Using cached retrying-1.3.4-py3-none-any.whl.metadata (6.9 kB)\n",
      "Requirement already satisfied: nest-asyncio in c:\\users\\astaikopoulos\\appdata\\local\\anaconda3\\envs\\dap\\lib\\site-packages (from dash) (1.6.0)\n",
      "Requirement already satisfied: setuptools in c:\\users\\astaikopoulos\\appdata\\local\\anaconda3\\envs\\dap\\lib\\site-packages (from dash) (75.8.0)\n",
      "Requirement already satisfied: Jinja2>=3.1.2 in c:\\users\\astaikopoulos\\appdata\\local\\anaconda3\\envs\\dap\\lib\\site-packages (from Flask<3.1,>=1.0.4->dash) (3.1.5)\n",
      "Collecting itsdangerous>=2.1.2 (from Flask<3.1,>=1.0.4->dash)\n",
      "  Downloading itsdangerous-2.2.0-py3-none-any.whl.metadata (1.9 kB)\n",
      "Requirement already satisfied: click>=8.1.3 in c:\\users\\astaikopoulos\\appdata\\local\\anaconda3\\envs\\dap\\lib\\site-packages (from Flask<3.1,>=1.0.4->dash) (8.1.8)\n",
      "Collecting blinker>=1.6.2 (from Flask<3.1,>=1.0.4->dash)\n",
      "  Downloading blinker-1.9.0-py3-none-any.whl.metadata (1.6 kB)\n",
      "Requirement already satisfied: narwhals>=1.15.1 in c:\\users\\astaikopoulos\\appdata\\local\\anaconda3\\envs\\dap\\lib\\site-packages (from plotly>=5.0.0->dash) (1.32.0)\n",
      "Requirement already satisfied: packaging in c:\\users\\astaikopoulos\\appdata\\local\\anaconda3\\envs\\dap\\lib\\site-packages (from plotly>=5.0.0->dash) (24.2)\n",
      "Requirement already satisfied: MarkupSafe>=2.1.1 in c:\\users\\astaikopoulos\\appdata\\local\\anaconda3\\envs\\dap\\lib\\site-packages (from Werkzeug<3.1->dash) (3.0.2)\n",
      "Requirement already satisfied: zipp>=3.20 in c:\\users\\astaikopoulos\\appdata\\local\\anaconda3\\envs\\dap\\lib\\site-packages (from importlib-metadata->dash) (3.21.0)\n",
      "Requirement already satisfied: charset_normalizer<4,>=2 in c:\\users\\astaikopoulos\\appdata\\local\\anaconda3\\envs\\dap\\lib\\site-packages (from requests->dash) (3.4.1)\n",
      "Requirement already satisfied: idna<4,>=2.5 in c:\\users\\astaikopoulos\\appdata\\local\\anaconda3\\envs\\dap\\lib\\site-packages (from requests->dash) (3.10)\n",
      "Requirement already satisfied: urllib3<3,>=1.21.1 in c:\\users\\astaikopoulos\\appdata\\local\\anaconda3\\envs\\dap\\lib\\site-packages (from requests->dash) (2.3.0)\n",
      "Requirement already satisfied: certifi>=2017.4.17 in c:\\users\\astaikopoulos\\appdata\\local\\anaconda3\\envs\\dap\\lib\\site-packages (from requests->dash) (2025.1.31)\n",
      "Requirement already satisfied: six>=1.7.0 in c:\\users\\astaikopoulos\\appdata\\local\\anaconda3\\envs\\dap\\lib\\site-packages (from retrying->dash) (1.17.0)\n",
      "Requirement already satisfied: colorama in c:\\users\\astaikopoulos\\appdata\\local\\anaconda3\\envs\\dap\\lib\\site-packages (from click>=8.1.3->Flask<3.1,>=1.0.4->dash) (0.4.6)\n",
      "Downloading dash-3.0.1-py3-none-any.whl (8.0 MB)\n",
      "   ---------------------------------------- 0.0/8.0 MB ? eta -:--:--\n",
      "   ----- ---------------------------------- 1.0/8.0 MB 6.3 MB/s eta 0:00:02\n",
      "   ----------- ---------------------------- 2.4/8.0 MB 6.1 MB/s eta 0:00:01\n",
      "   --------------------- ------------------ 4.2/8.0 MB 6.8 MB/s eta 0:00:01\n",
      "   ----------------------------- ---------- 5.8/8.0 MB 6.8 MB/s eta 0:00:01\n",
      "   ----------------------------------- ---- 7.1/8.0 MB 6.7 MB/s eta 0:00:01\n",
      "   ---------------------------------------- 8.0/8.0 MB 6.5 MB/s eta 0:00:00\n",
      "Downloading flask-3.0.3-py3-none-any.whl (101 kB)\n",
      "Downloading werkzeug-3.0.6-py3-none-any.whl (227 kB)\n",
      "Using cached retrying-1.3.4-py3-none-any.whl (11 kB)\n",
      "Downloading blinker-1.9.0-py3-none-any.whl (8.5 kB)\n",
      "Downloading itsdangerous-2.2.0-py3-none-any.whl (16 kB)\n",
      "Installing collected packages: Werkzeug, retrying, itsdangerous, blinker, Flask, dash\n",
      "Successfully installed Flask-3.0.3 Werkzeug-3.0.6 blinker-1.9.0 dash-3.0.1 itsdangerous-2.2.0 retrying-1.3.4\n"
     ]
    }
   ],
   "source": [
    "!pip install dash"
   ]
  },
  {
   "cell_type": "markdown",
   "metadata": {},
   "source": [
    "## Step 1: Import Libraries and Dataset\n"
   ]
  },
  {
   "cell_type": "code",
   "execution_count": 2,
   "metadata": {},
   "outputs": [],
   "source": [
    "import dash\n",
    "from dash import html, dcc, Input, Output\n",
    "import plotly.express as px\n"
   ]
  },
  {
   "cell_type": "code",
   "execution_count": 3,
   "metadata": {},
   "outputs": [],
   "source": [
    "\n",
    "# Load Gapminder dataset\n",
    "df = px.data.gapminder()\n"
   ]
  },
  {
   "cell_type": "markdown",
   "metadata": {},
   "source": [
    "## Step 2: Initialize the App\n"
   ]
  },
  {
   "cell_type": "code",
   "execution_count": 4,
   "metadata": {},
   "outputs": [],
   "source": [
    "# Initialize the Dash app\n",
    "app = dash.Dash(__name__)"
   ]
  },
  {
   "cell_type": "markdown",
   "metadata": {},
   "source": [
    "## Step 3: Define the Layout"
   ]
  },
  {
   "cell_type": "code",
   "execution_count": 5,
   "metadata": {},
   "outputs": [],
   "source": [
    "app.layout = html.Div([\n",
    "    html.H1(\"Interactive Dashboard with Dash\"),\n",
    "    html.Label(\"Select a Country:\"),\n",
    "    dcc.Dropdown(\n",
    "        id=\"dropdown\",\n",
    "        options=[{\"label\": country, \"value\": country} for country in df[\"country\"].unique()],\n",
    "        placeholder=\"Select a country\"\n",
    "    ),\n",
    "    dcc.Graph(id=\"line-chart\")\n",
    "])"
   ]
  },
  {
   "cell_type": "markdown",
   "metadata": {},
   "source": [
    "## Step 4: Add Interactivity with Callbacks"
   ]
  },
  {
   "cell_type": "code",
   "execution_count": null,
   "metadata": {},
   "outputs": [],
   "source": [
    "# ceating an interactive line chart using Dash with a dropdown to select a country, \n",
    "\n",
    "\n",
    "#Callbacks: Add interactivity by linking input components to output components.\n",
    "#This is a decorator in Dash that links the input to the output.\n",
    "@app.callback(\n",
    "    # output is the figure of the line-chart html component,\n",
    "    Output(\"line-chart\", \"figure\"), #Output updates whenever the value of the Input changes.\n",
    "    \n",
    "    #The value of the dropdown component will trigger the callback. \n",
    "    Input(\"dropdown\", \"value\")\n",
    ")\n",
    "def update_graph(selected_country):\n",
    "    if selected_country is None:\n",
    "        return {}\n",
    "    \n",
    "    filtered_df = df[df[\"country\"] == selected_country]\n",
    "    \n",
    "    fig = px.line(\n",
    "        filtered_df,\n",
    "        x=\"year\",\n",
    "        y=\"gdpPercap\",\n",
    "        title=f\"GDP per Capita for {selected_country}\"\n",
    "    )\n",
    "    \n",
    "    return fig"
   ]
  },
  {
   "cell_type": "markdown",
   "metadata": {},
   "source": [
    "## Step 5: Run the App"
   ]
  },
  {
   "cell_type": "code",
   "execution_count": 8,
   "metadata": {},
   "outputs": [
    {
     "data": {
      "text/html": [
       "\n",
       "        <iframe\n",
       "            width=\"100%\"\n",
       "            height=\"650\"\n",
       "            src=\"http://127.0.0.1:8050/\"\n",
       "            frameborder=\"0\"\n",
       "            allowfullscreen\n",
       "            \n",
       "        ></iframe>\n",
       "        "
      ],
      "text/plain": [
       "<IPython.lib.display.IFrame at 0x26ea1f46540>"
      ]
     },
     "metadata": {},
     "output_type": "display_data"
    }
   ],
   "source": [
    "if __name__ == \"__main__\":\n",
    "    app.run(debug=True)"
   ]
  }
 ],
 "metadata": {
  "kernelspec": {
   "display_name": "dap",
   "language": "python",
   "name": "python3"
  },
  "language_info": {
   "codemirror_mode": {
    "name": "ipython",
    "version": 3
   },
   "file_extension": ".py",
   "mimetype": "text/x-python",
   "name": "python",
   "nbconvert_exporter": "python",
   "pygments_lexer": "ipython3",
   "version": "3.12.3"
  }
 },
 "nbformat": 4,
 "nbformat_minor": 2
}
