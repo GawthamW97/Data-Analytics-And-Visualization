{
 "cells": [
  {
   "cell_type": "markdown",
   "id": "87c6e230-acc8-43d0-96e9-4d3130947203",
   "metadata": {},
   "source": [
    "# Loading Dataset to Neo4JS"
   ]
  },
  {
   "cell_type": "code",
   "execution_count": 7,
   "id": "8bd3b6f6-3365-4a83-a8da-40863f3b9f1c",
   "metadata": {},
   "outputs": [],
   "source": [
    "# pip install neo4j\n",
    "# pip install pandas py2neo\n",
    "# pip install python-dotenv\n",
    "# !pip install dagster papermill jupyter"
   ]
  },
  {
   "cell_type": "code",
   "execution_count": 9,
   "id": "02f917ae-1815-4f66-a170-2e329249b28a",
   "metadata": {},
   "outputs": [],
   "source": [
    "import os\n",
    "\n",
    "import numpy as np\n",
    "import pandas as pd\n",
    "from neo4j import GraphDatabase\n",
    "from neo4j.exceptions import Neo4jError,ServiceUnavailable,ClientError\n",
    "from py2neo import Graph, Node, Relationship, Transaction\n",
    "from dotenv import load_dotenv\n",
    "from pathlib import Path\n",
    "import psycopg2\n",
    "from psycopg2 import sql"
   ]
  },
  {
   "cell_type": "code",
   "execution_count": 11,
   "id": "fdecc975-ff95-492a-ad14-89982d3dd698",
   "metadata": {},
   "outputs": [],
   "source": [
    "#Intergovernmental Panel on Climate Change - IPCC"
   ]
  },
  {
   "cell_type": "code",
   "execution_count": null,
   "id": "1e3bd78f-5df9-4fc6-a4c6-9e0a53b0cd14",
   "metadata": {
    "scrolled": true
   },
   "outputs": [],
   "source": [
    "# df = pd.read_excel(\"data/IEA_EDGAR_CO2_1970_2023.xlsx\",sheet_name=\"IPCC 2006\",skiprows=9)"
   ]
  },
  {
   "cell_type": "code",
   "execution_count": 3,
   "id": "43de6589-9c18-40d6-b4b9-302f2d20b924",
   "metadata": {
    "scrolled": true
   },
   "outputs": [],
   "source": [
    "# df.columns"
   ]
  },
  {
   "cell_type": "code",
   "execution_count": 5,
   "id": "1d22bdbe-4baf-429c-abbb-ba6cce1ae989",
   "metadata": {},
   "outputs": [],
   "source": [
    "# df.head()"
   ]
  },
  {
   "cell_type": "code",
   "execution_count": 50,
   "id": "00abe863-7e9b-4351-9c0a-5412a5f4c1b6",
   "metadata": {},
   "outputs": [],
   "source": [
    "# def connectToDataBases():\n",
    "#     try:\n",
    "#         URI = \"bolt://localhost:7687\"\n",
    "#         AUTH = (\"neo4j\", \"asd123asd123\")\n",
    "        \n",
    "#         driver = GraphDatabase.driver(URI, auth=AUTH)\n",
    "#         return driver\n",
    "#     except Neo4jError as e:\n",
    "#         print(f\"Error when connecting to DB - {e.code} - {e.message}\")"
   ]
  },
  {
   "cell_type": "code",
   "execution_count": 15,
   "id": "586848a9-a03e-45b2-adf8-f729e6636736",
   "metadata": {},
   "outputs": [],
   "source": [
    "def connectToDB():\n",
    "    try:\n",
    "        load_dotenv(verbose=True)\n",
    "        env_path = Path('../../') / '.env'\n",
    "        if(load_dotenv(dotenv_path=env_path)):\n",
    "            _host = os.environ.get(\"pg_host\")\n",
    "            _username = os.environ.get(\"pg_username\")\n",
    "            _password = os.environ.get(\"pg_password\")\n",
    "            _port = int(os.environ.get(\"pg_port\"))\n",
    "            conn = psycopg2.connect(database=\"CO2_Emission\",\n",
    "                    host=_host,\n",
    "                    user=_username,\n",
    "                    password=_password,\n",
    "                    port=_port)\n",
    "            return conn\n",
    "        else:\n",
    "            return None\n",
    "    except (psycopg2.DatabaseError, Exception) as error:\n",
    "        print(error)"
   ]
  },
  {
   "cell_type": "code",
   "execution_count": 17,
   "id": "f1db632c-ee41-44d1-970d-f3ce8c00bcc1",
   "metadata": {},
   "outputs": [],
   "source": [
    "conn = connectToDB()\n",
    "cursor = conn.cursor()"
   ]
  },
  {
   "cell_type": "code",
   "execution_count": 19,
   "id": "486d1041-ce9d-4def-b019-4ed3974b693c",
   "metadata": {},
   "outputs": [],
   "source": [
    "query = sql.SQL(\"\"\"\n",
    "SELECT c.*, e.*,i.* FROM emission e LEFT JOIN country c on e.country_id == c.country_id\n",
    "LEFT JOIN ipcc i on e.ipcc_id == i.ipcc_id\"\"\")"
   ]
  },
  {
   "cell_type": "code",
   "execution_count": 23,
   "id": "4ccfb8e0-cda8-43f9-be99-828d7f710e17",
   "metadata": {},
   "outputs": [],
   "source": [
    "# cursor.execute(query)\n",
    "# all_data = cursor.fetchall()\n",
    "# df_combined = pd.DataFrame(all_data)"
   ]
  },
  {
   "cell_type": "markdown",
   "id": "a0e8fc3b-d4b2-41e7-9a74-d3e7b59d0ef2",
   "metadata": {},
   "source": [
    "## Data Pre-processing"
   ]
  },
  {
   "cell_type": "code",
   "execution_count": 52,
   "id": "68a52530-97fc-4dce-b61f-26b09d63cfd9",
   "metadata": {},
   "outputs": [],
   "source": [
    "#Aggregate Data to create tables"
   ]
  },
  {
   "cell_type": "code",
   "execution_count": 53,
   "id": "ca116fee-66ee-47ce-91de-eb2c106a2b92",
   "metadata": {},
   "outputs": [],
   "source": [
    "df = df.drop([\"Substance\",\"fossil_bio\"],axis=1)"
   ]
  },
  {
   "cell_type": "code",
   "execution_count": 54,
   "id": "213530be-0211-4f7d-bac4-bd5042f9c968",
   "metadata": {},
   "outputs": [],
   "source": [
    "df = df.rename(columns={\"C_group_IM24_sh\":\"zone\",\"Country_code_A3\":\"code\"})\n",
    "df = df.rename(columns={\"ipcc_code_2006_for_standard_report\":\"ipcc_code\",\"ipcc_code_2006_for_standard_report_name\":\"ipcc_name\"})"
   ]
  },
  {
   "cell_type": "code",
   "execution_count": 55,
   "id": "7d9caa35-0ab5-4f6e-8cb4-0923e2d70247",
   "metadata": {},
   "outputs": [
    {
     "name": "stdout",
     "output_type": "stream",
     "text": [
      "Index(['IPCC_annex', 'zone', 'code', 'Name'], dtype='object')\n",
      "Index(['ipcc_code', 'ipcc_name'], dtype='object')\n",
      "Index(['Y_1970', 'Y_1971', 'Y_1972', 'Y_1973', 'Y_1974', 'Y_1975', 'Y_1976',\n",
      "       'Y_1977', 'Y_1978', 'Y_1979', 'Y_1980', 'Y_1981', 'Y_1982', 'Y_1983',\n",
      "       'Y_1984', 'Y_1985', 'Y_1986', 'Y_1987', 'Y_1988', 'Y_1989', 'Y_1990',\n",
      "       'Y_1991', 'Y_1992', 'Y_1993', 'Y_1994', 'Y_1995', 'Y_1996', 'Y_1997',\n",
      "       'Y_1998', 'Y_1999', 'Y_2000', 'Y_2001', 'Y_2002', 'Y_2003', 'Y_2004',\n",
      "       'Y_2005', 'Y_2006', 'Y_2007', 'Y_2008', 'Y_2009', 'Y_2010', 'Y_2011',\n",
      "       'Y_2012', 'Y_2013', 'Y_2014', 'Y_2015', 'Y_2016', 'Y_2017', 'Y_2018',\n",
      "       'Y_2019', 'Y_2020', 'Y_2021', 'Y_2022', 'Y_2023'],\n",
      "      dtype='object')\n"
     ]
    }
   ],
   "source": [
    "Country_columns = [\"IPCC_annex\",\"zone\",\"code\",\"Name\"]\n",
    "Code_columns = [\"ipcc_code\",\"ipcc_name\"]\n",
    "Country = df[Country_columns]\n",
    "Ipcc_code = df.drop(Country_columns,axis=1)[Code_columns]\n",
    "Year = df.drop(Country_columns + Code_columns,axis=1)\n",
    "print(Country.columns)\n",
    "print(Ipcc_code.columns)\n",
    "print(Year.columns)"
   ]
  },
  {
   "cell_type": "code",
   "execution_count": 56,
   "id": "d1f3f6c8-9db7-4396-b707-4461fe7565f1",
   "metadata": {},
   "outputs": [],
   "source": [
    "# Handling missing values\n",
    "df.fillna(0,inplace=True)\n",
    "#remove duplicate records\n",
    "# Country.drop_duplicates(subset=['Name'], keep='first', inplace=True)\n",
    "# Ipcc_code.drop_duplicates(subset=['ipcc_code_2006_for_standard_report'], keep='first', inplace=True)"
   ]
  },
  {
   "cell_type": "code",
   "execution_count": 57,
   "id": "dae11f5c-ebef-412f-b4db-0482067eb62f",
   "metadata": {
    "scrolled": true
   },
   "outputs": [
    {
     "data": {
      "text/plain": [
       "IPCC_annex      0\n",
       "zone            0\n",
       "code            0\n",
       "Name            0\n",
       "ipcc_code       0\n",
       "ipcc_name       0\n",
       "Y_1970        751\n",
       "Y_1971        746\n",
       "Y_1972        746\n",
       "Y_1973        736\n",
       "Y_1974        712\n",
       "Y_1975        702\n",
       "Y_1976        695\n",
       "Y_1977        713\n",
       "Y_1978        652\n",
       "Y_1979        654\n",
       "Y_1980        651\n",
       "Y_1981        634\n",
       "Y_1982        652\n",
       "Y_1983        644\n",
       "Y_1984        640\n",
       "Y_1985        636\n",
       "Y_1986        640\n",
       "Y_1987        636\n",
       "Y_1988        641\n",
       "Y_1989        631\n",
       "Y_1990        541\n",
       "Y_1991        539\n",
       "Y_1992        529\n",
       "Y_1993        517\n",
       "Y_1994        509\n",
       "Y_1995        504\n",
       "Y_1996        479\n",
       "Y_1997        463\n",
       "Y_1998        481\n",
       "Y_1999        497\n",
       "Y_2000        492\n",
       "Y_2001        488\n",
       "Y_2002        498\n",
       "Y_2003        491\n",
       "Y_2004        418\n",
       "Y_2005        398\n",
       "Y_2006        394\n",
       "Y_2007        412\n",
       "Y_2008        406\n",
       "Y_2009        394\n",
       "Y_2010        372\n",
       "Y_2011        372\n",
       "Y_2012        354\n",
       "Y_2013        351\n",
       "Y_2014        341\n",
       "Y_2015        332\n",
       "Y_2016        327\n",
       "Y_2017        306\n",
       "Y_2018        314\n",
       "Y_2019        313\n",
       "Y_2020        316\n",
       "Y_2021        315\n",
       "Y_2022        317\n",
       "Y_2023        319\n",
       "dtype: int64"
      ]
     },
     "execution_count": 57,
     "metadata": {},
     "output_type": "execute_result"
    }
   ],
   "source": [
    "df.eq(0).sum()"
   ]
  },
  {
   "cell_type": "markdown",
   "id": "e1def12c-944f-4dd4-91d0-e6628eb3f216",
   "metadata": {},
   "source": [
    "remove year columns before the year 2000. For our analysis we are focusing on the duration between 2000 - 2023"
   ]
  },
  {
   "cell_type": "code",
   "execution_count": 59,
   "id": "15b253ec-09ab-4d32-b1c2-06a9c74dbfd3",
   "metadata": {},
   "outputs": [],
   "source": [
    "year_list=[]\n",
    "for i in range(2000,2024,1):\n",
    "    year_list.append(\"Y_\" + str(i))\n",
    "Year = Year[year_list];"
   ]
  },
  {
   "cell_type": "markdown",
   "id": "14baf050-d0a3-47c5-90e4-7ba27e1f3b46",
   "metadata": {},
   "source": [
    "## Insert data into the DB"
   ]
  },
  {
   "cell_type": "code",
   "execution_count": 115,
   "id": "fc84c62e-08b2-4e11-a9ba-2aa5885c206e",
   "metadata": {},
   "outputs": [],
   "source": [
    "load_dotenv(verbose=True)\n",
    "env_path = Path('.') / '.env'"
   ]
  },
  {
   "cell_type": "code",
   "execution_count": 113,
   "id": "c59fcea4-c406-498d-9528-b6ff9dcc4758",
   "metadata": {},
   "outputs": [],
   "source": [
    "if(load_dotenv(dotenv_path=env_path)):\n",
    "    host = os.environ.get(\"neo_host\")\n",
    "    username = os.environ.get(\"neo_username\")\n",
    "    password = os.environ.get(\"neo_password\")\n",
    "else:\n",
    "    print(\".env file does not have required values!\")"
   ]
  },
  {
   "cell_type": "code",
   "execution_count": 87,
   "id": "f847ec62-a0ff-425a-82d3-e54b2f49e6d9",
   "metadata": {},
   "outputs": [],
   "source": [
    "graph = Graph(host,auth=(username, password))"
   ]
  },
  {
   "cell_type": "code",
   "execution_count": 89,
   "id": "98ffad67-2cb3-48cd-85b0-4415fedb5580",
   "metadata": {},
   "outputs": [],
   "source": [
    "def checkIfNodesAvailable(query):\n",
    "    result = graph.run(query)\n",
    "    record = result.data()\n",
    "    has_nodes = record[0][\"IsNodesPresent\"]\n",
    "    return has_nodes"
   ]
  },
  {
   "cell_type": "code",
   "execution_count": 91,
   "id": "122d0e40-b53a-4a10-8609-32b9e1af381d",
   "metadata": {},
   "outputs": [],
   "source": [
    "def createNodes(row):\n",
    "    try:\n",
    "        country_node = Node(\"country\",code=row[\"code\"],name=row[\"Name\"],zone=row[\"zone\"])\n",
    "        graph.merge(country_node,\"country\",\"code\")\n",
    "        ipcc_node = Node(\"ipcc\",ipcc_code = row[\"ipcc_code\"],\n",
    "                      ipcc_name = row[\"ipcc_name\"])\n",
    "         \n",
    "        relation01 = Relationship(country_node,\"UNDER_IPCC_CODE\",ipcc_node)\n",
    "\n",
    "        graph.create(relation01)\n",
    "        emission_node = Node(\"emission\")\n",
    "        total_emission = 0.0\n",
    "        for year_column in [col for col in Year.columns]:\n",
    "            total_emission += row[year_column]\n",
    "            emission_node[year_column.replace(\"Y_\",\"\")] = row[year_column]\n",
    "        emission_node[\"total_emission\"] = total_emission\n",
    "        relation = Relationship(ipcc_node,\"HAS_PRODUCED\",emission_node)\n",
    "        graph.create(relation)\n",
    "    except Neo4jError as e:\n",
    "        print(f\"Error - {e.code} - {e.message}\")\n",
    "        return\n",
    "    except Exception as e:\n",
    "        print(f\"Unexpected Error - {str(e)}\")\n",
    "        return"
   ]
  },
  {
   "cell_type": "code",
   "execution_count": 93,
   "id": "b3bde5f1-4ee5-41d3-a91d-bc4445e1e2c7",
   "metadata": {},
   "outputs": [],
   "source": [
    "check_query = \"\"\"\n",
    "OPTIONAL MATCH (n) WITH n LIMIT 1 \n",
    "RETURN n IS NOT NULL AS IsNodesPresent\n",
    "\"\"\""
   ]
  },
  {
   "cell_type": "code",
   "execution_count": 95,
   "id": "80b3cb35-e5aa-468d-89fc-1f5732a23b8b",
   "metadata": {},
   "outputs": [
    {
     "name": "stdout",
     "output_type": "stream",
     "text": [
      "Nodes are already created and available in the DB!\n"
     ]
    }
   ],
   "source": [
    "if(checkIfNodesAvailable(check_query) == False):\n",
    "    for i,row in df.iterrows():\n",
    "        createNodes(row)\n",
    "else:\n",
    "    print(\"Nodes are already created and available in the DB!\")"
   ]
  },
  {
   "cell_type": "code",
   "execution_count": null,
   "id": "df9e5374-7714-49f3-aa18-40bd9e2a3617",
   "metadata": {},
   "outputs": [],
   "source": []
  }
 ],
 "metadata": {
  "kernelspec": {
   "display_name": "Python [conda env:base] *",
   "language": "python",
   "name": "conda-base-py"
  },
  "language_info": {
   "codemirror_mode": {
    "name": "ipython",
    "version": 3
   },
   "file_extension": ".py",
   "mimetype": "text/x-python",
   "name": "python",
   "nbconvert_exporter": "python",
   "pygments_lexer": "ipython3",
   "version": "3.12.3"
  }
 },
 "nbformat": 4,
 "nbformat_minor": 5
}
