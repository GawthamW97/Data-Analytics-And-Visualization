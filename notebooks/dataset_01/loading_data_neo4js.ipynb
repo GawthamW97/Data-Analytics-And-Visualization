{
 "cells": [
  {
   "cell_type": "markdown",
   "id": "87c6e230-acc8-43d0-96e9-4d3130947203",
   "metadata": {},
   "source": [
    "# Loading Dataset to Neo4JS"
   ]
  },
  {
   "cell_type": "code",
   "execution_count": 147,
   "id": "8bd3b6f6-3365-4a83-a8da-40863f3b9f1c",
   "metadata": {},
   "outputs": [],
   "source": [
    "# pip install neo4j\n",
    "# pip install pandas py2neo\n",
    "# pip install python-dotenv\n",
    "# !pip install dagster papermill jupyter"
   ]
  },
  {
   "cell_type": "code",
   "execution_count": 148,
   "id": "02f917ae-1815-4f66-a170-2e329249b28a",
   "metadata": {},
   "outputs": [],
   "source": [
    "import os\n",
    "\n",
    "import numpy as np\n",
    "import pandas as pd\n",
    "from neo4j import GraphDatabase\n",
    "from neo4j.exceptions import Neo4jError,ServiceUnavailable,ClientError\n",
    "from py2neo import Graph, Node, Relationship, Transaction\n",
    "from dotenv import load_dotenv\n",
    "from pathlib import Path\n",
    "import psycopg2\n",
    "from psycopg2 import sql"
   ]
  },
  {
   "cell_type": "code",
   "execution_count": 149,
   "id": "586848a9-a03e-45b2-adf8-f729e6636736",
   "metadata": {},
   "outputs": [],
   "source": [
    "def connectToDB():\n",
    "    try:\n",
    "        load_dotenv(verbose=True)\n",
    "        env_path = Path('../../') / '.env'\n",
    "        if(load_dotenv(dotenv_path=env_path)):\n",
    "            _host = os.environ.get(\"pg_host\")\n",
    "            _username = os.environ.get(\"pg_username\")\n",
    "            _password = os.environ.get(\"pg_password\")\n",
    "            _port = int(os.environ.get(\"pg_port\"))\n",
    "            conn = psycopg2.connect(database=\"co2_emission\",\n",
    "                    host=_host,\n",
    "                    user=_username,\n",
    "                    password=_password,\n",
    "                    port=_port)\n",
    "            return conn\n",
    "        else:\n",
    "            return None\n",
    "    except (psycopg2.DatabaseError, Exception) as error:\n",
    "        print(error)"
   ]
  },
  {
   "cell_type": "code",
   "execution_count": 150,
   "id": "f1db632c-ee41-44d1-970d-f3ce8c00bcc1",
   "metadata": {},
   "outputs": [],
   "source": [
    "conn = connectToDB()\n",
    "cursor = conn.cursor()"
   ]
  },
  {
   "cell_type": "code",
   "execution_count": 151,
   "id": "486d1041-ce9d-4def-b019-4ed3974b693c",
   "metadata": {},
   "outputs": [],
   "source": [
    "query = \"\"\"\n",
    "SELECT c.*, e.*,i.* FROM emission e LEFT JOIN country c on e.country_id = c.country_id\n",
    "LEFT JOIN ipcc i on e.ipcc_id = i.ipcc_id\"\"\""
   ]
  },
  {
   "cell_type": "code",
   "execution_count": 152,
   "id": "4ccfb8e0-cda8-43f9-be99-828d7f710e17",
   "metadata": {},
   "outputs": [],
   "source": [
    "cursor.execute(query)\n",
    "all_data = cursor.fetchall()\n",
    "df_columns = [column[0] for column in cursor.description]\n",
    "df_combined = pd.DataFrame(all_data,columns = df_columns)"
   ]
  },
  {
   "cell_type": "code",
   "execution_count": 153,
   "id": "5ded3bf4-a063-4d49-88a3-6730eedce866",
   "metadata": {},
   "outputs": [
    {
     "data": {
      "text/html": [
       "<div>\n",
       "<style scoped>\n",
       "    .dataframe tbody tr th:only-of-type {\n",
       "        vertical-align: middle;\n",
       "    }\n",
       "\n",
       "    .dataframe tbody tr th {\n",
       "        vertical-align: top;\n",
       "    }\n",
       "\n",
       "    .dataframe thead th {\n",
       "        text-align: right;\n",
       "    }\n",
       "</style>\n",
       "<table border=\"1\" class=\"dataframe\">\n",
       "  <thead>\n",
       "    <tr style=\"text-align: right;\">\n",
       "      <th></th>\n",
       "      <th>country_id</th>\n",
       "      <th>name</th>\n",
       "      <th>code</th>\n",
       "      <th>zone</th>\n",
       "      <th>ipcc_annex</th>\n",
       "      <th>emission_id</th>\n",
       "      <th>country_id</th>\n",
       "      <th>ipcc_id</th>\n",
       "      <th>y_2000</th>\n",
       "      <th>y_2001</th>\n",
       "      <th>...</th>\n",
       "      <th>y_2017</th>\n",
       "      <th>y_2018</th>\n",
       "      <th>y_2019</th>\n",
       "      <th>y_2020</th>\n",
       "      <th>y_2021</th>\n",
       "      <th>y_2022</th>\n",
       "      <th>y_2023</th>\n",
       "      <th>ipcc_id</th>\n",
       "      <th>ipcc_code</th>\n",
       "      <th>ipcc_name</th>\n",
       "    </tr>\n",
       "  </thead>\n",
       "  <tbody>\n",
       "    <tr>\n",
       "      <th>0</th>\n",
       "      <td>225</td>\n",
       "      <td>Aruba</td>\n",
       "      <td>ABW</td>\n",
       "      <td>Rest Central America</td>\n",
       "      <td>Non-Annex_I</td>\n",
       "      <td>1</td>\n",
       "      <td>225</td>\n",
       "      <td>8</td>\n",
       "      <td>143.5935666062</td>\n",
       "      <td>146.6161928686</td>\n",
       "      <td>...</td>\n",
       "      <td>223.4325491867</td>\n",
       "      <td>226.3412257045</td>\n",
       "      <td>268.0309848746</td>\n",
       "      <td>232.9232662866</td>\n",
       "      <td>253.0103102186</td>\n",
       "      <td>251.2783592288</td>\n",
       "      <td>263.5065696296</td>\n",
       "      <td>8</td>\n",
       "      <td>1.A.1.a</td>\n",
       "      <td>Main Activity Electricity and Heat Production</td>\n",
       "    </tr>\n",
       "    <tr>\n",
       "      <th>1</th>\n",
       "      <td>225</td>\n",
       "      <td>Aruba</td>\n",
       "      <td>ABW</td>\n",
       "      <td>Rest Central America</td>\n",
       "      <td>Non-Annex_I</td>\n",
       "      <td>2</td>\n",
       "      <td>225</td>\n",
       "      <td>11</td>\n",
       "      <td>6.6792409451</td>\n",
       "      <td>7.8339209034</td>\n",
       "      <td>...</td>\n",
       "      <td>33.2767257390</td>\n",
       "      <td>28.1992745690</td>\n",
       "      <td>29.3197993639</td>\n",
       "      <td>26.5624616304</td>\n",
       "      <td>34.2086327451</td>\n",
       "      <td>33.9744617530</td>\n",
       "      <td>35.6277950040</td>\n",
       "      <td>11</td>\n",
       "      <td>1.A.2</td>\n",
       "      <td>Manufacturing Industries and Construction</td>\n",
       "    </tr>\n",
       "    <tr>\n",
       "      <th>2</th>\n",
       "      <td>225</td>\n",
       "      <td>Aruba</td>\n",
       "      <td>ABW</td>\n",
       "      <td>Rest Central America</td>\n",
       "      <td>Non-Annex_I</td>\n",
       "      <td>3</td>\n",
       "      <td>225</td>\n",
       "      <td>23</td>\n",
       "      <td>15.0390362479</td>\n",
       "      <td>11.6839640871</td>\n",
       "      <td>...</td>\n",
       "      <td>19.6903132598</td>\n",
       "      <td>16.5848603275</td>\n",
       "      <td>25.4929408791</td>\n",
       "      <td>11.2167622617</td>\n",
       "      <td>12.4732368869</td>\n",
       "      <td>17.6151202385</td>\n",
       "      <td>20.6593659909</td>\n",
       "      <td>23</td>\n",
       "      <td>1.A.3.a</td>\n",
       "      <td>Civil Aviation</td>\n",
       "    </tr>\n",
       "    <tr>\n",
       "      <th>3</th>\n",
       "      <td>225</td>\n",
       "      <td>Aruba</td>\n",
       "      <td>ABW</td>\n",
       "      <td>Rest Central America</td>\n",
       "      <td>Non-Annex_I</td>\n",
       "      <td>4</td>\n",
       "      <td>225</td>\n",
       "      <td>15</td>\n",
       "      <td>80.9371557226</td>\n",
       "      <td>82.4069425714</td>\n",
       "      <td>...</td>\n",
       "      <td>135.4297287961</td>\n",
       "      <td>136.2249664849</td>\n",
       "      <td>165.1255208739</td>\n",
       "      <td>128.3983932191</td>\n",
       "      <td>143.1074358952</td>\n",
       "      <td>142.1278115272</td>\n",
       "      <td>149.0443195325</td>\n",
       "      <td>15</td>\n",
       "      <td>1.A.3.b_noRES</td>\n",
       "      <td>Road Transportation no resuspension</td>\n",
       "    </tr>\n",
       "    <tr>\n",
       "      <th>4</th>\n",
       "      <td>225</td>\n",
       "      <td>Aruba</td>\n",
       "      <td>ABW</td>\n",
       "      <td>Rest Central America</td>\n",
       "      <td>Non-Annex_I</td>\n",
       "      <td>5</td>\n",
       "      <td>225</td>\n",
       "      <td>14</td>\n",
       "      <td>2.1166644282</td>\n",
       "      <td>2.1578040911</td>\n",
       "      <td>...</td>\n",
       "      <td>9.7632527279</td>\n",
       "      <td>9.6157954463</td>\n",
       "      <td>11.3829934655</td>\n",
       "      <td>9.8661856769</td>\n",
       "      <td>10.6968109806</td>\n",
       "      <td>10.8763466736</td>\n",
       "      <td>12.1602195349</td>\n",
       "      <td>14</td>\n",
       "      <td>1.A.3.d</td>\n",
       "      <td>Water-borne Navigation</td>\n",
       "    </tr>\n",
       "  </tbody>\n",
       "</table>\n",
       "<p>5 rows × 35 columns</p>\n",
       "</div>"
      ],
      "text/plain": [
       "   country_id   name code                  zone   ipcc_annex  emission_id  \\\n",
       "0         225  Aruba  ABW  Rest Central America  Non-Annex_I            1   \n",
       "1         225  Aruba  ABW  Rest Central America  Non-Annex_I            2   \n",
       "2         225  Aruba  ABW  Rest Central America  Non-Annex_I            3   \n",
       "3         225  Aruba  ABW  Rest Central America  Non-Annex_I            4   \n",
       "4         225  Aruba  ABW  Rest Central America  Non-Annex_I            5   \n",
       "\n",
       "   country_id ipcc_id          y_2000          y_2001  ...          y_2017  \\\n",
       "0         225       8  143.5935666062  146.6161928686  ...  223.4325491867   \n",
       "1         225      11    6.6792409451    7.8339209034  ...   33.2767257390   \n",
       "2         225      23   15.0390362479   11.6839640871  ...   19.6903132598   \n",
       "3         225      15   80.9371557226   82.4069425714  ...  135.4297287961   \n",
       "4         225      14    2.1166644282    2.1578040911  ...    9.7632527279   \n",
       "\n",
       "           y_2018          y_2019          y_2020          y_2021  \\\n",
       "0  226.3412257045  268.0309848746  232.9232662866  253.0103102186   \n",
       "1   28.1992745690   29.3197993639   26.5624616304   34.2086327451   \n",
       "2   16.5848603275   25.4929408791   11.2167622617   12.4732368869   \n",
       "3  136.2249664849  165.1255208739  128.3983932191  143.1074358952   \n",
       "4    9.6157954463   11.3829934655    9.8661856769   10.6968109806   \n",
       "\n",
       "           y_2022          y_2023 ipcc_id      ipcc_code  \\\n",
       "0  251.2783592288  263.5065696296       8        1.A.1.a   \n",
       "1   33.9744617530   35.6277950040      11          1.A.2   \n",
       "2   17.6151202385   20.6593659909      23        1.A.3.a   \n",
       "3  142.1278115272  149.0443195325      15  1.A.3.b_noRES   \n",
       "4   10.8763466736   12.1602195349      14        1.A.3.d   \n",
       "\n",
       "                                       ipcc_name  \n",
       "0  Main Activity Electricity and Heat Production  \n",
       "1      Manufacturing Industries and Construction  \n",
       "2                                 Civil Aviation  \n",
       "3            Road Transportation no resuspension  \n",
       "4                         Water-borne Navigation  \n",
       "\n",
       "[5 rows x 35 columns]"
      ]
     },
     "execution_count": 153,
     "metadata": {},
     "output_type": "execute_result"
    }
   ],
   "source": [
    "df_combined.head()"
   ]
  },
  {
   "cell_type": "markdown",
   "id": "a0e8fc3b-d4b2-41e7-9a74-d3e7b59d0ef2",
   "metadata": {},
   "source": [
    "## Data Pre-processing"
   ]
  },
  {
   "cell_type": "code",
   "execution_count": 155,
   "id": "68a52530-97fc-4dce-b61f-26b09d63cfd9",
   "metadata": {},
   "outputs": [],
   "source": [
    "#Aggregate Data to create tables"
   ]
  },
  {
   "cell_type": "code",
   "execution_count": 156,
   "id": "ca116fee-66ee-47ce-91de-eb2c106a2b92",
   "metadata": {},
   "outputs": [],
   "source": [
    "df_combined = df_combined.drop([\"country_id\",\"emission_id\",\"country_id\",\"ipcc_id\"],axis=1)"
   ]
  },
  {
   "cell_type": "code",
   "execution_count": 157,
   "id": "7d9caa35-0ab5-4f6e-8cb4-0923e2d70247",
   "metadata": {},
   "outputs": [
    {
     "name": "stdout",
     "output_type": "stream",
     "text": [
      "Index(['ipcc_annex', 'zone', 'code', 'name'], dtype='object')\n",
      "Index(['ipcc_code', 'ipcc_name'], dtype='object')\n",
      "Index(['y_2000', 'y_2001', 'y_2002', 'y_2003', 'y_2004', 'y_2005', 'y_2006',\n",
      "       'y_2007', 'y_2008', 'y_2009', 'y_2010', 'y_2011', 'y_2012', 'y_2013',\n",
      "       'y_2014', 'y_2015', 'y_2016', 'y_2017', 'y_2018', 'y_2019', 'y_2020',\n",
      "       'y_2021', 'y_2022', 'y_2023'],\n",
      "      dtype='object')\n"
     ]
    }
   ],
   "source": [
    "Country_columns = [\"ipcc_annex\",\"zone\",\"code\",\"name\"]\n",
    "Code_columns = [\"ipcc_code\",\"ipcc_name\"]\n",
    "Country = df_combined[Country_columns]\n",
    "Ipcc_code = df_combined.drop(Country_columns,axis=1)[Code_columns]\n",
    "Year = df_combined.drop(Country_columns + Code_columns,axis=1)\n",
    "print(Country.columns)\n",
    "print(Ipcc_code.columns)\n",
    "print(Year.columns)"
   ]
  },
  {
   "cell_type": "code",
   "execution_count": 158,
   "id": "d1f3f6c8-9db7-4396-b707-4461fe7565f1",
   "metadata": {},
   "outputs": [],
   "source": [
    "# Handling missing values\n",
    "df_combined.fillna(0,inplace=True)\n",
    "#remove duplicate records\n",
    "# Country.drop_duplicates(subset=['Name'], keep='first', inplace=True)\n",
    "# Ipcc_code.drop_duplicates(subset=['ipcc_code_2006_for_standard_report'], keep='first', inplace=True)"
   ]
  },
  {
   "cell_type": "code",
   "execution_count": 159,
   "id": "dae11f5c-ebef-412f-b4db-0482067eb62f",
   "metadata": {
    "scrolled": true
   },
   "outputs": [
    {
     "data": {
      "text/plain": [
       "name            0\n",
       "code            0\n",
       "zone            0\n",
       "ipcc_annex      0\n",
       "y_2000        492\n",
       "y_2001        488\n",
       "y_2002        498\n",
       "y_2003        491\n",
       "y_2004        419\n",
       "y_2005        398\n",
       "y_2006        394\n",
       "y_2007        412\n",
       "y_2008        406\n",
       "y_2009        394\n",
       "y_2010        372\n",
       "y_2011        372\n",
       "y_2012        354\n",
       "y_2013        351\n",
       "y_2014        341\n",
       "y_2015        332\n",
       "y_2016        327\n",
       "y_2017        306\n",
       "y_2018        314\n",
       "y_2019        313\n",
       "y_2020        316\n",
       "y_2021        315\n",
       "y_2022        317\n",
       "y_2023        319\n",
       "ipcc_code       0\n",
       "ipcc_name       0\n",
       "dtype: int64"
      ]
     },
     "execution_count": 159,
     "metadata": {},
     "output_type": "execute_result"
    }
   ],
   "source": [
    "df_combined.eq(0).sum()"
   ]
  },
  {
   "cell_type": "markdown",
   "id": "e1def12c-944f-4dd4-91d0-e6628eb3f216",
   "metadata": {},
   "source": [
    "remove year columns before the year 2000. For our analysis we are focusing on the duration between 2000 - 2023"
   ]
  },
  {
   "cell_type": "code",
   "execution_count": 161,
   "id": "15b253ec-09ab-4d32-b1c2-06a9c74dbfd3",
   "metadata": {},
   "outputs": [],
   "source": [
    "year_list=[]\n",
    "for i in range(2000,2024,1):\n",
    "    year_list.append(\"y_\" + str(i))\n",
    "Year = Year[year_list];"
   ]
  },
  {
   "cell_type": "markdown",
   "id": "14baf050-d0a3-47c5-90e4-7ba27e1f3b46",
   "metadata": {},
   "source": [
    "## Insert data into the DB"
   ]
  },
  {
   "cell_type": "code",
   "execution_count": 163,
   "id": "fc84c62e-08b2-4e11-a9ba-2aa5885c206e",
   "metadata": {},
   "outputs": [],
   "source": [
    "load_dotenv(verbose=True)\n",
    "env_path = Path('../../') / '.env'"
   ]
  },
  {
   "cell_type": "code",
   "execution_count": 164,
   "id": "c59fcea4-c406-498d-9528-b6ff9dcc4758",
   "metadata": {},
   "outputs": [],
   "source": [
    "if(load_dotenv(dotenv_path=env_path)):\n",
    "    host = os.environ.get(\"neo_host\")\n",
    "    username = os.environ.get(\"neo_username\")\n",
    "    password = os.environ.get(\"neo_password\")\n",
    "else:\n",
    "    print(\".env file does not have required values!\")"
   ]
  },
  {
   "cell_type": "code",
   "execution_count": 165,
   "id": "f847ec62-a0ff-425a-82d3-e54b2f49e6d9",
   "metadata": {},
   "outputs": [],
   "source": [
    "graph = Graph(host,auth=(username, password))"
   ]
  },
  {
   "cell_type": "code",
   "execution_count": 166,
   "id": "98ffad67-2cb3-48cd-85b0-4415fedb5580",
   "metadata": {},
   "outputs": [],
   "source": [
    "def checkIfNodesAvailable(query):\n",
    "    result = graph.run(query)\n",
    "    record = result.data()\n",
    "    has_nodes = record[0][\"IsNodesPresent\"]\n",
    "    return has_nodes\n",
    "\n",
    "def deleteNodes(query):\n",
    "    try:\n",
    "        result = graph.run(query)\n",
    "    except Neo4jError as e:\n",
    "        print(f\"Error - {e.code} - {e.message}\")\n",
    "        return\n",
    "    except Exception as e:\n",
    "        print(f\"Unexpected Error - {str(e)}\")\n",
    "        return"
   ]
  },
  {
   "cell_type": "code",
   "execution_count": 167,
   "id": "122d0e40-b53a-4a10-8609-32b9e1af381d",
   "metadata": {},
   "outputs": [],
   "source": [
    "def createNodes(row):\n",
    "    try:\n",
    "        country_node = Node(\"country\",code=row[\"code\"],name=row[\"name\"],zone=row[\"zone\"])\n",
    "        graph.merge(country_node,\"country\",\"code\")\n",
    "        ipcc_node = Node(\"ipcc\",ipcc_code = row[\"ipcc_code\"],\n",
    "                      ipcc_name = row[\"ipcc_name\"])\n",
    "         \n",
    "        relation01 = Relationship(country_node,\"UNDER_IPCC_CODE\",ipcc_node)\n",
    "\n",
    "        graph.create(relation01)\n",
    "        emission_node = Node(\"emission\")\n",
    "        total_emission = 0.0\n",
    "        for year_column in [col for col in Year.columns]:\n",
    "            total_emission += float(row[year_column])\n",
    "            emission_node[year_column.replace(\"y_\",\"\")] = float(row[year_column])\n",
    "        emission_node[\"total_emission\"] = total_emission\n",
    "        relation = Relationship(ipcc_node,\"HAS_PRODUCED\",emission_node)\n",
    "        graph.create(relation)\n",
    "    except Neo4jError as e:\n",
    "        print(f\"Error - {e.code} - {e.message}\")\n",
    "        return\n",
    "    except Exception as e:\n",
    "        print(f\"Unexpected Error - {str(e)}\")\n",
    "        return"
   ]
  },
  {
   "cell_type": "code",
   "execution_count": 168,
   "id": "c9d1ad81-283b-4a55-8671-369cf8d509df",
   "metadata": {},
   "outputs": [],
   "source": [
    "check_query = \"\"\"\n",
    "OPTIONAL MATCH (n) WITH n LIMIT 1 \n",
    "RETURN n IS NOT NULL AS IsNodesPresent\n",
    "\"\"\"\n",
    "delete_query=\"\"\"MATCH (n) DETACH DELETE n\"\"\""
   ]
  },
  {
   "cell_type": "code",
   "execution_count": 169,
   "id": "80b3cb35-e5aa-468d-89fc-1f5732a23b8b",
   "metadata": {},
   "outputs": [
    {
     "name": "stdout",
     "output_type": "stream",
     "text": [
      "Nodes are already created and available in the DB!\n",
      "Nodes are deleted and created again\n"
     ]
    }
   ],
   "source": [
    "if(checkIfNodesAvailable(check_query) == False):\n",
    "    for i,row in df_combined.iterrows():\n",
    "        createNodes(row)\n",
    "else:\n",
    "    print(\"Nodes are already created and available in the DB!\")\n",
    "    deleteNodes(delete_query)\n",
    "    for i,row in df_combined.iterrows():\n",
    "        createNodes(row)\n",
    "    print(\"Nodes are deleted and created again\")"
   ]
  },
  {
   "cell_type": "code",
   "execution_count": null,
   "id": "df9e5374-7714-49f3-aa18-40bd9e2a3617",
   "metadata": {},
   "outputs": [],
   "source": []
  }
 ],
 "metadata": {
  "kernelspec": {
   "display_name": "Python [conda env:base] *",
   "language": "python",
   "name": "conda-base-py"
  },
  "language_info": {
   "codemirror_mode": {
    "name": "ipython",
    "version": 3
   },
   "file_extension": ".py",
   "mimetype": "text/x-python",
   "name": "python",
   "nbconvert_exporter": "python",
   "pygments_lexer": "ipython3",
   "version": "3.12.3"
  }
 },
 "nbformat": 4,
 "nbformat_minor": 5
}
