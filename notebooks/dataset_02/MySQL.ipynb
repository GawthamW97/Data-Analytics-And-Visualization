{
 "cells": [
  {
   "cell_type": "code",
   "execution_count": 57,
   "id": "65d2387f-8672-4d89-93cb-6bbb13b55bd8",
   "metadata": {},
   "outputs": [],
   "source": [
    "#!pip install python-dotenv\n",
    "#!pip install dagster papermill jupyter\n",
    "#!pip install mysql-connector-python"
   ]
  },
  {
   "cell_type": "code",
   "execution_count": 58,
   "id": "12580a16-fa4d-4a3d-b006-c1933874a0d1",
   "metadata": {},
   "outputs": [],
   "source": [
    "import pandas as pd\n",
    "import numpy as np\n",
    "import sys\n",
    "import warnings\n",
    "warnings.filterwarnings('ignore')\n",
    "from dotenv import load_dotenv\n",
    "from pathlib import Path"
   ]
  },
  {
   "cell_type": "markdown",
   "id": "72fb5f94-892a-4aeb-be99-7ce30df51573",
   "metadata": {},
   "source": [
    "## Uploading raw data into the MySQL database"
   ]
  },
  {
   "cell_type": "code",
   "execution_count": 60,
   "id": "1018139b-c9eb-492f-a1d0-8fd37f82fb80",
   "metadata": {},
   "outputs": [
    {
     "data": {
      "text/plain": [
       "'C:\\\\Users\\\\Asus\\\\Desktop\\\\Study\\\\Msc DA\\\\Analytics Programming and Data Visualisation\\\\Project\\\\Data-Analytics-And-Visualization\\\\notebooks\\\\dataset_02'"
      ]
     },
     "execution_count": 60,
     "metadata": {},
     "output_type": "execute_result"
    }
   ],
   "source": [
    "import os\n",
    "os.path.abspath(\"\")"
   ]
  },
  {
   "cell_type": "code",
   "execution_count": 61,
   "id": "a3ec2ab1-6c0e-4c2c-971e-35e3fcb94512",
   "metadata": {},
   "outputs": [],
   "source": [
    "file_path = \"data/owid-energy-data.csv\"\n",
    "env_path = \"\"\n",
    "if os.path.exists(file_path) and os.path.isfile(file_path):\n",
    "    env_path = Path('.') / '.env'\n",
    "    print(f\"The file {file_path} exists\")\n",
    "else:\n",
    "    file_path = \"../../data/owid-energy-data.csv\"\n",
    "    env_path = Path('../../') / '.env'\n",
    "dat = pd.read_csv(file_path)"
   ]
  },
  {
   "cell_type": "code",
   "execution_count": 62,
   "id": "5757f646-3a2b-41da-b66e-941a9568ef2f",
   "metadata": {},
   "outputs": [],
   "source": [
    "import mysql.connector     # Python's module for connecting and accessing a MySQL database  "
   ]
  },
  {
   "cell_type": "code",
   "execution_count": 63,
   "id": "8f593221-d82e-4bd9-96bd-e73c8e7f56b7",
   "metadata": {},
   "outputs": [
    {
     "data": {
      "text/plain": [
       "True"
      ]
     },
     "execution_count": 63,
     "metadata": {},
     "output_type": "execute_result"
    }
   ],
   "source": [
    "load_dotenv(verbose=True)"
   ]
  },
  {
   "cell_type": "code",
   "execution_count": 74,
   "id": "ca1f4566-a78b-496b-a5cc-f7016ebb21be",
   "metadata": {},
   "outputs": [],
   "source": [
    "if(load_dotenv(dotenv_path=env_path)):\n",
    "    host = os.environ.get(\"my_host\")\n",
    "    username = os.environ.get(\"my_user\")\n",
    "    password = os.environ.get(\"my_password\")\n",
    "else:\n",
    "    print(\".env file does not have required values!\")"
   ]
  },
  {
   "cell_type": "code",
   "execution_count": 76,
   "id": "93a37974-aeb9-4c3f-81e6-4f09c54904d1",
   "metadata": {},
   "outputs": [
    {
     "name": "stdout",
     "output_type": "stream",
     "text": [
      "Database 'energy_database' created successfully!\n"
     ]
    }
   ],
   "source": [
    "conn = mysql.connector.connect(host=host, user=username, password=password,database=\"\")\n",
    "cursor = conn.cursor()\n",
    "\n",
    "cursor.execute(\"DROP DATABASE IF EXISTS energy_database\")\n",
    "cursor.execute(\"CREATE DATABASE IF NOT EXISTS energy_database\")\n",
    "\n",
    "print(\"Database 'energy_database' created successfully!\")\n",
    "\n",
    "# Close connection\n",
    "cursor.close()\n",
    "conn.close()"
   ]
  },
  {
   "cell_type": "code",
   "execution_count": 78,
   "id": "4ce49c59-f155-4502-ba80-177d91f0634c",
   "metadata": {},
   "outputs": [],
   "source": [
    "# Creating a table for maintaining the raw unprocessed data\n",
    "conn = mysql.connector.connect(host=host, user=username, password=password, database=\"energy_database\")\n",
    "cursor = conn.cursor()\n",
    "# Creating the 'raw_energy_stats' table for unprocessed data\n",
    "cursor.execute(\"\"\"\n",
    "    CREATE TABLE IF NOT EXISTS raw_energy_stats (\n",
    "        iso_code VARCHAR(10),\n",
    "        country VARCHAR(255),\n",
    "        year INT NOT NULL,\n",
    "        population BIGINT,\n",
    "        gdp BIGINT, biofuel_cons_change_pct FLOAT, biofuel_cons_change_twh FLOAT, biofuel_cons_per_capita FLOAT, biofuel_consumption FLOAT, \n",
    "        biofuel_elec_per_capita FLOAT, biofuel_electricity FLOAT, biofuel_share_elec FLOAT, biofuel_share_energy FLOAT, carbon_intensity_elec FLOAT, \n",
    "        coal_cons_change_pct FLOAT, coal_cons_change_twh FLOAT, coal_cons_per_capita FLOAT, coal_consumption FLOAT, coal_elec_per_capita FLOAT, coal_electricity FLOAT, \n",
    "        coal_prod_change_pct FLOAT, coal_prod_change_twh FLOAT, coal_prod_per_capita FLOAT, coal_production FLOAT, coal_share_elec FLOAT, coal_share_energy FLOAT, \n",
    "        electricity_demand FLOAT, electricity_generation FLOAT, electricity_share_energy FLOAT, energy_cons_change_pct FLOAT, \n",
    "        energy_cons_change_twh FLOAT, energy_per_capita FLOAT, energy_per_gdp FLOAT, fossil_cons_change_pct FLOAT, fossil_cons_change_twh FLOAT, \n",
    "        fossil_elec_per_capita FLOAT, fossil_electricity FLOAT, fossil_energy_per_capita FLOAT, fossil_fuel_consumption FLOAT, fossil_share_elec FLOAT, \n",
    "        fossil_share_energy FLOAT, gas_cons_change_pct FLOAT, gas_cons_change_twh FLOAT, gas_consumption FLOAT, gas_elec_per_capita FLOAT, gas_electricity FLOAT, \n",
    "        gas_energy_per_capita FLOAT, gas_prod_change_pct FLOAT, gas_prod_change_twh FLOAT, gas_prod_per_capita FLOAT, gas_production FLOAT, gas_share_elec FLOAT, gas_share_energy FLOAT, \n",
    "        greenhouse_gas_emissions FLOAT, hydro_cons_change_pct FLOAT, hydro_cons_change_twh FLOAT, hydro_consumption FLOAT, hydro_elec_per_capita FLOAT, hydro_electricity FLOAT, hydro_energy_per_capita FLOAT, hydro_share_elec FLOAT, hydro_share_energy FLOAT, \n",
    "        low_carbon_cons_change_pct FLOAT, low_carbon_cons_change_twh FLOAT, low_carbon_consumption FLOAT, low_carbon_elec_per_capita FLOAT, low_carbon_electricity FLOAT, low_carbon_energy_per_capita FLOAT, low_carbon_share_elec FLOAT, low_carbon_share_energy FLOAT, \n",
    "        net_elec_imports FLOAT, net_elec_imports_share_demand FLOAT, nuclear_cons_change_pct FLOAT, nuclear_cons_change_twh FLOAT, nuclear_consumption FLOAT, nuclear_elec_per_capita FLOAT, nuclear_electricity FLOAT, \n",
    "        nuclear_energy_per_capita FLOAT, nuclear_share_elec FLOAT, nuclear_share_energy FLOAT, oil_cons_change_pct FLOAT, \n",
    "        oil_cons_change_twh FLOAT, oil_consumption FLOAT, oil_elec_per_capita FLOAT, oil_electricity FLOAT, oil_energy_per_capita FLOAT, \n",
    "        oil_prod_change_pct FLOAT, oil_prod_change_twh FLOAT, oil_prod_per_capita FLOAT, oil_production FLOAT, oil_share_elec FLOAT, oil_share_energy FLOAT, \n",
    "        other_renewable_consumption FLOAT, other_renewable_electricity FLOAT, other_renewable_exc_biofuel_electricity FLOAT, other_renewables_cons_change_pct FLOAT, other_renewables_cons_change_twh FLOAT, other_renewables_elec_per_capita FLOAT, other_renewables_elec_per_capita_exc_biofuel FLOAT, other_renewables_energy_per_capita FLOAT, other_renewables_share_elec FLOAT, other_renewables_share_elec_exc_biofuel FLOAT, other_renewables_share_energy FLOAT, \n",
    "        per_capita_electricity FLOAT, primary_energy_consumption FLOAT, renewables_cons_change_pct FLOAT, renewables_cons_change_twh FLOAT, renewables_consumption FLOAT, renewables_elec_per_capita FLOAT, renewables_electricity FLOAT, \n",
    "        renewables_energy_per_capita FLOAT, renewables_share_elec FLOAT, renewables_share_energy FLOAT, solar_cons_change_pct FLOAT, solar_cons_change_twh FLOAT, solar_consumption FLOAT, solar_elec_per_capita FLOAT, solar_electricity FLOAT, solar_energy_per_capita FLOAT, solar_share_elec FLOAT, solar_share_energy FLOAT, wind_cons_change_pct FLOAT, wind_cons_change_twh FLOAT, wind_consumption FLOAT, wind_elec_per_capita FLOAT, wind_electricity FLOAT, wind_energy_per_capita FLOAT, wind_share_elec FLOAT, wind_share_energy FLOAT,\n",
    "        UNIQUE KEY unique_record (iso_code, country, year)\n",
    "    )\n",
    "\"\"\")"
   ]
  },
  {
   "cell_type": "code",
   "execution_count": 79,
   "id": "c64551a0-d839-40dc-ba82-75d8ff9610be",
   "metadata": {},
   "outputs": [],
   "source": [
    "# Creating a bulk function to insert the raw data\n",
    "from tqdm import tqdm\n",
    "def insert_energy_stats_bulk(df, cursor, conn, columns=None, batch_size=500):\n",
    "\n",
    "    # Default energy columns if not specified\n",
    "    if columns is None:\n",
    "        columns = ['country', 'year', 'iso_code', 'population', 'gdp', 'biofuel_cons_change_pct', 'biofuel_cons_change_twh', 'biofuel_cons_per_capita', 'biofuel_consumption', 'biofuel_elec_per_capita', 'biofuel_electricity', 'biofuel_share_elec', 'biofuel_share_energy', 'carbon_intensity_elec', 'coal_cons_change_pct', 'coal_cons_change_twh', 'coal_cons_per_capita', 'coal_consumption', 'coal_elec_per_capita', 'coal_electricity', 'coal_prod_change_pct', 'coal_prod_change_twh', 'coal_prod_per_capita', 'coal_production', 'coal_share_elec', 'coal_share_energy', 'electricity_demand', 'electricity_generation', 'electricity_share_energy', 'energy_cons_change_pct', 'energy_cons_change_twh', 'energy_per_capita', 'energy_per_gdp', 'fossil_cons_change_pct', 'fossil_cons_change_twh', 'fossil_elec_per_capita', 'fossil_electricity', 'fossil_energy_per_capita', 'fossil_fuel_consumption', 'fossil_share_elec', 'fossil_share_energy', 'gas_cons_change_pct', 'gas_cons_change_twh', 'gas_consumption', 'gas_elec_per_capita', 'gas_electricity', 'gas_energy_per_capita', 'gas_prod_change_pct', 'gas_prod_change_twh', 'gas_prod_per_capita', 'gas_production', 'gas_share_elec', 'gas_share_energy', 'greenhouse_gas_emissions', 'hydro_cons_change_pct', 'hydro_cons_change_twh', 'hydro_consumption', 'hydro_elec_per_capita', 'hydro_electricity', 'hydro_energy_per_capita', 'hydro_share_elec', 'hydro_share_energy', 'low_carbon_cons_change_pct', 'low_carbon_cons_change_twh', 'low_carbon_consumption', 'low_carbon_elec_per_capita', 'low_carbon_electricity', 'low_carbon_energy_per_capita', 'low_carbon_share_elec', 'low_carbon_share_energy', 'net_elec_imports', 'net_elec_imports_share_demand', 'nuclear_cons_change_pct', 'nuclear_cons_change_twh', 'nuclear_consumption', 'nuclear_elec_per_capita', 'nuclear_electricity', 'nuclear_energy_per_capita', 'nuclear_share_elec', 'nuclear_share_energy', 'oil_cons_change_pct', 'oil_cons_change_twh', 'oil_consumption', 'oil_elec_per_capita', 'oil_electricity', 'oil_energy_per_capita', 'oil_prod_change_pct', 'oil_prod_change_twh', 'oil_prod_per_capita', 'oil_production', 'oil_share_elec', 'oil_share_energy', 'other_renewable_consumption', 'other_renewable_electricity', 'other_renewable_exc_biofuel_electricity', 'other_renewables_cons_change_pct', 'other_renewables_cons_change_twh', 'other_renewables_elec_per_capita', 'other_renewables_elec_per_capita_exc_biofuel', 'other_renewables_energy_per_capita', 'other_renewables_share_elec', 'other_renewables_share_elec_exc_biofuel', 'other_renewables_share_energy', 'per_capita_electricity', 'primary_energy_consumption', 'renewables_cons_change_pct', 'renewables_cons_change_twh', 'renewables_consumption', 'renewables_elec_per_capita', 'renewables_electricity', 'renewables_energy_per_capita', 'renewables_share_elec', 'renewables_share_energy', 'solar_cons_change_pct', 'solar_cons_change_twh', 'solar_consumption', 'solar_elec_per_capita', 'solar_electricity', 'solar_energy_per_capita', 'solar_share_elec', 'solar_share_energy', 'wind_cons_change_pct', 'wind_cons_change_twh', 'wind_consumption', 'wind_elec_per_capita', 'wind_electricity', 'wind_energy_per_capita', 'wind_share_elec', 'wind_share_energy']\n",
    "    \n",
    "    # Keep only relevant columns\n",
    "    energy_df = df[columns].copy()\n",
    "    energy_df = energy_df.replace({np.nan: None})\n",
    "    \n",
    "    print(\"Inserting energy stats into database...\")\n",
    "\n",
    "    placeholders = ', '.join(['%s'] * len(columns))\n",
    "    col_names = ', '.join(columns)\n",
    "    \n",
    "    count = 0\n",
    "\n",
    "    for _, row in tqdm(energy_df.iterrows(), total=len(energy_df)):\n",
    "        try:\n",
    "            values = [row[col] for col in columns]\n",
    "            cursor.execute(f\"\"\"\n",
    "                INSERT IGNORE INTO raw_energy_stats ({col_names})\n",
    "                VALUES ({placeholders})\n",
    "            \"\"\", values)\n",
    "            count += 1\n",
    "\n",
    "            if count % batch_size == 0:\n",
    "                conn.commit()\n",
    "\n",
    "        except Exception as e:\n",
    "            print(f\"Error inserting row: {e}\")\n",
    "\n",
    "    conn.commit()\n",
    "    print(f\"Inserted successfully. Total rows inserted: {count}\")"
   ]
  },
  {
   "cell_type": "code",
   "execution_count": 80,
   "id": "245aefe7-f124-4635-9009-9f406bceb722",
   "metadata": {},
   "outputs": [
    {
     "name": "stdout",
     "output_type": "stream",
     "text": [
      "Inserting energy stats into database...\n"
     ]
    },
    {
     "name": "stderr",
     "output_type": "stream",
     "text": [
      "100%|██████████████████████████████████████████████████████████████████████████| 21812/21812 [00:18<00:00, 1191.06it/s]"
     ]
    },
    {
     "name": "stdout",
     "output_type": "stream",
     "text": [
      "Inserted successfully. Total rows inserted: 21812\n"
     ]
    },
    {
     "name": "stderr",
     "output_type": "stream",
     "text": [
      "\n"
     ]
    }
   ],
   "source": [
    "sel_cols = ['iso_code', 'country', 'year', 'population', 'gdp', 'biofuel_cons_change_pct', 'biofuel_cons_change_twh', 'biofuel_cons_per_capita', 'biofuel_consumption', 'biofuel_elec_per_capita', 'biofuel_electricity', 'biofuel_share_elec', 'biofuel_share_energy', 'carbon_intensity_elec', 'coal_cons_change_pct', 'coal_cons_change_twh', 'coal_cons_per_capita', 'coal_consumption', 'coal_elec_per_capita', 'coal_electricity', 'coal_prod_change_pct', 'coal_prod_change_twh', 'coal_prod_per_capita', 'coal_production', 'coal_share_elec', 'coal_share_energy', 'electricity_demand', 'electricity_generation', 'electricity_share_energy', 'energy_cons_change_pct', 'energy_cons_change_twh', 'energy_per_capita', 'energy_per_gdp', 'fossil_cons_change_pct', 'fossil_cons_change_twh', 'fossil_elec_per_capita', 'fossil_electricity', 'fossil_energy_per_capita', 'fossil_fuel_consumption', 'fossil_share_elec', 'fossil_share_energy', 'gas_cons_change_pct', 'gas_cons_change_twh', 'gas_consumption', 'gas_elec_per_capita', 'gas_electricity', 'gas_energy_per_capita', 'gas_prod_change_pct', 'gas_prod_change_twh', 'gas_prod_per_capita', 'gas_production', 'gas_share_elec', 'gas_share_energy', 'greenhouse_gas_emissions', 'hydro_cons_change_pct', 'hydro_cons_change_twh', 'hydro_consumption', 'hydro_elec_per_capita', 'hydro_electricity', 'hydro_energy_per_capita', 'hydro_share_elec', 'hydro_share_energy', 'low_carbon_cons_change_pct', 'low_carbon_cons_change_twh', 'low_carbon_consumption', 'low_carbon_elec_per_capita', 'low_carbon_electricity', 'low_carbon_energy_per_capita', 'low_carbon_share_elec', 'low_carbon_share_energy', 'net_elec_imports', 'net_elec_imports_share_demand', 'nuclear_cons_change_pct', 'nuclear_cons_change_twh', 'nuclear_consumption', 'nuclear_elec_per_capita', 'nuclear_electricity', 'nuclear_energy_per_capita', 'nuclear_share_elec', 'nuclear_share_energy', 'oil_cons_change_pct', 'oil_cons_change_twh', 'oil_consumption', 'oil_elec_per_capita', 'oil_electricity', 'oil_energy_per_capita', 'oil_prod_change_pct', 'oil_prod_change_twh', 'oil_prod_per_capita', 'oil_production', 'oil_share_elec', 'oil_share_energy', 'other_renewable_consumption', 'other_renewable_electricity', 'other_renewable_exc_biofuel_electricity', 'other_renewables_cons_change_pct', 'other_renewables_cons_change_twh', 'other_renewables_elec_per_capita', 'other_renewables_elec_per_capita_exc_biofuel', 'other_renewables_energy_per_capita', 'other_renewables_share_elec', 'other_renewables_share_elec_exc_biofuel', 'other_renewables_share_energy', 'per_capita_electricity', 'primary_energy_consumption', 'renewables_cons_change_pct', 'renewables_cons_change_twh', 'renewables_consumption', 'renewables_elec_per_capita', 'renewables_electricity', 'renewables_energy_per_capita', 'renewables_share_elec', 'renewables_share_energy', 'solar_cons_change_pct', 'solar_cons_change_twh', 'solar_consumption', 'solar_elec_per_capita', 'solar_electricity', 'solar_energy_per_capita', 'solar_share_elec', 'solar_share_energy', 'wind_cons_change_pct', 'wind_cons_change_twh', 'wind_consumption', 'wind_elec_per_capita', 'wind_electricity', 'wind_energy_per_capita', 'wind_share_elec', 'wind_share_energy']\n",
    "insert_energy_stats_bulk(dat, cursor, conn, columns=sel_cols)"
   ]
  },
  {
   "cell_type": "markdown",
   "id": "945e4523-fc83-4bae-855e-d65389b997c2",
   "metadata": {},
   "source": [
    "### We will try to query the SQL database and see if the data has been properly stored or not."
   ]
  },
  {
   "cell_type": "code",
   "execution_count": 82,
   "id": "a504b117-b3af-4477-a1bc-4bad179b434a",
   "metadata": {},
   "outputs": [],
   "source": [
    "conn = mysql.connector.connect(host=host, user=username, password=password, database=\"energy_database\")\n",
    "\n",
    "query = \"SELECT * FROM raw_energy_stats\""
   ]
  },
  {
   "cell_type": "code",
   "execution_count": 83,
   "id": "66d9aa92-a44d-4e54-b533-f66799adcaef",
   "metadata": {},
   "outputs": [],
   "source": [
    "data = pd.read_sql(query, con = conn)"
   ]
  },
  {
   "cell_type": "code",
   "execution_count": 84,
   "id": "db0b31b3-8f27-404f-a624-fc7992659eb4",
   "metadata": {},
   "outputs": [
    {
     "data": {
      "text/html": [
       "<div>\n",
       "<style scoped>\n",
       "    .dataframe tbody tr th:only-of-type {\n",
       "        vertical-align: middle;\n",
       "    }\n",
       "\n",
       "    .dataframe tbody tr th {\n",
       "        vertical-align: top;\n",
       "    }\n",
       "\n",
       "    .dataframe thead th {\n",
       "        text-align: right;\n",
       "    }\n",
       "</style>\n",
       "<table border=\"1\" class=\"dataframe\">\n",
       "  <thead>\n",
       "    <tr style=\"text-align: right;\">\n",
       "      <th></th>\n",
       "      <th>iso_code</th>\n",
       "      <th>country</th>\n",
       "      <th>year</th>\n",
       "      <th>population</th>\n",
       "      <th>gdp</th>\n",
       "      <th>biofuel_cons_change_pct</th>\n",
       "      <th>biofuel_cons_change_twh</th>\n",
       "      <th>biofuel_cons_per_capita</th>\n",
       "      <th>biofuel_consumption</th>\n",
       "      <th>biofuel_elec_per_capita</th>\n",
       "      <th>...</th>\n",
       "      <th>solar_share_elec</th>\n",
       "      <th>solar_share_energy</th>\n",
       "      <th>wind_cons_change_pct</th>\n",
       "      <th>wind_cons_change_twh</th>\n",
       "      <th>wind_consumption</th>\n",
       "      <th>wind_elec_per_capita</th>\n",
       "      <th>wind_electricity</th>\n",
       "      <th>wind_energy_per_capita</th>\n",
       "      <th>wind_share_elec</th>\n",
       "      <th>wind_share_energy</th>\n",
       "    </tr>\n",
       "  </thead>\n",
       "  <tbody>\n",
       "    <tr>\n",
       "      <th>0</th>\n",
       "      <td>None</td>\n",
       "      <td>ASEAN (Ember)</td>\n",
       "      <td>2000</td>\n",
       "      <td>NaN</td>\n",
       "      <td>NaN</td>\n",
       "      <td>NaN</td>\n",
       "      <td>NaN</td>\n",
       "      <td>NaN</td>\n",
       "      <td>NaN</td>\n",
       "      <td>NaN</td>\n",
       "      <td>...</td>\n",
       "      <td>0.0</td>\n",
       "      <td>NaN</td>\n",
       "      <td>NaN</td>\n",
       "      <td>NaN</td>\n",
       "      <td>NaN</td>\n",
       "      <td>NaN</td>\n",
       "      <td>0.0</td>\n",
       "      <td>NaN</td>\n",
       "      <td>0.0</td>\n",
       "      <td>NaN</td>\n",
       "    </tr>\n",
       "    <tr>\n",
       "      <th>1</th>\n",
       "      <td>None</td>\n",
       "      <td>ASEAN (Ember)</td>\n",
       "      <td>2001</td>\n",
       "      <td>NaN</td>\n",
       "      <td>NaN</td>\n",
       "      <td>NaN</td>\n",
       "      <td>NaN</td>\n",
       "      <td>NaN</td>\n",
       "      <td>NaN</td>\n",
       "      <td>NaN</td>\n",
       "      <td>...</td>\n",
       "      <td>0.0</td>\n",
       "      <td>NaN</td>\n",
       "      <td>NaN</td>\n",
       "      <td>NaN</td>\n",
       "      <td>NaN</td>\n",
       "      <td>NaN</td>\n",
       "      <td>0.0</td>\n",
       "      <td>NaN</td>\n",
       "      <td>0.0</td>\n",
       "      <td>NaN</td>\n",
       "    </tr>\n",
       "    <tr>\n",
       "      <th>2</th>\n",
       "      <td>None</td>\n",
       "      <td>ASEAN (Ember)</td>\n",
       "      <td>2002</td>\n",
       "      <td>NaN</td>\n",
       "      <td>NaN</td>\n",
       "      <td>NaN</td>\n",
       "      <td>NaN</td>\n",
       "      <td>NaN</td>\n",
       "      <td>NaN</td>\n",
       "      <td>NaN</td>\n",
       "      <td>...</td>\n",
       "      <td>0.0</td>\n",
       "      <td>NaN</td>\n",
       "      <td>NaN</td>\n",
       "      <td>NaN</td>\n",
       "      <td>NaN</td>\n",
       "      <td>NaN</td>\n",
       "      <td>0.0</td>\n",
       "      <td>NaN</td>\n",
       "      <td>0.0</td>\n",
       "      <td>NaN</td>\n",
       "    </tr>\n",
       "    <tr>\n",
       "      <th>3</th>\n",
       "      <td>None</td>\n",
       "      <td>ASEAN (Ember)</td>\n",
       "      <td>2003</td>\n",
       "      <td>NaN</td>\n",
       "      <td>NaN</td>\n",
       "      <td>NaN</td>\n",
       "      <td>NaN</td>\n",
       "      <td>NaN</td>\n",
       "      <td>NaN</td>\n",
       "      <td>NaN</td>\n",
       "      <td>...</td>\n",
       "      <td>0.0</td>\n",
       "      <td>NaN</td>\n",
       "      <td>NaN</td>\n",
       "      <td>NaN</td>\n",
       "      <td>NaN</td>\n",
       "      <td>NaN</td>\n",
       "      <td>0.0</td>\n",
       "      <td>NaN</td>\n",
       "      <td>0.0</td>\n",
       "      <td>NaN</td>\n",
       "    </tr>\n",
       "    <tr>\n",
       "      <th>4</th>\n",
       "      <td>None</td>\n",
       "      <td>ASEAN (Ember)</td>\n",
       "      <td>2004</td>\n",
       "      <td>NaN</td>\n",
       "      <td>NaN</td>\n",
       "      <td>NaN</td>\n",
       "      <td>NaN</td>\n",
       "      <td>NaN</td>\n",
       "      <td>NaN</td>\n",
       "      <td>NaN</td>\n",
       "      <td>...</td>\n",
       "      <td>0.0</td>\n",
       "      <td>NaN</td>\n",
       "      <td>NaN</td>\n",
       "      <td>NaN</td>\n",
       "      <td>NaN</td>\n",
       "      <td>NaN</td>\n",
       "      <td>0.0</td>\n",
       "      <td>NaN</td>\n",
       "      <td>0.0</td>\n",
       "      <td>NaN</td>\n",
       "    </tr>\n",
       "  </tbody>\n",
       "</table>\n",
       "<p>5 rows × 129 columns</p>\n",
       "</div>"
      ],
      "text/plain": [
       "  iso_code        country  year  population  gdp  biofuel_cons_change_pct  \\\n",
       "0     None  ASEAN (Ember)  2000         NaN  NaN                      NaN   \n",
       "1     None  ASEAN (Ember)  2001         NaN  NaN                      NaN   \n",
       "2     None  ASEAN (Ember)  2002         NaN  NaN                      NaN   \n",
       "3     None  ASEAN (Ember)  2003         NaN  NaN                      NaN   \n",
       "4     None  ASEAN (Ember)  2004         NaN  NaN                      NaN   \n",
       "\n",
       "   biofuel_cons_change_twh  biofuel_cons_per_capita  biofuel_consumption  \\\n",
       "0                      NaN                      NaN                  NaN   \n",
       "1                      NaN                      NaN                  NaN   \n",
       "2                      NaN                      NaN                  NaN   \n",
       "3                      NaN                      NaN                  NaN   \n",
       "4                      NaN                      NaN                  NaN   \n",
       "\n",
       "   biofuel_elec_per_capita  ...  solar_share_elec  solar_share_energy  \\\n",
       "0                      NaN  ...               0.0                 NaN   \n",
       "1                      NaN  ...               0.0                 NaN   \n",
       "2                      NaN  ...               0.0                 NaN   \n",
       "3                      NaN  ...               0.0                 NaN   \n",
       "4                      NaN  ...               0.0                 NaN   \n",
       "\n",
       "   wind_cons_change_pct  wind_cons_change_twh  wind_consumption  \\\n",
       "0                   NaN                   NaN               NaN   \n",
       "1                   NaN                   NaN               NaN   \n",
       "2                   NaN                   NaN               NaN   \n",
       "3                   NaN                   NaN               NaN   \n",
       "4                   NaN                   NaN               NaN   \n",
       "\n",
       "   wind_elec_per_capita  wind_electricity  wind_energy_per_capita  \\\n",
       "0                   NaN               0.0                     NaN   \n",
       "1                   NaN               0.0                     NaN   \n",
       "2                   NaN               0.0                     NaN   \n",
       "3                   NaN               0.0                     NaN   \n",
       "4                   NaN               0.0                     NaN   \n",
       "\n",
       "   wind_share_elec  wind_share_energy  \n",
       "0              0.0                NaN  \n",
       "1              0.0                NaN  \n",
       "2              0.0                NaN  \n",
       "3              0.0                NaN  \n",
       "4              0.0                NaN  \n",
       "\n",
       "[5 rows x 129 columns]"
      ]
     },
     "execution_count": 84,
     "metadata": {},
     "output_type": "execute_result"
    }
   ],
   "source": [
    "data.head()"
   ]
  },
  {
   "cell_type": "code",
   "execution_count": 85,
   "id": "17ccc2f7-80cb-450d-8220-590ba97ad59a",
   "metadata": {},
   "outputs": [
    {
     "data": {
      "text/plain": [
       "(21812, 129)"
      ]
     },
     "execution_count": 85,
     "metadata": {},
     "output_type": "execute_result"
    }
   ],
   "source": [
    "data.shape"
   ]
  },
  {
   "cell_type": "markdown",
   "id": "73034ce0-50c8-4f75-8b0a-40d75535d8b1",
   "metadata": {},
   "source": [
    "## With this we have finished creating the MySQL database and inserting the raw data. Also, we are able to query the database without any issues.\n",
    "\n",
    "## We will now query the raw data in other .ipynb file and then preprocess it using SQL queries and store in MongoDB. "
   ]
  },
  {
   "cell_type": "code",
   "execution_count": null,
   "id": "fedb43c5-1be9-41b1-8367-389b34c4385a",
   "metadata": {},
   "outputs": [],
   "source": []
  },
  {
   "cell_type": "code",
   "execution_count": null,
   "id": "ebb98c8d-794d-45cf-acaf-cd3e3a85b13c",
   "metadata": {},
   "outputs": [],
   "source": []
  },
  {
   "cell_type": "code",
   "execution_count": null,
   "id": "e721caa6-e4ec-4ced-889b-61097bf9f8a5",
   "metadata": {},
   "outputs": [],
   "source": []
  }
 ],
 "metadata": {
  "kernelspec": {
   "display_name": "Python [conda env:base] *",
   "language": "python",
   "name": "conda-base-py"
  },
  "language_info": {
   "codemirror_mode": {
    "name": "ipython",
    "version": 3
   },
   "file_extension": ".py",
   "mimetype": "text/x-python",
   "name": "python",
   "nbconvert_exporter": "python",
   "pygments_lexer": "ipython3",
   "version": "3.12.3"
  }
 },
 "nbformat": 4,
 "nbformat_minor": 5
}
