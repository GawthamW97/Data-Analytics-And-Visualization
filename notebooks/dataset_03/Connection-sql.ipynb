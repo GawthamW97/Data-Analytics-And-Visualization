{
 "cells": [
  {
   "cell_type": "code",
   "execution_count": 1,
   "id": "7b0d8b55",
   "metadata": {},
   "outputs": [],
   "source": [
    "import pandas as pd\n",
    "from sqlalchemy import create_engine\n",
    "from sqlalchemy.engine import URL"
   ]
  },
  {
   "cell_type": "code",
   "execution_count": 3,
   "id": "49bd8880",
   "metadata": {},
   "outputs": [],
   "source": [
    "# Code to read data from csv converting to dictionary and inserting to mongodb cloud nosql\n",
    "df=pd.read_csv(\"../../data/dataset1.csv\")\n",
    "df_dict=df.to_dict(\"records\")"
   ]
  },
  {
   "cell_type": "code",
   "execution_count": 7,
   "id": "4fa45cd1",
   "metadata": {},
   "outputs": [
    {
     "name": "stdout",
     "output_type": "stream",
     "text": [
      "Connection to the PostgreSQL established successfully.\n"
     ]
    }
   ],
   "source": [
    "### PostgreSQL Connection\n",
    "def get_engine_url():\n",
    "    try:\n",
    "        return URL.create(\n",
    "            drivername=\"postgresql\",\n",
    "            database=\"postgres\",\n",
    "            username=\"postgres\",\n",
    "            password=\"asd123\",\n",
    "            host=\"127.0.0.1\",\n",
    "            port=5432,\n",
    "        )\n",
    "    except Exception as e:\n",
    "        print(f\"Error creating database URL: {e}\")\n",
    "        return None\n",
    "\n",
    "url_obj = get_engine_url()\n",
    "if url_obj:\n",
    "    try:\n",
    "        engine = create_engine(url_obj)\n",
    "        print(\"Connection to the PostgreSQL established successfully.\")\n",
    "    except Exception as e:\n",
    "        print(f\"Connection to the PostgreSQL encountered an error: {e}\")\n",
    "else:\n",
    "    print(\"Failed to construct the database URL.\")\n",
    "df.to_sql(name='projectdata', con=engine, if_exists='replace', index=False)\n",
    "engine.dispose()\n"
   ]
  },
  {
   "cell_type": "code",
   "execution_count": 9,
   "id": "f8c688e0",
   "metadata": {},
   "outputs": [
    {
     "data": {
      "text/plain": [
       "986"
      ]
     },
     "execution_count": 9,
     "metadata": {},
     "output_type": "execute_result"
    }
   ],
   "source": [
    "df.to_sql(name='projectdata', con=engine, if_exists='replace', index=False)"
   ]
  },
  {
   "cell_type": "code",
   "execution_count": 11,
   "id": "ef046e93",
   "metadata": {},
   "outputs": [],
   "source": [
    "engine.dispose()"
   ]
  },
  {
   "cell_type": "code",
   "execution_count": null,
   "id": "c356069f-3111-4597-af85-3c58db8c41a6",
   "metadata": {},
   "outputs": [],
   "source": []
  }
 ],
 "metadata": {
  "kernelspec": {
   "display_name": "Python [conda env:base] *",
   "language": "python",
   "name": "conda-base-py"
  },
  "language_info": {
   "codemirror_mode": {
    "name": "ipython",
    "version": 3
   },
   "file_extension": ".py",
   "mimetype": "text/x-python",
   "name": "python",
   "nbconvert_exporter": "python",
   "pygments_lexer": "ipython3",
   "version": "3.12.3"
  }
 },
 "nbformat": 4,
 "nbformat_minor": 5
}
