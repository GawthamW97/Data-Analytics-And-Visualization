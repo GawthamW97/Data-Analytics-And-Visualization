{
 "cells": [
  {
   "cell_type": "code",
   "execution_count": 27,
   "id": "7b0d8b55",
   "metadata": {},
   "outputs": [],
   "source": [
    "import pandas as pd\n",
    "import os\n",
    "from sqlalchemy import create_engine\n",
    "from sqlalchemy.engine import URL\n",
    "from dotenv import load_dotenv\n",
    "from pathlib import Path "
   ]
  },
  {
   "cell_type": "code",
   "execution_count": 19,
   "id": "49bd8880",
   "metadata": {},
   "outputs": [],
   "source": [
    "# Code to read data from csv converting to dictionary and inserting to mongodb cloud nosql\n",
    "df=pd.read_csv(\"data/dataset1.csv\")"
   ]
  },
  {
   "cell_type": "code",
   "execution_count": 35,
   "id": "4fa45cd1",
   "metadata": {},
   "outputs": [
    {
     "name": "stdout",
     "output_type": "stream",
     "text": [
      "Connection to the PostgreSQL established successfully.\n"
     ]
    }
   ],
   "source": [
    "### PostgreSQL Connection\n",
    "def get_engine_url():\n",
    "    try:\n",
    "        load_dotenv(verbose=True)\n",
    "        env_path = Path('.') / '.env'\n",
    "        if(load_dotenv(dotenv_path=env_path)):\n",
    "            return URL.create(\n",
    "                drivername=os.environ.get(\"pg_drivername\"),\n",
    "                database=os.environ.get(\"pg_database\"),\n",
    "                username=os.environ.get(\"pg_username\"),\n",
    "                password=os.environ.get(\"pg_password\"),\n",
    "                host=os.environ.get(\"pg_host\"),\n",
    "                port=os.environ.get(\"pg_port\"),\n",
    "            )\n",
    "        else:\n",
    "            return None\n",
    "    except Exception as e:\n",
    "        print(f\"Error creating database URL: {e}\")\n",
    "        return None\n",
    "\n",
    "url_obj = get_engine_url()\n",
    "if url_obj:\n",
    "    try:\n",
    "        engine = create_engine(url_obj)\n",
    "        print(\"Connection to the PostgreSQL established successfully.\")\n",
    "    except Exception as e:\n",
    "        print(f\"Connection to the PostgreSQL encountered an error: {e}\")\n",
    "else:\n",
    "    print(\"Failed to construct the database URL.\")"
   ]
  },
  {
   "cell_type": "code",
   "execution_count": 31,
   "id": "f8c688e0",
   "metadata": {},
   "outputs": [
    {
     "data": {
      "text/plain": [
       "986"
      ]
     },
     "execution_count": 31,
     "metadata": {},
     "output_type": "execute_result"
    }
   ],
   "source": [
    "df.to_sql(name='projectdata', con=engine, if_exists='replace', index=False)"
   ]
  },
  {
   "cell_type": "code",
   "execution_count": 33,
   "id": "ef046e93",
   "metadata": {},
   "outputs": [],
   "source": [
    "engine.dispose()"
   ]
  },
  {
   "cell_type": "code",
   "execution_count": null,
   "id": "c356069f-3111-4597-af85-3c58db8c41a6",
   "metadata": {},
   "outputs": [],
   "source": []
  }
 ],
 "metadata": {
  "kernelspec": {
   "display_name": "Python [conda env:base] *",
   "language": "python",
   "name": "conda-base-py"
  },
  "language_info": {
   "codemirror_mode": {
    "name": "ipython",
    "version": 3
   },
   "file_extension": ".py",
   "mimetype": "text/x-python",
   "name": "python",
   "nbconvert_exporter": "python",
   "pygments_lexer": "ipython3",
   "version": "3.12.3"
  }
 },
 "nbformat": 4,
 "nbformat_minor": 5
}
