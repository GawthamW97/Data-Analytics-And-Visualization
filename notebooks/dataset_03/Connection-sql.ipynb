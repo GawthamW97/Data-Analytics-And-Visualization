{
 "cells": [
  {
   "cell_type": "code",
   "execution_count": null,
   "id": "7b0d8b55",
   "metadata": {},
   "outputs": [],
   "source": [
    "import pandas as pd\n",
    "from sqlalchemy import create_engine\n",
    "from sqlalchemy.engine import URL"
   ]
  },
  {
   "cell_type": "code",
   "execution_count": null,
   "id": "49bd8880",
   "metadata": {},
   "outputs": [],
   "source": [
    "# Code to read data from csv converting to dictionary and inserting to mongodb cloud nosql\n",
    "df=pd.read_csv(\"dataset1.csv\")\n",
    "df_dict=df.to_dict(\"records\")  "
   ]
  },
  {
   "cell_type": "code",
   "execution_count": null,
   "id": "4fa45cd1",
   "metadata": {},
   "outputs": [],
   "source": [
    "### PostgreSQL Connection\n",
    "def get_engine_url():\n",
    "    try:\n",
    "        return URL.create(\n",
    "            drivername=\"postgresql\",\n",
    "            database=\"postgres\",\n",
    "            username=\"postgres\",\n",
    "            password=\"root\",\n",
    "            host=\"127.0.0.1\",\n",
    "            port=5432,\n",
    "        )\n",
    "    except Exception as e:\n",
    "        print(f\"Error creating database URL: {e}\")\n",
    "        return None\n",
    "\n",
    "url_obj = get_engine_url()\n",
    "if url_obj:\n",
    "    try:\n",
    "        engine = create_engine(url_obj)\n",
    "        print(\"Connection to the PostgreSQL established successfully.\")\n",
    "    except Exception as e:\n",
    "        print(f\"Connection to the PostgreSQL encountered an error: {e}\")\n",
    "else:\n",
    "    print(\"Failed to construct the database URL.\")\n",
    "df.to_sql(name='projectdata', con=engine, if_exists='replace', index=False)\n",
    "engine.dispose()\n"
   ]
  },
  {
   "cell_type": "code",
   "execution_count": null,
   "id": "f8c688e0",
   "metadata": {},
   "outputs": [],
   "source": [
    "df.to_sql(name='projectdata', con=engine, if_exists='replace', index=False)"
   ]
  },
  {
   "cell_type": "code",
   "execution_count": null,
   "id": "ef046e93",
   "metadata": {},
   "outputs": [],
   "source": [
    "engine.dispose()"
   ]
  }
 ],
 "metadata": {
  "kernelspec": {
   "display_name": "base",
   "language": "python",
   "name": "python3"
  },
  "language_info": {
   "name": "python",
   "version": "3.12.7"
  }
 },
 "nbformat": 4,
 "nbformat_minor": 5
}
