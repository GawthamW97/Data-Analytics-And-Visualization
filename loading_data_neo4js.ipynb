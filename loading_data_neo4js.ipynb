{
 "cells": [
  {
   "cell_type": "markdown",
   "id": "87c6e230-acc8-43d0-96e9-4d3130947203",
   "metadata": {},
   "source": [
    "# Loading Dataset to Neo4JS"
   ]
  },
  {
   "cell_type": "code",
   "execution_count": 39,
   "id": "8bd3b6f6-3365-4a83-a8da-40863f3b9f1c",
   "metadata": {},
   "outputs": [],
   "source": [
    "# pip install neo4j\n",
    "# pip install pandas py2neo"
   ]
  },
  {
   "cell_type": "code",
   "execution_count": 7,
   "id": "02f917ae-1815-4f66-a170-2e329249b28a",
   "metadata": {},
   "outputs": [],
   "source": [
    "import numpy as np\n",
    "import pandas as pd\n",
    "from neo4j import GraphDatabase\n",
    "from neo4j.exceptions import Neo4jError,ServiceUnavailable,ClientError\n",
    "from py2neo import Graph, Node, Relationship"
   ]
  },
  {
   "cell_type": "code",
   "execution_count": 41,
   "id": "fdecc975-ff95-492a-ad14-89982d3dd698",
   "metadata": {},
   "outputs": [],
   "source": [
    "#Intergovernmental Panel on Climate Change - IPCC"
   ]
  },
  {
   "cell_type": "code",
   "execution_count": 42,
   "id": "1e3bd78f-5df9-4fc6-a4c6-9e0a53b0cd14",
   "metadata": {},
   "outputs": [],
   "source": [
    "df = pd.read_excel('IEA_EDGAR_CO2_1970_2023.xlsx',sheet_name=\"IPCC 2006\")"
   ]
  },
  {
   "cell_type": "code",
   "execution_count": 43,
   "id": "43de6589-9c18-40d6-b4b9-302f2d20b924",
   "metadata": {
    "scrolled": true
   },
   "outputs": [
    {
     "data": {
      "text/plain": [
       "<bound method DataFrame.info of        IPCC_annex       C_group_IM24_sh Country_code_A3      Name  \\\n",
       "0     Non-Annex_I  Rest Central America             ABW     Aruba   \n",
       "1     Non-Annex_I  Rest Central America             ABW     Aruba   \n",
       "2     Non-Annex_I  Rest Central America             ABW     Aruba   \n",
       "3     Non-Annex_I  Rest Central America             ABW     Aruba   \n",
       "4     Non-Annex_I  Rest Central America             ABW     Aruba   \n",
       "...           ...                   ...             ...       ...   \n",
       "3523  Non-Annex_I       Southern_Africa             ZWE  Zimbabwe   \n",
       "3524  Non-Annex_I       Southern_Africa             ZWE  Zimbabwe   \n",
       "3525  Non-Annex_I       Southern_Africa             ZWE  Zimbabwe   \n",
       "3526  Non-Annex_I       Southern_Africa             ZWE  Zimbabwe   \n",
       "3527  Non-Annex_I       Southern_Africa             ZWE  Zimbabwe   \n",
       "\n",
       "     ipcc_code_2006_for_standard_report  \\\n",
       "0                               1.A.1.a   \n",
       "1                                 1.A.2   \n",
       "2                               1.A.3.a   \n",
       "3                         1.A.3.b_noRES   \n",
       "4                               1.A.3.d   \n",
       "...                                 ...   \n",
       "3523                                2.B   \n",
       "3524                                2.C   \n",
       "3525                                2.D   \n",
       "3526                              3.C.2   \n",
       "3527                              3.C.3   \n",
       "\n",
       "             ipcc_code_2006_for_standard_report_name Substance fossil_bio  \\\n",
       "0      Main Activity Electricity and Heat Production       CO2     fossil   \n",
       "1          Manufacturing Industries and Construction       CO2     fossil   \n",
       "2                                     Civil Aviation       CO2     fossil   \n",
       "3                Road Transportation no resuspension       CO2     fossil   \n",
       "4                             Water-borne Navigation       CO2     fossil   \n",
       "...                                              ...       ...        ...   \n",
       "3523                               Chemical Industry       CO2     fossil   \n",
       "3524                                  Metal Industry       CO2     fossil   \n",
       "3525  Non-Energy Products from Fuels and Solvent Use       CO2     fossil   \n",
       "3526                                          Liming       CO2     fossil   \n",
       "3527                                Urea application       CO2     fossil   \n",
       "\n",
       "           Y_1970       Y_1971  ...      Y_2014      Y_2015      Y_2016  \\\n",
       "0       17.343706    19.877523  ...  222.238026  230.102165  240.807934   \n",
       "1        0.193087     0.221296  ...   22.208463   24.215383   21.728011   \n",
       "2        0.754306     0.864505  ...   18.429354   18.900723   18.986393   \n",
       "3        1.040720     1.192764  ...  126.415252  135.238780  140.177105   \n",
       "4             NaN          NaN  ...    9.191439    9.637073   10.209681   \n",
       "...           ...          ...  ...         ...         ...         ...   \n",
       "3523    92.565000   155.040000  ...   56.100000   58.650000   10.200000   \n",
       "3524  1366.264892  1211.091876  ...  278.343000  150.267000  101.660000   \n",
       "3525    12.880563    13.635093  ...   36.182498   36.901223   37.477567   \n",
       "3526   220.000000   220.000000  ...   69.038095  116.180952  110.419048   \n",
       "3527          NaN          NaN  ...   22.785710    1.885714    6.914284   \n",
       "\n",
       "          Y_2017      Y_2018      Y_2019      Y_2020      Y_2021      Y_2022  \\\n",
       "0     223.432549  226.341226  268.030985  232.923266  253.010310  251.278359   \n",
       "1      33.276726   28.199275   29.319799   26.562462   34.208633   33.974462   \n",
       "2      19.690313   16.584860   25.492941   11.216762   12.473237   17.615120   \n",
       "3     135.429729  136.224966  165.125521  128.398393  143.107436  142.127812   \n",
       "4       9.763253    9.615795   11.382993    9.866186   10.696811   10.876347   \n",
       "...          ...         ...         ...         ...         ...         ...   \n",
       "3523   30.600000   33.150000   10.200000   10.200000   10.200000   10.200000   \n",
       "3524  185.640000  474.500000  404.950000  174.200000  174.200000  174.200000   \n",
       "3525   38.219053   39.198079   39.560728   39.553170   41.440684   42.886474   \n",
       "3526   69.038095   86.219048   62.333333   58.457143   60.761905   50.830476   \n",
       "3527         NaN         NaN         NaN   16.342854   39.599993   46.137134   \n",
       "\n",
       "          Y_2023  \n",
       "0     263.506570  \n",
       "1      35.627795  \n",
       "2      20.659366  \n",
       "3     149.044320  \n",
       "4      12.160220  \n",
       "...          ...  \n",
       "3523         NaN  \n",
       "3524  174.200000  \n",
       "3525   45.285124  \n",
       "3526   42.522323  \n",
       "3527   53.753423  \n",
       "\n",
       "[3528 rows x 62 columns]>"
      ]
     },
     "execution_count": 43,
     "metadata": {},
     "output_type": "execute_result"
    }
   ],
   "source": [
    "df.info"
   ]
  },
  {
   "cell_type": "code",
   "execution_count": 44,
   "id": "1d22bdbe-4baf-429c-abbb-ba6cce1ae989",
   "metadata": {},
   "outputs": [
    {
     "data": {
      "text/html": [
       "<div>\n",
       "<style scoped>\n",
       "    .dataframe tbody tr th:only-of-type {\n",
       "        vertical-align: middle;\n",
       "    }\n",
       "\n",
       "    .dataframe tbody tr th {\n",
       "        vertical-align: top;\n",
       "    }\n",
       "\n",
       "    .dataframe thead th {\n",
       "        text-align: right;\n",
       "    }\n",
       "</style>\n",
       "<table border=\"1\" class=\"dataframe\">\n",
       "  <thead>\n",
       "    <tr style=\"text-align: right;\">\n",
       "      <th></th>\n",
       "      <th>IPCC_annex</th>\n",
       "      <th>C_group_IM24_sh</th>\n",
       "      <th>Country_code_A3</th>\n",
       "      <th>Name</th>\n",
       "      <th>ipcc_code_2006_for_standard_report</th>\n",
       "      <th>ipcc_code_2006_for_standard_report_name</th>\n",
       "      <th>Substance</th>\n",
       "      <th>fossil_bio</th>\n",
       "      <th>Y_1970</th>\n",
       "      <th>Y_1971</th>\n",
       "      <th>...</th>\n",
       "      <th>Y_2014</th>\n",
       "      <th>Y_2015</th>\n",
       "      <th>Y_2016</th>\n",
       "      <th>Y_2017</th>\n",
       "      <th>Y_2018</th>\n",
       "      <th>Y_2019</th>\n",
       "      <th>Y_2020</th>\n",
       "      <th>Y_2021</th>\n",
       "      <th>Y_2022</th>\n",
       "      <th>Y_2023</th>\n",
       "    </tr>\n",
       "  </thead>\n",
       "  <tbody>\n",
       "    <tr>\n",
       "      <th>0</th>\n",
       "      <td>Non-Annex_I</td>\n",
       "      <td>Rest Central America</td>\n",
       "      <td>ABW</td>\n",
       "      <td>Aruba</td>\n",
       "      <td>1.A.1.a</td>\n",
       "      <td>Main Activity Electricity and Heat Production</td>\n",
       "      <td>CO2</td>\n",
       "      <td>fossil</td>\n",
       "      <td>17.343706</td>\n",
       "      <td>19.877523</td>\n",
       "      <td>...</td>\n",
       "      <td>222.238026</td>\n",
       "      <td>230.102165</td>\n",
       "      <td>240.807934</td>\n",
       "      <td>223.432549</td>\n",
       "      <td>226.341226</td>\n",
       "      <td>268.030985</td>\n",
       "      <td>232.923266</td>\n",
       "      <td>253.010310</td>\n",
       "      <td>251.278359</td>\n",
       "      <td>263.506570</td>\n",
       "    </tr>\n",
       "    <tr>\n",
       "      <th>1</th>\n",
       "      <td>Non-Annex_I</td>\n",
       "      <td>Rest Central America</td>\n",
       "      <td>ABW</td>\n",
       "      <td>Aruba</td>\n",
       "      <td>1.A.2</td>\n",
       "      <td>Manufacturing Industries and Construction</td>\n",
       "      <td>CO2</td>\n",
       "      <td>fossil</td>\n",
       "      <td>0.193087</td>\n",
       "      <td>0.221296</td>\n",
       "      <td>...</td>\n",
       "      <td>22.208463</td>\n",
       "      <td>24.215383</td>\n",
       "      <td>21.728011</td>\n",
       "      <td>33.276726</td>\n",
       "      <td>28.199275</td>\n",
       "      <td>29.319799</td>\n",
       "      <td>26.562462</td>\n",
       "      <td>34.208633</td>\n",
       "      <td>33.974462</td>\n",
       "      <td>35.627795</td>\n",
       "    </tr>\n",
       "    <tr>\n",
       "      <th>2</th>\n",
       "      <td>Non-Annex_I</td>\n",
       "      <td>Rest Central America</td>\n",
       "      <td>ABW</td>\n",
       "      <td>Aruba</td>\n",
       "      <td>1.A.3.a</td>\n",
       "      <td>Civil Aviation</td>\n",
       "      <td>CO2</td>\n",
       "      <td>fossil</td>\n",
       "      <td>0.754306</td>\n",
       "      <td>0.864505</td>\n",
       "      <td>...</td>\n",
       "      <td>18.429354</td>\n",
       "      <td>18.900723</td>\n",
       "      <td>18.986393</td>\n",
       "      <td>19.690313</td>\n",
       "      <td>16.584860</td>\n",
       "      <td>25.492941</td>\n",
       "      <td>11.216762</td>\n",
       "      <td>12.473237</td>\n",
       "      <td>17.615120</td>\n",
       "      <td>20.659366</td>\n",
       "    </tr>\n",
       "    <tr>\n",
       "      <th>3</th>\n",
       "      <td>Non-Annex_I</td>\n",
       "      <td>Rest Central America</td>\n",
       "      <td>ABW</td>\n",
       "      <td>Aruba</td>\n",
       "      <td>1.A.3.b_noRES</td>\n",
       "      <td>Road Transportation no resuspension</td>\n",
       "      <td>CO2</td>\n",
       "      <td>fossil</td>\n",
       "      <td>1.040720</td>\n",
       "      <td>1.192764</td>\n",
       "      <td>...</td>\n",
       "      <td>126.415252</td>\n",
       "      <td>135.238780</td>\n",
       "      <td>140.177105</td>\n",
       "      <td>135.429729</td>\n",
       "      <td>136.224966</td>\n",
       "      <td>165.125521</td>\n",
       "      <td>128.398393</td>\n",
       "      <td>143.107436</td>\n",
       "      <td>142.127812</td>\n",
       "      <td>149.044320</td>\n",
       "    </tr>\n",
       "    <tr>\n",
       "      <th>4</th>\n",
       "      <td>Non-Annex_I</td>\n",
       "      <td>Rest Central America</td>\n",
       "      <td>ABW</td>\n",
       "      <td>Aruba</td>\n",
       "      <td>1.A.3.d</td>\n",
       "      <td>Water-borne Navigation</td>\n",
       "      <td>CO2</td>\n",
       "      <td>fossil</td>\n",
       "      <td>NaN</td>\n",
       "      <td>NaN</td>\n",
       "      <td>...</td>\n",
       "      <td>9.191439</td>\n",
       "      <td>9.637073</td>\n",
       "      <td>10.209681</td>\n",
       "      <td>9.763253</td>\n",
       "      <td>9.615795</td>\n",
       "      <td>11.382993</td>\n",
       "      <td>9.866186</td>\n",
       "      <td>10.696811</td>\n",
       "      <td>10.876347</td>\n",
       "      <td>12.160220</td>\n",
       "    </tr>\n",
       "  </tbody>\n",
       "</table>\n",
       "<p>5 rows × 62 columns</p>\n",
       "</div>"
      ],
      "text/plain": [
       "    IPCC_annex       C_group_IM24_sh Country_code_A3   Name  \\\n",
       "0  Non-Annex_I  Rest Central America             ABW  Aruba   \n",
       "1  Non-Annex_I  Rest Central America             ABW  Aruba   \n",
       "2  Non-Annex_I  Rest Central America             ABW  Aruba   \n",
       "3  Non-Annex_I  Rest Central America             ABW  Aruba   \n",
       "4  Non-Annex_I  Rest Central America             ABW  Aruba   \n",
       "\n",
       "  ipcc_code_2006_for_standard_report  \\\n",
       "0                            1.A.1.a   \n",
       "1                              1.A.2   \n",
       "2                            1.A.3.a   \n",
       "3                      1.A.3.b_noRES   \n",
       "4                            1.A.3.d   \n",
       "\n",
       "         ipcc_code_2006_for_standard_report_name Substance fossil_bio  \\\n",
       "0  Main Activity Electricity and Heat Production       CO2     fossil   \n",
       "1      Manufacturing Industries and Construction       CO2     fossil   \n",
       "2                                 Civil Aviation       CO2     fossil   \n",
       "3            Road Transportation no resuspension       CO2     fossil   \n",
       "4                         Water-borne Navigation       CO2     fossil   \n",
       "\n",
       "      Y_1970     Y_1971  ...      Y_2014      Y_2015      Y_2016      Y_2017  \\\n",
       "0  17.343706  19.877523  ...  222.238026  230.102165  240.807934  223.432549   \n",
       "1   0.193087   0.221296  ...   22.208463   24.215383   21.728011   33.276726   \n",
       "2   0.754306   0.864505  ...   18.429354   18.900723   18.986393   19.690313   \n",
       "3   1.040720   1.192764  ...  126.415252  135.238780  140.177105  135.429729   \n",
       "4        NaN        NaN  ...    9.191439    9.637073   10.209681    9.763253   \n",
       "\n",
       "       Y_2018      Y_2019      Y_2020      Y_2021      Y_2022      Y_2023  \n",
       "0  226.341226  268.030985  232.923266  253.010310  251.278359  263.506570  \n",
       "1   28.199275   29.319799   26.562462   34.208633   33.974462   35.627795  \n",
       "2   16.584860   25.492941   11.216762   12.473237   17.615120   20.659366  \n",
       "3  136.224966  165.125521  128.398393  143.107436  142.127812  149.044320  \n",
       "4    9.615795   11.382993    9.866186   10.696811   10.876347   12.160220  \n",
       "\n",
       "[5 rows x 62 columns]"
      ]
     },
     "execution_count": 44,
     "metadata": {},
     "output_type": "execute_result"
    }
   ],
   "source": [
    "df.head()"
   ]
  },
  {
   "cell_type": "code",
   "execution_count": 11,
   "id": "00abe863-7e9b-4351-9c0a-5412a5f4c1b6",
   "metadata": {},
   "outputs": [],
   "source": [
    "def connectToDataBases():\n",
    "    try:\n",
    "        URI = \"bolt://localhost:7687\"\n",
    "        AUTH = (\"neo4j\", \"asd123asd123\")\n",
    "        \n",
    "        driver = GraphDatabase.driver(URI, auth=AUTH)\n",
    "        return driver\n",
    "    except Neo4jError as e:\n",
    "        print(f\"Error when connecting to DB - {e.code} - {e.message}\")"
   ]
  },
  {
   "cell_type": "markdown",
   "id": "a0e8fc3b-d4b2-41e7-9a74-d3e7b59d0ef2",
   "metadata": {},
   "source": [
    "## Data Pre-processing"
   ]
  },
  {
   "cell_type": "code",
   "execution_count": 47,
   "id": "68a52530-97fc-4dce-b61f-26b09d63cfd9",
   "metadata": {},
   "outputs": [],
   "source": [
    "#Aggregate Data to create tables"
   ]
  },
  {
   "cell_type": "code",
   "execution_count": 48,
   "id": "ca116fee-66ee-47ce-91de-eb2c106a2b92",
   "metadata": {},
   "outputs": [],
   "source": [
    "df = df.drop([\"Substance\",\"fossil_bio\"],axis=1)"
   ]
  },
  {
   "cell_type": "code",
   "execution_count": 49,
   "id": "7d9caa35-0ab5-4f6e-8cb4-0923e2d70247",
   "metadata": {},
   "outputs": [
    {
     "name": "stdout",
     "output_type": "stream",
     "text": [
      "Index(['IPCC_annex', 'C_group_IM24_sh', 'Country_code_A3', 'Name'], dtype='object')\n",
      "Index(['ipcc_code_2006_for_standard_report', 'ipcc_code_2006_for_standard_report_name'], dtype='object')\n",
      "Index(['Y_1970', 'Y_1971', 'Y_1972', 'Y_1973', 'Y_1974', 'Y_1975', 'Y_1976',\n",
      "       'Y_1977', 'Y_1978', 'Y_1979', 'Y_1980', 'Y_1981', 'Y_1982', 'Y_1983',\n",
      "       'Y_1984', 'Y_1985', 'Y_1986', 'Y_1987', 'Y_1988', 'Y_1989', 'Y_1990',\n",
      "       'Y_1991', 'Y_1992', 'Y_1993', 'Y_1994', 'Y_1995', 'Y_1996', 'Y_1997',\n",
      "       'Y_1998', 'Y_1999', 'Y_2000', 'Y_2001', 'Y_2002', 'Y_2003', 'Y_2004',\n",
      "       'Y_2005', 'Y_2006', 'Y_2007', 'Y_2008', 'Y_2009', 'Y_2010', 'Y_2011',\n",
      "       'Y_2012', 'Y_2013', 'Y_2014', 'Y_2015', 'Y_2016', 'Y_2017', 'Y_2018',\n",
      "       'Y_2019', 'Y_2020', 'Y_2021', 'Y_2022', 'Y_2023'],\n",
      "      dtype='object')\n"
     ]
    }
   ],
   "source": [
    "Country_columns = [\"IPCC_annex\",\"C_group_IM24_sh\",\"Country_code_A3\",\"Name\"]\n",
    "Code_columns = [\"ipcc_code_2006_for_standard_report\",\"ipcc_code_2006_for_standard_report_name\"]\n",
    "Country = df[Country_columns]\n",
    "Ipcc_code = df.drop(Country_columns,axis=1)[Code_columns]\n",
    "Year = df.drop(Country_columns + Code_columns,axis=1)\n",
    "print(Country.columns)\n",
    "print(Ipcc_code.columns)\n",
    "print(Year.columns)"
   ]
  },
  {
   "cell_type": "code",
   "execution_count": 50,
   "id": "d1f3f6c8-9db7-4396-b707-4461fe7565f1",
   "metadata": {},
   "outputs": [
    {
     "name": "stderr",
     "output_type": "stream",
     "text": [
      "C:\\Users\\Asus\\AppData\\Local\\Temp\\ipykernel_1028\\1266274492.py:2: FutureWarning: Setting an item of incompatible dtype is deprecated and will raise an error in a future version of pandas. Value 'Unknown' has dtype incompatible with float64, please explicitly cast to a compatible dtype first.\n",
      "  df.fillna('Unknown',inplace=True)\n"
     ]
    }
   ],
   "source": [
    "# Handling missing values\n",
    "df.fillna('Unknown',inplace=True)\n",
    "#remove duplicate records\n",
    "# Country.drop_duplicates(subset=['Name'], keep='first', inplace=True)\n",
    "# Ipcc_code.drop_duplicates(subset=['ipcc_code_2006_for_standard_report'], keep='first', inplace=True)"
   ]
  },
  {
   "cell_type": "code",
   "execution_count": 88,
   "id": "dae11f5c-ebef-412f-b4db-0482067eb62f",
   "metadata": {
    "scrolled": true
   },
   "outputs": [
    {
     "data": {
      "text/plain": [
       "IPCC_annex                                   0\n",
       "C_group_IM24_sh                              0\n",
       "Country_code_A3                              0\n",
       "Name                                         0\n",
       "ipcc_code_2006_for_standard_report           0\n",
       "ipcc_code_2006_for_standard_report_name      0\n",
       "Y_1970                                     746\n",
       "Y_1971                                     740\n",
       "Y_1972                                     738\n",
       "Y_1973                                     730\n",
       "Y_1974                                     705\n",
       "Y_1975                                     698\n",
       "Y_1976                                     692\n",
       "Y_1977                                     710\n",
       "Y_1978                                     651\n",
       "Y_1979                                     653\n",
       "Y_1980                                     650\n",
       "Y_1981                                     633\n",
       "Y_1982                                     651\n",
       "Y_1983                                     643\n",
       "Y_1984                                     639\n",
       "Y_1985                                     636\n",
       "Y_1986                                     639\n",
       "Y_1987                                     636\n",
       "Y_1988                                     640\n",
       "Y_1989                                     631\n",
       "Y_1990                                     541\n",
       "Y_1991                                     538\n",
       "Y_1992                                     528\n",
       "Y_1993                                     516\n",
       "Y_1994                                     509\n",
       "Y_1995                                     504\n",
       "Y_1996                                     479\n",
       "Y_1997                                     463\n",
       "Y_1998                                     481\n",
       "Y_1999                                     497\n",
       "Y_2000                                     492\n",
       "Y_2001                                     488\n",
       "Y_2002                                     498\n",
       "Y_2003                                     490\n",
       "Y_2004                                     418\n",
       "Y_2005                                     398\n",
       "Y_2006                                     394\n",
       "Y_2007                                     412\n",
       "Y_2008                                     405\n",
       "Y_2009                                     393\n",
       "Y_2010                                     371\n",
       "Y_2011                                     370\n",
       "Y_2012                                     352\n",
       "Y_2013                                     349\n",
       "Y_2014                                     339\n",
       "Y_2015                                     330\n",
       "Y_2016                                     325\n",
       "Y_2017                                     304\n",
       "Y_2018                                     312\n",
       "Y_2019                                     310\n",
       "Y_2020                                     312\n",
       "Y_2021                                     312\n",
       "Y_2022                                     311\n",
       "Y_2023                                     313\n",
       "dtype: int64"
      ]
     },
     "execution_count": 88,
     "metadata": {},
     "output_type": "execute_result"
    }
   ],
   "source": [
    "df.eq(\"Unknown\").sum()"
   ]
  },
  {
   "cell_type": "code",
   "execution_count": 51,
   "id": "585cd4a9-6212-4850-9a94-a42034b68885",
   "metadata": {},
   "outputs": [],
   "source": [
    "def create_node(tx, label, properties):\n",
    "    query = (\n",
    "        f\"CREATE (n:{label} $props) \"\n",
    "        \"RETURN n\"\n",
    "    )\n",
    "    result = tx.run(query, props=properties)\n",
    "    return result.single()[0]"
   ]
  },
  {
   "cell_type": "code",
   "execution_count": 52,
   "id": "b47c6020-e823-475d-bcae-2adae2955aa4",
   "metadata": {},
   "outputs": [],
   "source": [
    "driver = connectToDataBases()"
   ]
  },
  {
   "cell_type": "code",
   "execution_count": 53,
   "id": "f847ec62-a0ff-425a-82d3-e54b2f49e6d9",
   "metadata": {},
   "outputs": [],
   "source": [
    "graph = Graph(\"bolt://localhost:7687\",auth=(\"neo4j\", \"asd123asd123\"))"
   ]
  },
  {
   "cell_type": "code",
   "execution_count": 110,
   "id": "98ffad67-2cb3-48cd-85b0-4415fedb5580",
   "metadata": {},
   "outputs": [],
   "source": [
    "def checkIfNodesAvailable(query):\n",
    "    result = graph.run(query)\n",
    "    record = result.data()\n",
    "    has_nodes = record[0][\"IsNodesPresent\"]\n",
    "    return has_nodes"
   ]
  },
  {
   "cell_type": "code",
   "execution_count": 9,
   "id": "122d0e40-b53a-4a10-8609-32b9e1af381d",
   "metadata": {},
   "outputs": [],
   "source": [
    "def createNodes():\n",
    "    try:\n",
    "        for i,row in df.iterrows():\n",
    "            country_node = Node(\"Country\",code=row[\"Country_code_A3\"],name=row[\"Name\"],zone=row[\"C_group_IM24_sh\"])\n",
    "            graph.merge(country_node,\"Country\",\"code\")\n",
    "    \n",
    "            emission_node = Node(\"Emission\",ipcc_code = row[\"ipcc_code_2006_for_standard_report\"],\n",
    "                         ipcc_name = row[\"ipcc_code_2006_for_standard_report_name\"])\n",
    "    \n",
    "            for year_column in [col for col in Year.columns]:\n",
    "                emission_node[year_column] = row[year_column]\n",
    "            graph.merge(emission_node,\"Emission\",\"ipcc_code\")\n",
    "    \n",
    "            relation = Relationship(country_node,\"HAS_PRODUCED\",emission_node)\n",
    "            graph.create(relation)\n",
    "    except Neo4jError as e:\n",
    "        print(f\"Error - {e.code} - {e.message}\")\n",
    "    except Exception as e:\n",
    "        print(f\"Unexpected Error - {str(e)}\")\n",
    "        "
   ]
  },
  {
   "cell_type": "code",
   "execution_count": 228,
   "id": "69c3aea3-bf27-4d1b-b714-6bc4f55a92c4",
   "metadata": {},
   "outputs": [],
   "source": [
    "check_query = \"\"\"\n",
    "OPTIONAL MATCH (n) WITH n LIMIT 1 \n",
    "RETURN n IS NOT NULL AS IsNodesPresent\n",
    "\"\"\""
   ]
  },
  {
   "cell_type": "code",
   "execution_count": 146,
   "id": "80b3cb35-e5aa-468d-89fc-1f5732a23b8b",
   "metadata": {},
   "outputs": [
    {
     "name": "stdout",
     "output_type": "stream",
     "text": [
      "Nodes are already created and available in the DB!\n"
     ]
    }
   ],
   "source": [
    "if(checkIfNodesAvailable(check_query) == False):\n",
    "    createNodes()\n",
    "else:\n",
    "    print(\"Nodes are already created and available in the DB!\")"
   ]
  },
  {
   "cell_type": "code",
   "execution_count": null,
   "id": "df9e5374-7714-49f3-aa18-40bd9e2a3617",
   "metadata": {},
   "outputs": [],
   "source": []
  }
 ],
 "metadata": {
  "kernelspec": {
   "display_name": "Python [conda env:base] *",
   "language": "python",
   "name": "conda-base-py"
  },
  "language_info": {
   "codemirror_mode": {
    "name": "ipython",
    "version": 3
   },
   "file_extension": ".py",
   "mimetype": "text/x-python",
   "name": "python",
   "nbconvert_exporter": "python",
   "pygments_lexer": "ipython3",
   "version": "3.12.3"
  }
 },
 "nbformat": 4,
 "nbformat_minor": 5
}
