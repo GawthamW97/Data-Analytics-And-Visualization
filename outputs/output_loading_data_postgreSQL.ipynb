{
 "cells": [
  {
   "cell_type": "markdown",
   "id": "f415bc3c-dd29-4511-802e-1852d45647e7",
   "metadata": {
    "papermill": {
     "duration": 0.003005,
     "end_time": "2025-04-24T23:20:10.005847",
     "exception": false,
     "start_time": "2025-04-24T23:20:10.002842",
     "status": "completed"
    },
    "tags": []
   },
   "source": [
    "# Loading Dataset to PostgreSQL"
   ]
  },
  {
   "cell_type": "code",
   "execution_count": 1,
   "id": "a63816c7-b9c5-4cfd-b3d7-b27971537b0c",
   "metadata": {
    "execution": {
     "iopub.execute_input": "2025-04-24T23:20:10.012816Z",
     "iopub.status.busy": "2025-04-24T23:20:10.012816Z",
     "iopub.status.idle": "2025-04-24T23:20:10.017468Z",
     "shell.execute_reply": "2025-04-24T23:20:10.017468Z"
    },
    "papermill": {
     "duration": 0.010631,
     "end_time": "2025-04-24T23:20:10.020455",
     "exception": false,
     "start_time": "2025-04-24T23:20:10.009824",
     "status": "completed"
    },
    "tags": []
   },
   "outputs": [],
   "source": [
    "# pip install psycopg2"
   ]
  },
  {
   "cell_type": "code",
   "execution_count": 2,
   "id": "c6d5bc65-0268-44f0-8fc1-8acf8022faf0",
   "metadata": {
    "execution": {
     "iopub.execute_input": "2025-04-24T23:20:10.029432Z",
     "iopub.status.busy": "2025-04-24T23:20:10.028435Z",
     "iopub.status.idle": "2025-04-24T23:20:10.689517Z",
     "shell.execute_reply": "2025-04-24T23:20:10.689517Z"
    },
    "papermill": {
     "duration": 0.66706,
     "end_time": "2025-04-24T23:20:10.690508",
     "exception": false,
     "start_time": "2025-04-24T23:20:10.023448",
     "status": "completed"
    },
    "tags": []
   },
   "outputs": [],
   "source": [
    "import os\n",
    "\n",
    "import psycopg2\n",
    "import psycopg2.extras as extras\n",
    "import pandas as pd\n",
    "import numpy as np\n",
    "from dotenv import load_dotenv\n",
    "from pathlib import Path "
   ]
  },
  {
   "cell_type": "code",
   "execution_count": 3,
   "id": "c2f92eca-084f-447d-8dcb-31cf8c5a8484",
   "metadata": {
    "execution": {
     "iopub.execute_input": "2025-04-24T23:20:10.698488Z",
     "iopub.status.busy": "2025-04-24T23:20:10.698488Z",
     "iopub.status.idle": "2025-04-24T23:20:13.376079Z",
     "shell.execute_reply": "2025-04-24T23:20:13.376079Z"
    },
    "papermill": {
     "duration": 2.684563,
     "end_time": "2025-04-24T23:20:13.378063",
     "exception": false,
     "start_time": "2025-04-24T23:20:10.693500",
     "status": "completed"
    },
    "tags": []
   },
   "outputs": [
    {
     "name": "stdout",
     "output_type": "stream",
     "text": [
      "The file data/IEA_EDGAR_CO2_1970_2023.xlsx exists\n"
     ]
    }
   ],
   "source": [
    "file_path = \"data/IEA_EDGAR_CO2_1970_2023.xlsx\"\n",
    "env_path = \"\"\n",
    "if os.path.exists(file_path) and os.path.isfile(file_path):\n",
    "    env_path = Path('.') / '.env'\n",
    "    print(f\"The file {file_path} exists\")\n",
    "else:\n",
    "    file_path = \"../../data/IEA_EDGAR_CO2_1970_2023.xlsx\"\n",
    "    env_path = Path('../../') / '.env'\n",
    "df = pd.read_excel(file_path,sheet_name=\"IPCC 2006\",skiprows=9)"
   ]
  },
  {
   "cell_type": "code",
   "execution_count": 4,
   "id": "a31a3f24-74f3-43f1-ac25-2f5d7bf8858f",
   "metadata": {
    "execution": {
     "iopub.execute_input": "2025-04-24T23:20:13.386042Z",
     "iopub.status.busy": "2025-04-24T23:20:13.386042Z",
     "iopub.status.idle": "2025-04-24T23:20:13.399692Z",
     "shell.execute_reply": "2025-04-24T23:20:13.399692Z"
    },
    "papermill": {
     "duration": 0.020634,
     "end_time": "2025-04-24T23:20:13.401690",
     "exception": false,
     "start_time": "2025-04-24T23:20:13.381056",
     "status": "completed"
    },
    "tags": []
   },
   "outputs": [],
   "source": [
    "df = df.rename(columns={\"C_group_IM24_sh\":\"zone\",\"Country_code_A3\":\"code\"})\n",
    "df = df.rename(columns={\"ipcc_code_2006_for_standard_report\":\"ipcc_code\",\"ipcc_code_2006_for_standard_report_name\":\"ipcc_name\"})\n",
    "df.fillna(0,inplace=True)"
   ]
  },
  {
   "cell_type": "code",
   "execution_count": 5,
   "id": "25c34892-4370-4528-a9df-5e6a0ea9817b",
   "metadata": {
    "execution": {
     "iopub.execute_input": "2025-04-24T23:20:13.410666Z",
     "iopub.status.busy": "2025-04-24T23:20:13.409682Z",
     "iopub.status.idle": "2025-04-24T23:20:13.414248Z",
     "shell.execute_reply": "2025-04-24T23:20:13.414248Z"
    },
    "papermill": {
     "duration": 0.010559,
     "end_time": "2025-04-24T23:20:13.415243",
     "exception": false,
     "start_time": "2025-04-24T23:20:13.404684",
     "status": "completed"
    },
    "tags": []
   },
   "outputs": [],
   "source": [
    "create_queries = {\"country\":\n",
    "    \"\"\"\n",
    "    CREATE TABLE country(\n",
    "        country_id SERIAL PRIMARY KEY,\n",
    "        name VARCHAR(255),\n",
    "        code VARCHAR(3),\n",
    "        zone VARCHAR(25),\n",
    "        ipcc_annex VARCHAR(25)\n",
    "    )\n",
    "    \"\"\"\n",
    "    ,\"ipcc\":\n",
    "    \"\"\"\n",
    "    CREATE TABLE ipcc(\n",
    "        ipcc_id SERIAL PRIMARY KEY,\n",
    "        ipcc_code VARCHAR(15),\n",
    "        ipcc_name VARCHAR(255)\n",
    "    )\n",
    "    \"\"\"\n",
    "    ,\"emission\":\n",
    "    \"\"\"\n",
    "    CREATE TABLE emission(\n",
    "        emission_id SERIAL PRIMARY KEY,\n",
    "        country_id INTEGER REFERENCES country(country_id),\n",
    "        ipcc_id INTEGER REFERENCES ipcc(ipcc_id) {columns}, UNIQUE(country_id,ipcc_id)\n",
    "    )\n",
    "    \"\"\"}"
   ]
  },
  {
   "cell_type": "code",
   "execution_count": 6,
   "id": "0325ea37-285f-45d1-bff2-7ec431a647b0",
   "metadata": {
    "execution": {
     "iopub.execute_input": "2025-04-24T23:20:13.426228Z",
     "iopub.status.busy": "2025-04-24T23:20:13.425221Z",
     "iopub.status.idle": "2025-04-24T23:20:13.429132Z",
     "shell.execute_reply": "2025-04-24T23:20:13.429132Z"
    },
    "papermill": {
     "duration": 0.009897,
     "end_time": "2025-04-24T23:20:13.430126",
     "exception": false,
     "start_time": "2025-04-24T23:20:13.420229",
     "status": "completed"
    },
    "tags": []
   },
   "outputs": [],
   "source": [
    "check_query = \"\"\"\n",
    "SELECT EXISTS (\n",
    "   SELECT 1 FROM information_schema.tables \n",
    "   WHERE table_schema ='public' \n",
    "   AND table_name ='{table}'\n",
    "   )\"\"\""
   ]
  },
  {
   "cell_type": "code",
   "execution_count": 7,
   "id": "3e83dcb1-0a5c-4dc8-80ef-ee8e2e02c623",
   "metadata": {
    "execution": {
     "iopub.execute_input": "2025-04-24T23:20:13.440100Z",
     "iopub.status.busy": "2025-04-24T23:20:13.440100Z",
     "iopub.status.idle": "2025-04-24T23:20:13.445371Z",
     "shell.execute_reply": "2025-04-24T23:20:13.444370Z"
    },
    "papermill": {
     "duration": 0.013247,
     "end_time": "2025-04-24T23:20:13.447365",
     "exception": false,
     "start_time": "2025-04-24T23:20:13.434118",
     "status": "completed"
    },
    "tags": []
   },
   "outputs": [],
   "source": [
    "table_list=[\"country\",\"ipcc\",\"emission\"]"
   ]
  },
  {
   "cell_type": "code",
   "execution_count": 8,
   "id": "3e76e624-edcd-4abb-8cc9-7a0470fd3479",
   "metadata": {
    "execution": {
     "iopub.execute_input": "2025-04-24T23:20:13.456357Z",
     "iopub.status.busy": "2025-04-24T23:20:13.455352Z",
     "iopub.status.idle": "2025-04-24T23:20:13.460317Z",
     "shell.execute_reply": "2025-04-24T23:20:13.460317Z"
    },
    "papermill": {
     "duration": 0.011947,
     "end_time": "2025-04-24T23:20:13.462306",
     "exception": false,
     "start_time": "2025-04-24T23:20:13.450359",
     "status": "completed"
    },
    "tags": []
   },
   "outputs": [],
   "source": [
    "def connectToDB(db = \"postgres\"):\n",
    "    try:\n",
    "        load_dotenv(verbose=True)\n",
    "        if(load_dotenv(dotenv_path=env_path)):\n",
    "            _host = os.environ.get(\"pg_host\")\n",
    "            _username = os.environ.get(\"pg_username\")\n",
    "            _password = os.environ.get(\"pg_password\")\n",
    "            _port = int(os.environ.get(\"pg_port\"))\n",
    "            conn = psycopg2.connect(database=db,\n",
    "                    host=_host,\n",
    "                    user=_username,\n",
    "                    password=_password,\n",
    "                    port=_port)\n",
    "            return conn\n",
    "        else:\n",
    "            return None\n",
    "    except (psycopg2.DatabaseError, Exception) as error:\n",
    "        print(error)"
   ]
  },
  {
   "cell_type": "code",
   "execution_count": 9,
   "id": "628e6fdb-6d45-46f2-9374-59ba466d790c",
   "metadata": {
    "execution": {
     "iopub.execute_input": "2025-04-24T23:20:13.471280Z",
     "iopub.status.busy": "2025-04-24T23:20:13.470283Z",
     "iopub.status.idle": "2025-04-24T23:20:13.478109Z",
     "shell.execute_reply": "2025-04-24T23:20:13.478109Z"
    },
    "papermill": {
     "duration": 0.015826,
     "end_time": "2025-04-24T23:20:13.481124",
     "exception": false,
     "start_time": "2025-04-24T23:20:13.465298",
     "status": "completed"
    },
    "tags": []
   },
   "outputs": [],
   "source": [
    "def create_database(db):\n",
    "    try:\n",
    "        connection = connectToDB()\n",
    "\n",
    "        # \"CREATE DATABASE\" requires automatic commits\n",
    "        connection.autocommit = True\n",
    "\n",
    "        #cursor - structure that enables traversal over the records in a database\n",
    "        cursor = connection.cursor()\n",
    "\n",
    "        #Droping database MYDATABASE if already exists.\n",
    "        cursor.execute(f\"DROP database IF EXISTS {db} WITH (FORCE);\")\n",
    "                \n",
    "        #creating a database\n",
    "        sql = f\"CREATE database {db}\"\n",
    "        cursor.execute(sql)\n",
    "\n",
    "        cursor.close()\n",
    "     \n",
    "    except (Exception, psycopg2.Error) as error:\n",
    "        print(\"Error while getting data\", error)\n",
    "\n",
    "    finally:\n",
    "        if connection is not None:\n",
    "            connection.close()"
   ]
  },
  {
   "cell_type": "code",
   "execution_count": 10,
   "id": "0271a6f9-4b62-4926-85f1-1935fb3aa030",
   "metadata": {
    "execution": {
     "iopub.execute_input": "2025-04-24T23:20:13.490077Z",
     "iopub.status.busy": "2025-04-24T23:20:13.489080Z",
     "iopub.status.idle": "2025-04-24T23:20:16.331229Z",
     "shell.execute_reply": "2025-04-24T23:20:16.331229Z"
    },
    "papermill": {
     "duration": 2.849137,
     "end_time": "2025-04-24T23:20:16.334227",
     "exception": false,
     "start_time": "2025-04-24T23:20:13.485090",
     "status": "completed"
    },
    "scrolled": true,
    "tags": []
   },
   "outputs": [],
   "source": [
    "data_collection = {\n",
    "    \"country\":set(),\n",
    "    \"ipcc\":set(),\n",
    "    \"emission\":[]\n",
    "}\n",
    "\n",
    "year_list=[]\n",
    "for i in range(2000,2024,1):\n",
    "    year_list.append(\"Y_\" + str(i))\n",
    "\n",
    "for i,row in df.iterrows():\n",
    "    #country data\n",
    "    country_name = row[\"Name\"]\n",
    "    country_zone = row[\"zone\"]\n",
    "    country_code = row[\"code\"]\n",
    "    IPCC_annex = row[\"IPCC_annex\"]\n",
    "    data_collection[\"country\"].add((country_name,country_zone,country_code,IPCC_annex))\n",
    "    #ipcc data\n",
    "    ipcc_code = row[\"ipcc_code\"]\n",
    "    ipcc_name = row[\"ipcc_name\"]\n",
    "    data_collection[\"ipcc\"].add((ipcc_code,ipcc_name))\n",
    "    #emission data\n",
    "\n",
    "    year_columns = df[year_list];\n",
    "    emission = {\n",
    "        'country_code': country_code,\n",
    "        'ipcc_code': ipcc_code,\n",
    "        'ipcc_name': ipcc_name\n",
    "    }   \n",
    "    for year_column in year_columns:\n",
    "        emission_rate = row[year_column]\n",
    "        if pd.notna(emission_rate):\n",
    "            emission[year_column] = emission_rate\n",
    "    data_collection[\"emission\"].append(emission)\n",
    "            "
   ]
  },
  {
   "cell_type": "code",
   "execution_count": 11,
   "id": "d296414d-2b5d-498e-988e-9b35d9e8adf8",
   "metadata": {
    "execution": {
     "iopub.execute_input": "2025-04-24T23:20:16.343200Z",
     "iopub.status.busy": "2025-04-24T23:20:16.343200Z",
     "iopub.status.idle": "2025-04-24T23:20:16.350570Z",
     "shell.execute_reply": "2025-04-24T23:20:16.350570Z"
    },
    "papermill": {
     "duration": 0.014346,
     "end_time": "2025-04-24T23:20:16.351562",
     "exception": false,
     "start_time": "2025-04-24T23:20:16.337216",
     "status": "completed"
    },
    "tags": []
   },
   "outputs": [],
   "source": [
    "def insertCountryData():\n",
    "    insert_query = \"\"\"\n",
    "    INSERT INTO country(name,zone,code,ipcc_annex)\n",
    "    VALUES (%s,%s,%s,%s)\n",
    "    \"\"\"\n",
    "    try:\n",
    "        cursor.executemany(insert_query,data_collection[\"country\"])\n",
    "        conn.commit()\n",
    "    except (psycopg2.DatabaseError, Exception) as error:\n",
    "        print(error)\n",
    "        conn.rollback()\n",
    "\n",
    "def insertIpccData():\n",
    "    insert_query = \"\"\"\n",
    "    INSERT INTO ipcc(ipcc_code,ipcc_name)\n",
    "    VALUES (%s,%s)\n",
    "    \"\"\"\n",
    "    try:\n",
    "        cursor.executemany(insert_query,data_collection[\"ipcc\"])\n",
    "        conn.commit()\n",
    "    except (psycopg2.DatabaseError, Exception) as error:\n",
    "        print(error)\n",
    "        conn.rollback()\n",
    "        \n",
    "def insertEmissionData():\n",
    "    emission_rate_values=[]\n",
    "    for emission in data_collection[\"emission\"]:\n",
    "        try:\n",
    "            cursor.execute(\"\"\"\n",
    "                SELECT country_id FROM country WHERE code = %s\n",
    "                \"\"\",(emission['country_code'],)\n",
    "            )\n",
    "            country_id_list = cursor.fetchall()\n",
    "            cursor.execute(\"\"\"\n",
    "                SELECT ipcc_id FROM ipcc WHERE ipcc_code = %s\n",
    "                AND ipcc_name = %s\n",
    "                \"\"\",(emission['ipcc_code'],emission['ipcc_name'])\n",
    "            )\n",
    "            ipcc_id_list = cursor.fetchall()\n",
    "            \n",
    "            if country_id_list and ipcc_id_list:\n",
    "                emission[\"country_id\"] = country_id_list[0][0]\n",
    "                emission[\"ipcc_id\"] = ipcc_id_list[0][0]\n",
    "                emission_rate_values.append(emission)\n",
    "            else:\n",
    "                print(\"Id not found!\")\n",
    "        except (psycopg2.DatabaseError, Exception) as error:\n",
    "            print(error)\n",
    "            conn.rollback()\n",
    "            break\n",
    "\n",
    "    try:\n",
    "        size = 10\n",
    "        insert_query = \"\"\"\n",
    "        INSERT INTO emission(country_id,ipcc_id{year})\n",
    "        VALUES (%s,%s{values})\n",
    "        \"\"\"\n",
    "        column_list = [\",\"+x for x in year_list]\n",
    "        value_list = [\",%s\" for x in year_list]\n",
    "        insert_query = insert_query.format(year=\"\".join(column_list),values=\"\".join(value_list))\n",
    "        for i in range(0, len(emission_rate_values),size):\n",
    "            batch = emission_rate_values[i: i + size]\n",
    "            row_data=[]\n",
    "            for x in batch:\n",
    "                data = [x[\"country_id\"],x[\"ipcc_id\"]]\n",
    "                for year in year_list:\n",
    "                    data.append(x[year])\n",
    "                row_data.append(tuple(data))\n",
    "            cursor.executemany(insert_query,row_data)\n",
    "            conn.commit()\n",
    "    except (psycopg2.DatabaseError, Exception) as error:\n",
    "            print(error)\n",
    "            conn.rollback()\n",
    "                "
   ]
  },
  {
   "cell_type": "code",
   "execution_count": 12,
   "id": "4332afa6-e4b1-4b45-80ba-7bc9daf8eae9",
   "metadata": {
    "execution": {
     "iopub.execute_input": "2025-04-24T23:20:16.358545Z",
     "iopub.status.busy": "2025-04-24T23:20:16.358545Z",
     "iopub.status.idle": "2025-04-24T23:20:18.664132Z",
     "shell.execute_reply": "2025-04-24T23:20:18.664132Z"
    },
    "papermill": {
     "duration": 2.311566,
     "end_time": "2025-04-24T23:20:18.666122",
     "exception": false,
     "start_time": "2025-04-24T23:20:16.354556",
     "status": "completed"
    },
    "tags": []
   },
   "outputs": [],
   "source": [
    "try:\n",
    "    create_database(\"co2_emission\")\n",
    "    conn = connectToDB(\"co2_emission\")\n",
    "    cursor = conn.cursor()\n",
    "    for table in table_list:\n",
    "        query = str(check_query).format(table=table)\n",
    "        cursor.execute(query)\n",
    "        table_exist = cursor.fetchall()[0][0]\n",
    "        if(table_exist):\n",
    "            continue\n",
    "        else:\n",
    "            create_query = create_queries[table]\n",
    "            if(table == \"emission\"):\n",
    "                # print(table)\n",
    "                column_list = [\",\"+x+\" NUMERIC(20,10)\" for x in year_list]\n",
    "                columns = \"\".join(column_list)\n",
    "                create_query =  create_query.format(columns = columns)\n",
    "                # print(create_query)\n",
    "            cursor.execute(create_query)\n",
    "            conn.commit()\n",
    "            if(table == \"country\"):\n",
    "                insertCountryData()\n",
    "            if(table == \"ipcc\"):\n",
    "                insertIpccData()\n",
    "            if(table == \"emission\"):\n",
    "                insertEmissionData()\n",
    "    #add indexes\n",
    "    cursor.execute(\"CREATE INDEX IF NOT EXISTS idx_country_year_emission ON emission(country_id)\")\n",
    "    cursor.execute(\"CREATE INDEX IF NOT EXISTS idx_ipcc_year_emission ON emission(ipcc_id)\")\n",
    "    conn.commit()\n",
    "except (psycopg2.DatabaseError, Exception) as error:\n",
    "    print(error)\n",
    "    conn.rollback()"
   ]
  },
  {
   "cell_type": "code",
   "execution_count": null,
   "id": "979f93cd-90a7-48c7-afbd-fb193470b338",
   "metadata": {
    "papermill": {
     "duration": 0.003992,
     "end_time": "2025-04-24T23:20:18.673105",
     "exception": false,
     "start_time": "2025-04-24T23:20:18.669113",
     "status": "completed"
    },
    "tags": []
   },
   "outputs": [],
   "source": []
  }
 ],
 "metadata": {
  "kernelspec": {
   "display_name": "Python [conda env:base] *",
   "language": "python",
   "name": "conda-base-py"
  },
  "language_info": {
   "codemirror_mode": {
    "name": "ipython",
    "version": 3
   },
   "file_extension": ".py",
   "mimetype": "text/x-python",
   "name": "python",
   "nbconvert_exporter": "python",
   "pygments_lexer": "ipython3",
   "version": "3.12.3"
  },
  "papermill": {
   "default_parameters": {},
   "duration": 12.311095,
   "end_time": "2025-04-24T23:20:19.138859",
   "environment_variables": {},
   "exception": null,
   "input_path": "C:\\Users\\Asus\\Desktop\\Study\\Msc DA\\Analytics Programming and Data Visualisation\\Project\\Data-Analytics-And-Visualization\\notebooks\\dataset_01\\loading_data_postgreSQL.ipynb",
   "output_path": "outputs\\output_loading_data_postgreSQL.ipynb",
   "parameters": {},
   "start_time": "2025-04-24T23:20:06.827764",
   "version": "2.6.0"
  }
 },
 "nbformat": 4,
 "nbformat_minor": 5
}