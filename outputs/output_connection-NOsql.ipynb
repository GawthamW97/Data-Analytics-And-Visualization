{
 "cells": [
  {
   "cell_type": "code",
   "execution_count": 1,
   "id": "a5061102",
   "metadata": {
    "execution": {
     "iopub.execute_input": "2025-04-24T23:20:21.532706Z",
     "iopub.status.busy": "2025-04-24T23:20:21.531704Z",
     "iopub.status.idle": "2025-04-24T23:20:22.658681Z",
     "shell.execute_reply": "2025-04-24T23:20:22.658681Z"
    },
    "papermill": {
     "duration": 1.134959,
     "end_time": "2025-04-24T23:20:22.659682",
     "exception": false,
     "start_time": "2025-04-24T23:20:21.524723",
     "status": "completed"
    },
    "tags": []
   },
   "outputs": [],
   "source": [
    "import pandas as pd\n",
    "import os\n",
    "from pymongo.mongo_client import MongoClient\n",
    "from pymongo.server_api import ServerApi\n",
    "from sqlalchemy import create_engine\n",
    "from sqlalchemy.engine import URL\n",
    "from dotenv import load_dotenv\n",
    "from pathlib import Path "
   ]
  },
  {
   "cell_type": "code",
   "execution_count": 2,
   "id": "0b414f64-ee10-4235-95c2-4acfceb79b33",
   "metadata": {
    "execution": {
     "iopub.execute_input": "2025-04-24T23:20:22.667660Z",
     "iopub.status.busy": "2025-04-24T23:20:22.667660Z",
     "iopub.status.idle": "2025-04-24T23:20:22.674550Z",
     "shell.execute_reply": "2025-04-24T23:20:22.674550Z"
    },
    "papermill": {
     "duration": 0.01287,
     "end_time": "2025-04-24T23:20:22.676542",
     "exception": false,
     "start_time": "2025-04-24T23:20:22.663672",
     "status": "completed"
    },
    "tags": []
   },
   "outputs": [],
   "source": [
    "load_dotenv(verbose=True)\n",
    "env_path = \"../../.env\"\n",
    "if os.path.exists(env_path) and os.path.isfile(env_path):\n",
    "    env_path = Path('../../') / '.env'\n",
    "else:\n",
    "    env_path =  Path('.') / '.env'"
   ]
  },
  {
   "cell_type": "code",
   "execution_count": 3,
   "id": "3faab69a",
   "metadata": {
    "execution": {
     "iopub.execute_input": "2025-04-24T23:20:22.682541Z",
     "iopub.status.busy": "2025-04-24T23:20:22.682541Z",
     "iopub.status.idle": "2025-04-24T23:20:22.795686Z",
     "shell.execute_reply": "2025-04-24T23:20:22.795686Z"
    },
    "papermill": {
     "duration": 0.11715,
     "end_time": "2025-04-24T23:20:22.796683",
     "exception": false,
     "start_time": "2025-04-24T23:20:22.679533",
     "status": "completed"
    },
    "tags": []
   },
   "outputs": [
    {
     "name": "stdout",
     "output_type": "stream",
     "text": [
      "Connection to the PostgreSQL established successfully.\n"
     ]
    }
   ],
   "source": [
    "### PostgreSQL Connection\n",
    "def get_engine_url():\n",
    "    try:\n",
    "        if(load_dotenv(dotenv_path=env_path)):\n",
    "            return URL.create(\n",
    "                drivername=os.environ.get(\"pg_drivername\"),\n",
    "                database=os.environ.get(\"pg_database\"),\n",
    "                username=os.environ.get(\"pg_username\"),\n",
    "                password=os.environ.get(\"pg_password\"),\n",
    "                host=os.environ.get(\"pg_host\"),\n",
    "                port=os.environ.get(\"pg_port\"),\n",
    "            )\n",
    "        else:\n",
    "            return None\n",
    "    except Exception as e:\n",
    "        print(f\"Error creating database URL: {e}\")\n",
    "        return None\n",
    "\n",
    "    except Exception as e:\n",
    "        print(f\"Error creating database URL: {e}\")\n",
    "        return None\n",
    "\n",
    "url_obj = get_engine_url()\n",
    "if url_obj:\n",
    "    try:\n",
    "        engine = create_engine(url_obj)\n",
    "        print(\"Connection to the PostgreSQL established successfully.\")\n",
    "    except Exception as e:\n",
    "        print(f\"Connection to the PostgreSQL encountered an error: {e}\")\n",
    "else:\n",
    "    print(\"Failed to construct the database URL.\")"
   ]
  },
  {
   "cell_type": "markdown",
   "id": "1df50ac2",
   "metadata": {
    "papermill": {
     "duration": 0.003989,
     "end_time": "2025-04-24T23:20:22.803664",
     "exception": false,
     "start_time": "2025-04-24T23:20:22.799675",
     "status": "completed"
    },
    "tags": []
   },
   "source": [
    "### Data pre-Processing"
   ]
  },
  {
   "cell_type": "code",
   "execution_count": 4,
   "id": "77e0866d",
   "metadata": {
    "execution": {
     "iopub.execute_input": "2025-04-24T23:20:22.809648Z",
     "iopub.status.busy": "2025-04-24T23:20:22.809648Z",
     "iopub.status.idle": "2025-04-24T23:20:22.812677Z",
     "shell.execute_reply": "2025-04-24T23:20:22.812677Z"
    },
    "papermill": {
     "duration": 0.008014,
     "end_time": "2025-04-24T23:20:22.813673",
     "exception": false,
     "start_time": "2025-04-24T23:20:22.805659",
     "status": "completed"
    },
    "tags": []
   },
   "outputs": [],
   "source": [
    "# Avoiding duplicate records and null value rows for clean data operation\n",
    "query = \"\"\"\n",
    "SELECT DISTINCT *\n",
    "FROM projectdata\n",
    "WHERE NOT (\n",
    "  \"Area\" IS NULL OR\n",
    "  \"Year\" IS NULL OR\n",
    "  \"Savanna fires\" IS NULL OR\n",
    "  \"Forest fires\" IS NULL OR\n",
    "  \"Crop Residues\" IS NULL OR\n",
    "  \"Rice Cultivation\" IS NULL OR\n",
    "  \"Drained organic soils (CO2)\" IS NULL OR\n",
    "  \"Pesticides Manufacturing\" IS NULL OR\n",
    "  \"Food Transport\" IS NULL OR\n",
    "  \"Forestland\" IS NULL OR\n",
    "  \"Net Forest conversion\" IS NULL OR\n",
    "  \"Food Household Consumption\" IS NULL OR\n",
    "  \"Food Retail\" IS NULL OR\n",
    "  \"On-farm Electricity Use\" IS NULL OR\n",
    "  \"Food Packaging\" IS NULL OR\n",
    "  \"Agrifood Systems Waste Disposal\" IS NULL OR\n",
    "  \"Food Processing\" IS NULL OR\n",
    "  \"Fertilizers Manufacturing\" IS NULL OR\n",
    "  \"IPPU\" IS NULL OR\n",
    "  \"Manure applied to Soils\" IS NULL OR\n",
    "  \"Manure left on Pasture\" IS NULL OR\n",
    "  \"Manure Management\" IS NULL OR\n",
    "  \"Fires in organic soils\" IS NULL OR\n",
    "  \"Fires in humid tropical forests\" IS NULL OR\n",
    "  \"On-farm energy use\" IS NULL OR\n",
    "  \"Rural population\" IS NULL OR\n",
    "  \"Urban population\" IS NULL OR\n",
    "  \"Total Population - Male\" IS NULL OR\n",
    "  \"Total Population - Female\" IS NULL OR\n",
    "  \"total_emission\" IS NULL OR\n",
    "  \"Average Temperature °C\" IS NULL\n",
    ");\n",
    "\"\"\""
   ]
  },
  {
   "cell_type": "code",
   "execution_count": 5,
   "id": "53a24f4e",
   "metadata": {
    "execution": {
     "iopub.execute_input": "2025-04-24T23:20:22.821653Z",
     "iopub.status.busy": "2025-04-24T23:20:22.820656Z",
     "iopub.status.idle": "2025-04-24T23:20:22.949065Z",
     "shell.execute_reply": "2025-04-24T23:20:22.949065Z"
    },
    "papermill": {
     "duration": 0.133398,
     "end_time": "2025-04-24T23:20:22.950064",
     "exception": false,
     "start_time": "2025-04-24T23:20:22.816666",
     "status": "completed"
    },
    "tags": []
   },
   "outputs": [],
   "source": [
    "df=pd.read_sql_query(query,con=engine)"
   ]
  },
  {
   "cell_type": "code",
   "execution_count": 6,
   "id": "5d9c49ac",
   "metadata": {
    "execution": {
     "iopub.execute_input": "2025-04-24T23:20:22.957056Z",
     "iopub.status.busy": "2025-04-24T23:20:22.957056Z",
     "iopub.status.idle": "2025-04-24T23:20:22.967163Z",
     "shell.execute_reply": "2025-04-24T23:20:22.967163Z"
    },
    "papermill": {
     "duration": 0.016108,
     "end_time": "2025-04-24T23:20:22.969162",
     "exception": false,
     "start_time": "2025-04-24T23:20:22.953054",
     "status": "completed"
    },
    "tags": []
   },
   "outputs": [
    {
     "name": "stdout",
     "output_type": "stream",
     "text": [
      "<class 'pandas.core.frame.DataFrame'>\n",
      "RangeIndex: 4546 entries, 0 to 4545\n",
      "Data columns (total 31 columns):\n",
      " #   Column                           Non-Null Count  Dtype  \n",
      "---  ------                           --------------  -----  \n",
      " 0   Area                             4546 non-null   object \n",
      " 1   Year                             4546 non-null   int64  \n",
      " 2   Savanna fires                    4546 non-null   float64\n",
      " 3   Forest fires                     4546 non-null   float64\n",
      " 4   Crop Residues                    4546 non-null   float64\n",
      " 5   Rice Cultivation                 4546 non-null   float64\n",
      " 6   Drained organic soils (CO2)      4546 non-null   float64\n",
      " 7   Pesticides Manufacturing         4546 non-null   float64\n",
      " 8   Food Transport                   4546 non-null   float64\n",
      " 9   Forestland                       4546 non-null   float64\n",
      " 10  Net Forest conversion            4546 non-null   float64\n",
      " 11  Food Household Consumption       4546 non-null   float64\n",
      " 12  Food Retail                      4546 non-null   float64\n",
      " 13  On-farm Electricity Use          4546 non-null   float64\n",
      " 14  Food Packaging                   4546 non-null   float64\n",
      " 15  Agrifood Systems Waste Disposal  4546 non-null   float64\n",
      " 16  Food Processing                  4546 non-null   float64\n",
      " 17  Fertilizers Manufacturing        4546 non-null   float64\n",
      " 18  IPPU                             4546 non-null   float64\n",
      " 19  Manure applied to Soils          4546 non-null   float64\n",
      " 20  Manure left on Pasture           4546 non-null   float64\n",
      " 21  Manure Management                4546 non-null   float64\n",
      " 22  Fires in organic soils           4546 non-null   float64\n",
      " 23  Fires in humid tropical forests  4546 non-null   float64\n",
      " 24  On-farm energy use               4546 non-null   float64\n",
      " 25  Rural population                 4546 non-null   int64  \n",
      " 26  Urban population                 4546 non-null   int64  \n",
      " 27  Total Population - Male          4546 non-null   float64\n",
      " 28  Total Population - Female        4546 non-null   float64\n",
      " 29  total_emission                   4546 non-null   float64\n",
      " 30  Average Temperature °C           4546 non-null   float64\n",
      "dtypes: float64(27), int64(3), object(1)\n",
      "memory usage: 1.1+ MB\n"
     ]
    }
   ],
   "source": [
    "df.info()"
   ]
  },
  {
   "cell_type": "code",
   "execution_count": 7,
   "id": "a14555a2",
   "metadata": {
    "execution": {
     "iopub.execute_input": "2025-04-24T23:20:22.976160Z",
     "iopub.status.busy": "2025-04-24T23:20:22.975145Z",
     "iopub.status.idle": "2025-04-24T23:20:23.007298Z",
     "shell.execute_reply": "2025-04-24T23:20:23.007298Z"
    },
    "papermill": {
     "duration": 0.037138,
     "end_time": "2025-04-24T23:20:23.008293",
     "exception": false,
     "start_time": "2025-04-24T23:20:22.971155",
     "status": "completed"
    },
    "tags": []
   },
   "outputs": [],
   "source": [
    "# Converting pre-processed data to dictionary to save in Mongodb No-sql database\n",
    "df_dict=df.to_dict(\"records\")"
   ]
  },
  {
   "cell_type": "markdown",
   "id": "af7a9b27",
   "metadata": {
    "papermill": {
     "duration": 0.002991,
     "end_time": "2025-04-24T23:20:23.015275",
     "exception": false,
     "start_time": "2025-04-24T23:20:23.012284",
     "status": "completed"
    },
    "tags": []
   },
   "source": [
    "### Saving pre-processed dataset to Mongodb No-sql"
   ]
  },
  {
   "cell_type": "code",
   "execution_count": 8,
   "id": "6dc31a95",
   "metadata": {
    "execution": {
     "iopub.execute_input": "2025-04-24T23:20:23.023255Z",
     "iopub.status.busy": "2025-04-24T23:20:23.023255Z",
     "iopub.status.idle": "2025-04-24T23:20:27.566231Z",
     "shell.execute_reply": "2025-04-24T23:20:27.566231Z"
    },
    "papermill": {
     "duration": 4.548959,
     "end_time": "2025-04-24T23:20:27.567226",
     "exception": false,
     "start_time": "2025-04-24T23:20:23.018267",
     "status": "completed"
    },
    "tags": []
   },
   "outputs": [
    {
     "name": "stdout",
     "output_type": "stream",
     "text": [
      "Pinged your deployment. You successfully connected to MongoDB!\n"
     ]
    }
   ],
   "source": [
    "uri = os.environ.get(\"mongo_uri_2\"),\n",
    "# Create a new client and connect to the server\n",
    "client = MongoClient(uri, server_api=ServerApi('1'))\n",
    "# Send a ping to confirm a successful connection\n",
    "try:\n",
    "    client.admin.command('ping')\n",
    "    print(\"Pinged your deployment. You successfully connected to MongoDB!\")\n",
    "except Exception as e:\n",
    "    print(e)"
   ]
  },
  {
   "cell_type": "code",
   "execution_count": 9,
   "id": "4358fcdc",
   "metadata": {
    "execution": {
     "iopub.execute_input": "2025-04-24T23:20:27.576202Z",
     "iopub.status.busy": "2025-04-24T23:20:27.575206Z",
     "iopub.status.idle": "2025-04-24T23:20:27.579232Z",
     "shell.execute_reply": "2025-04-24T23:20:27.578708Z"
    },
    "papermill": {
     "duration": 0.009984,
     "end_time": "2025-04-24T23:20:27.581224",
     "exception": false,
     "start_time": "2025-04-24T23:20:27.571240",
     "status": "completed"
    },
    "tags": []
   },
   "outputs": [],
   "source": [
    "mydb=client.apdv"
   ]
  },
  {
   "cell_type": "code",
   "execution_count": 10,
   "id": "6a59d61f",
   "metadata": {
    "execution": {
     "iopub.execute_input": "2025-04-24T23:20:27.593055Z",
     "iopub.status.busy": "2025-04-24T23:20:27.592058Z",
     "iopub.status.idle": "2025-04-24T23:20:27.655729Z",
     "shell.execute_reply": "2025-04-24T23:20:27.655729Z"
    },
    "papermill": {
     "duration": 0.069651,
     "end_time": "2025-04-24T23:20:27.656724",
     "exception": false,
     "start_time": "2025-04-24T23:20:27.587073",
     "status": "completed"
    },
    "tags": []
   },
   "outputs": [],
   "source": [
    "collist=mydb.list_collection_names()"
   ]
  },
  {
   "cell_type": "code",
   "execution_count": 11,
   "id": "8555e0d8",
   "metadata": {
    "execution": {
     "iopub.execute_input": "2025-04-24T23:20:27.665709Z",
     "iopub.status.busy": "2025-04-24T23:20:27.664703Z",
     "iopub.status.idle": "2025-04-24T23:20:27.671223Z",
     "shell.execute_reply": "2025-04-24T23:20:27.671223Z"
    },
    "papermill": {
     "duration": 0.013496,
     "end_time": "2025-04-24T23:20:27.673212",
     "exception": false,
     "start_time": "2025-04-24T23:20:27.659716",
     "status": "completed"
    },
    "tags": []
   },
   "outputs": [
    {
     "data": {
      "text/plain": [
       "['preprocesseddata']"
      ]
     },
     "execution_count": 11,
     "metadata": {},
     "output_type": "execute_result"
    }
   ],
   "source": [
    "collist"
   ]
  },
  {
   "cell_type": "code",
   "execution_count": 12,
   "id": "c8bf97e1",
   "metadata": {
    "execution": {
     "iopub.execute_input": "2025-04-24T23:20:27.681121Z",
     "iopub.status.busy": "2025-04-24T23:20:27.681121Z",
     "iopub.status.idle": "2025-04-24T23:20:27.684699Z",
     "shell.execute_reply": "2025-04-24T23:20:27.684699Z"
    },
    "papermill": {
     "duration": 0.010554,
     "end_time": "2025-04-24T23:20:27.686693",
     "exception": false,
     "start_time": "2025-04-24T23:20:27.676139",
     "status": "completed"
    },
    "tags": []
   },
   "outputs": [
    {
     "name": "stdout",
     "output_type": "stream",
     "text": [
      "The collection exists.\n"
     ]
    }
   ],
   "source": [
    "if \"preprocesseddata\" in collist:\n",
    "  print(\"The collection exists.\")\n",
    "\n",
    "elif \"preprocesseddata\"not in collist:\n",
    "    dataset=mydb.preprocesseddata\n",
    "    dataset.insert_many(df_dict)"
   ]
  },
  {
   "cell_type": "code",
   "execution_count": 13,
   "id": "2e890d47",
   "metadata": {
    "execution": {
     "iopub.execute_input": "2025-04-24T23:20:27.696360Z",
     "iopub.status.busy": "2025-04-24T23:20:27.696360Z",
     "iopub.status.idle": "2025-04-24T23:20:27.715657Z",
     "shell.execute_reply": "2025-04-24T23:20:27.715657Z"
    },
    "papermill": {
     "duration": 0.025971,
     "end_time": "2025-04-24T23:20:27.716652",
     "exception": false,
     "start_time": "2025-04-24T23:20:27.690681",
     "status": "completed"
    },
    "tags": []
   },
   "outputs": [],
   "source": [
    "client.close()"
   ]
  },
  {
   "cell_type": "code",
   "execution_count": null,
   "id": "050ac8ac-77df-472e-9695-f876f1b26aee",
   "metadata": {
    "papermill": {
     "duration": 0.002983,
     "end_time": "2025-04-24T23:20:27.723632",
     "exception": false,
     "start_time": "2025-04-24T23:20:27.720649",
     "status": "completed"
    },
    "tags": []
   },
   "outputs": [],
   "source": []
  }
 ],
 "metadata": {
  "kernelspec": {
   "display_name": "Python [conda env:base] *",
   "language": "python",
   "name": "conda-base-py"
  },
  "language_info": {
   "codemirror_mode": {
    "name": "ipython",
    "version": 3
   },
   "file_extension": ".py",
   "mimetype": "text/x-python",
   "name": "python",
   "nbconvert_exporter": "python",
   "pygments_lexer": "ipython3",
   "version": "3.12.3"
  },
  "papermill": {
   "default_parameters": {},
   "duration": 10.251725,
   "end_time": "2025-04-24T23:20:28.830842",
   "environment_variables": {},
   "exception": null,
   "input_path": "C:\\Users\\Asus\\Desktop\\Study\\Msc DA\\Analytics Programming and Data Visualisation\\Project\\Data-Analytics-And-Visualization\\notebooks\\dataset_03\\connection-NOsql.ipynb",
   "output_path": "outputs\\output_connection-NOsql.ipynb",
   "parameters": {},
   "start_time": "2025-04-24T23:20:18.579117",
   "version": "2.6.0"
  }
 },
 "nbformat": 4,
 "nbformat_minor": 5
}