{
 "cells": [
  {
   "cell_type": "code",
   "execution_count": 1,
   "id": "7b0d8b55",
   "metadata": {
    "execution": {
     "iopub.execute_input": "2025-04-24T23:20:10.116199Z",
     "iopub.status.busy": "2025-04-24T23:20:10.116199Z",
     "iopub.status.idle": "2025-04-24T23:20:10.953425Z",
     "shell.execute_reply": "2025-04-24T23:20:10.953425Z"
    },
    "papermill": {
     "duration": 0.842208,
     "end_time": "2025-04-24T23:20:10.954425",
     "exception": false,
     "start_time": "2025-04-24T23:20:10.112217",
     "status": "completed"
    },
    "tags": []
   },
   "outputs": [],
   "source": [
    "import pandas as pd\n",
    "import os\n",
    "from sqlalchemy import create_engine\n",
    "from sqlalchemy.engine import URL\n",
    "from dotenv import load_dotenv\n",
    "from pathlib import Path "
   ]
  },
  {
   "cell_type": "code",
   "execution_count": 2,
   "id": "49bd8880",
   "metadata": {
    "execution": {
     "iopub.execute_input": "2025-04-24T23:20:10.960442Z",
     "iopub.status.busy": "2025-04-24T23:20:10.960442Z",
     "iopub.status.idle": "2025-04-24T23:20:11.005443Z",
     "shell.execute_reply": "2025-04-24T23:20:11.005443Z"
    },
    "papermill": {
     "duration": 0.048986,
     "end_time": "2025-04-24T23:20:11.006434",
     "exception": false,
     "start_time": "2025-04-24T23:20:10.957448",
     "status": "completed"
    },
    "tags": []
   },
   "outputs": [
    {
     "name": "stdout",
     "output_type": "stream",
     "text": [
      "The file data/dataset1.csv exists\n"
     ]
    }
   ],
   "source": [
    "# Code to read data from csv converting to dictionary and inserting to mongodb cloud nosql\n",
    "file_path = \"data/dataset1.csv\"\n",
    "env_path = \"\"\n",
    "if os.path.exists(file_path) and os.path.isfile(file_path):\n",
    "    env_path = Path('.') / '.env'\n",
    "    print(f\"The file {file_path} exists\")\n",
    "else:\n",
    "    file_path = \"../../data/dataset1.csv\"\n",
    "    env_path = Path('../../') / '.env'\n",
    "df=pd.read_csv(file_path)"
   ]
  },
  {
   "cell_type": "code",
   "execution_count": 3,
   "id": "4fa45cd1",
   "metadata": {
    "execution": {
     "iopub.execute_input": "2025-04-24T23:20:11.012418Z",
     "iopub.status.busy": "2025-04-24T23:20:11.012418Z",
     "iopub.status.idle": "2025-04-24T23:20:11.078431Z",
     "shell.execute_reply": "2025-04-24T23:20:11.078431Z"
    },
    "papermill": {
     "duration": 0.069999,
     "end_time": "2025-04-24T23:20:11.079425",
     "exception": false,
     "start_time": "2025-04-24T23:20:11.009426",
     "status": "completed"
    },
    "tags": []
   },
   "outputs": [
    {
     "name": "stdout",
     "output_type": "stream",
     "text": [
      "Connection to the PostgreSQL established successfully.\n"
     ]
    }
   ],
   "source": [
    "### PostgreSQL Connection\n",
    "def get_engine_url():\n",
    "    try:\n",
    "        if(load_dotenv(dotenv_path=env_path)):\n",
    "            return URL.create(\n",
    "                drivername=os.environ.get(\"pg_drivername\"),\n",
    "                database=os.environ.get(\"pg_database\"),\n",
    "                username=os.environ.get(\"pg_username\"),\n",
    "                password=os.environ.get(\"pg_password\"),\n",
    "                host=os.environ.get(\"pg_host\"),\n",
    "                port=os.environ.get(\"pg_port\"),\n",
    "            )\n",
    "        else:\n",
    "            return None\n",
    "    except Exception as e:\n",
    "        print(f\"Error creating database URL: {e}\")\n",
    "        return None\n",
    "\n",
    "url_obj = get_engine_url()\n",
    "if url_obj:\n",
    "    try:\n",
    "        engine = create_engine(url_obj)\n",
    "        print(\"Connection to the PostgreSQL established successfully.\")\n",
    "    except Exception as e:\n",
    "        print(f\"Connection to the PostgreSQL encountered an error: {e}\")\n",
    "else:\n",
    "    print(\"Failed to construct the database URL.\")"
   ]
  },
  {
   "cell_type": "code",
   "execution_count": 4,
   "id": "f8c688e0",
   "metadata": {
    "execution": {
     "iopub.execute_input": "2025-04-24T23:20:11.085410Z",
     "iopub.status.busy": "2025-04-24T23:20:11.085410Z",
     "iopub.status.idle": "2025-04-24T23:20:12.746167Z",
     "shell.execute_reply": "2025-04-24T23:20:12.746167Z"
    },
    "papermill": {
     "duration": 1.665745,
     "end_time": "2025-04-24T23:20:12.748162",
     "exception": false,
     "start_time": "2025-04-24T23:20:11.082417",
     "status": "completed"
    },
    "tags": []
   },
   "outputs": [
    {
     "data": {
      "text/plain": [
       "986"
      ]
     },
     "execution_count": 4,
     "metadata": {},
     "output_type": "execute_result"
    }
   ],
   "source": [
    "df.to_sql(name='projectdata', con=engine, if_exists='replace', index=False)"
   ]
  },
  {
   "cell_type": "code",
   "execution_count": 5,
   "id": "ef046e93",
   "metadata": {
    "execution": {
     "iopub.execute_input": "2025-04-24T23:20:12.754139Z",
     "iopub.status.busy": "2025-04-24T23:20:12.754139Z",
     "iopub.status.idle": "2025-04-24T23:20:12.758651Z",
     "shell.execute_reply": "2025-04-24T23:20:12.757649Z"
    },
    "papermill": {
     "duration": 0.010498,
     "end_time": "2025-04-24T23:20:12.760647",
     "exception": false,
     "start_time": "2025-04-24T23:20:12.750149",
     "status": "completed"
    },
    "tags": []
   },
   "outputs": [],
   "source": [
    "engine.dispose()"
   ]
  },
  {
   "cell_type": "code",
   "execution_count": null,
   "id": "c356069f-3111-4597-af85-3c58db8c41a6",
   "metadata": {
    "papermill": {
     "duration": 0.001992,
     "end_time": "2025-04-24T23:20:12.763635",
     "exception": false,
     "start_time": "2025-04-24T23:20:12.761643",
     "status": "completed"
    },
    "tags": []
   },
   "outputs": [],
   "source": []
  }
 ],
 "metadata": {
  "kernelspec": {
   "display_name": "Python [conda env:base] *",
   "language": "python",
   "name": "conda-base-py"
  },
  "language_info": {
   "codemirror_mode": {
    "name": "ipython",
    "version": 3
   },
   "file_extension": ".py",
   "mimetype": "text/x-python",
   "name": "python",
   "nbconvert_exporter": "python",
   "pygments_lexer": "ipython3",
   "version": "3.12.3"
  },
  "papermill": {
   "default_parameters": {},
   "duration": 6.206667,
   "end_time": "2025-04-24T23:20:13.233896",
   "environment_variables": {},
   "exception": null,
   "input_path": "C:\\Users\\Asus\\Desktop\\Study\\Msc DA\\Analytics Programming and Data Visualisation\\Project\\Data-Analytics-And-Visualization\\notebooks\\dataset_03\\Connection-sql.ipynb",
   "output_path": "outputs\\output_Connection-sql.ipynb",
   "parameters": {},
   "start_time": "2025-04-24T23:20:07.027229",
   "version": "2.6.0"
  }
 },
 "nbformat": 4,
 "nbformat_minor": 5
}