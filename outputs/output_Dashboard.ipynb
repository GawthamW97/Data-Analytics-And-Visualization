{
 "cells": [
  {
   "cell_type": "code",
   "execution_count": 1,
   "id": "11f59222-3a60-43b7-8be3-006f3ed82e8e",
   "metadata": {
    "execution": {
     "iopub.execute_input": "2025-04-20T19:35:11.090327Z",
     "iopub.status.busy": "2025-04-20T19:35:11.090327Z",
     "iopub.status.idle": "2025-04-20T19:35:14.913982Z",
     "shell.execute_reply": "2025-04-20T19:35:14.913943Z"
    },
    "papermill": {
     "duration": 3.828605,
     "end_time": "2025-04-20T19:35:14.914944",
     "exception": false,
     "start_time": "2025-04-20T19:35:11.086339",
     "status": "completed"
    },
    "tags": []
   },
   "outputs": [],
   "source": [
    "from dash import Dash, html, dash_table, dcc\n",
    "from dash.dependencies import Input, Output\n",
    "import pandas as pd\n",
    "import plotly.express as px\n",
    "from dagster import asset, AssetIn"
   ]
  },
  {
   "cell_type": "code",
   "execution_count": 2,
   "id": "dd8489d5-1a9c-4e0b-b972-21fbee78d865",
   "metadata": {
    "execution": {
     "iopub.execute_input": "2025-04-20T19:35:14.921925Z",
     "iopub.status.busy": "2025-04-20T19:35:14.920928Z",
     "iopub.status.idle": "2025-04-20T19:35:19.659304Z",
     "shell.execute_reply": "2025-04-20T19:35:19.658795Z"
    },
    "papermill": {
     "duration": 4.744359,
     "end_time": "2025-04-20T19:35:19.662294",
     "exception": false,
     "start_time": "2025-04-20T19:35:14.917935",
     "status": "completed"
    },
    "tags": []
   },
   "outputs": [],
   "source": [
    "%run ./Dashboard/Dataset01.ipynb"
   ]
  },
  {
   "cell_type": "code",
   "execution_count": 3,
   "id": "c75c7346",
   "metadata": {
    "execution": {
     "iopub.execute_input": "2025-04-20T19:35:19.671270Z",
     "iopub.status.busy": "2025-04-20T19:35:19.671270Z",
     "iopub.status.idle": "2025-04-20T19:35:19.676063Z",
     "shell.execute_reply": "2025-04-20T19:35:19.675070Z"
    },
    "papermill": {
     "duration": 0.011773,
     "end_time": "2025-04-20T19:35:19.677059",
     "exception": false,
     "start_time": "2025-04-20T19:35:19.665286",
     "status": "completed"
    },
    "tags": []
   },
   "outputs": [],
   "source": [
    "# %run ./Dashboard/Dataset02.ipynb"
   ]
  },
  {
   "cell_type": "code",
   "execution_count": null,
   "id": "35b4a5b6",
   "metadata": {
    "papermill": {
     "duration": 0.002009,
     "end_time": "2025-04-20T19:35:19.682060",
     "exception": false,
     "start_time": "2025-04-20T19:35:19.680051",
     "status": "completed"
    },
    "tags": []
   },
   "outputs": [],
   "source": []
  },
  {
   "cell_type": "code",
   "execution_count": 4,
   "id": "5df77c85-e200-46b9-834b-7e56ef3480f4",
   "metadata": {
    "execution": {
     "iopub.execute_input": "2025-04-20T19:35:19.688039Z",
     "iopub.status.busy": "2025-04-20T19:35:19.688039Z",
     "iopub.status.idle": "2025-04-20T19:35:19.803774Z",
     "shell.execute_reply": "2025-04-20T19:35:19.803774Z"
    },
    "papermill": {
     "duration": 0.121714,
     "end_time": "2025-04-20T19:35:19.805770",
     "exception": false,
     "start_time": "2025-04-20T19:35:19.684056",
     "status": "completed"
    },
    "tags": []
   },
   "outputs": [],
   "source": [
    "app = Dash(__name__, suppress_callback_exceptions=True)\n",
    "\n",
    "# App layout\n",
    "app.layout = html.Div([\n",
    "    html.H1(\"Dashboard\"),\n",
    "    dcc.Tabs(id=\"dash-tabs\",value=\"dataset01\",children=[\n",
    "        dcc.Tab(label=\"Data Set 01\",value=\"dataset01\"),\n",
    "        dcc.Tab(label=\"Data Set 02\",value=\"dataset02\")\n",
    "    ]),\n",
    "    html.Div(id=\"tab-content\")\n",
    "])\n",
    "\n",
    "callback_bar(app)\n",
    "callback_pie(app)\n",
    "callback_country_emission(app)\n",
    "# callback_area(app)\n",
    "\n",
    "@app.callback(\n",
    "    Output(\"tab-content\",\"children\"),\n",
    "    Input(\"dash-tabs\",\"value\")\n",
    ")\n",
    "def display_tab(value):\n",
    "    if(value == \"dataset01\"):\n",
    "        return layout_01()\n",
    "    # elif (value == \"dataset02\"):\n",
    "        # return layout_02()"
   ]
  },
  {
   "cell_type": "code",
   "execution_count": 5,
   "id": "b8a5cb2b",
   "metadata": {
    "execution": {
     "iopub.execute_input": "2025-04-20T19:35:19.812752Z",
     "iopub.status.busy": "2025-04-20T19:35:19.812752Z",
     "iopub.status.idle": "2025-04-20T19:35:19.847539Z",
     "shell.execute_reply": "2025-04-20T19:35:19.847539Z"
    },
    "papermill": {
     "duration": 0.041769,
     "end_time": "2025-04-20T19:35:19.850530",
     "exception": false,
     "start_time": "2025-04-20T19:35:19.808761",
     "status": "completed"
    },
    "tags": []
   },
   "outputs": [
    {
     "name": "stdout",
     "output_type": "stream",
     "text": [
      "Dash app running on http://127.0.0.1:8050/"
     ]
    },
    {
     "name": "stdout",
     "output_type": "stream",
     "text": [
      "\n"
     ]
    },
    {
     "data": {
      "application/javascript": [
       "window.open('http://127.0.0.1:8050/')"
      ],
      "text/plain": [
       "<IPython.core.display.Javascript object>"
      ]
     },
     "metadata": {},
     "output_type": "display_data"
    }
   ],
   "source": [
    "# Run the app\n",
    "if __name__ == '__main__':\n",
    "    app.run(host='127.0.0.1',port=8050,jupyter_mode=\"tab\")"
   ]
  },
  {
   "cell_type": "code",
   "execution_count": null,
   "id": "c6910026-7027-4730-92bc-86163fc04a26",
   "metadata": {
    "papermill": {
     "duration": 0.005555,
     "end_time": "2025-04-20T19:35:19.859077",
     "exception": false,
     "start_time": "2025-04-20T19:35:19.853522",
     "status": "completed"
    },
    "tags": []
   },
   "outputs": [],
   "source": []
  }
 ],
 "metadata": {
  "kernelspec": {
   "display_name": "base",
   "language": "python",
   "name": "python3"
  },
  "language_info": {
   "codemirror_mode": {
    "name": "ipython",
    "version": 3
   },
   "file_extension": ".py",
   "mimetype": "text/x-python",
   "name": "python",
   "nbconvert_exporter": "python",
   "pygments_lexer": "ipython3",
   "version": "3.12.3"
  },
  "papermill": {
   "default_parameters": {},
   "duration": 12.440893,
   "end_time": "2025-04-20T19:35:20.766982",
   "environment_variables": {},
   "exception": null,
   "input_path": "C:\\Users\\Asus\\Desktop\\Study\\Msc DA\\Analytics Programming and Data Visualisation\\Project\\Data-Analytics-And-Visualization\\Dashboard\\Dashboard.ipynb",
   "output_path": "outputs\\output_Dashboard.ipynb",
   "parameters": {},
   "start_time": "2025-04-20T19:35:08.326089",
   "version": "2.6.0"
  }
 },
 "nbformat": 4,
 "nbformat_minor": 5
}