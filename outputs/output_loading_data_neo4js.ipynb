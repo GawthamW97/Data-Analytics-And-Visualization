{
 "cells": [
  {
   "cell_type": "markdown",
   "id": "87c6e230-acc8-43d0-96e9-4d3130947203",
   "metadata": {
    "papermill": {
     "duration": 0.006444,
     "end_time": "2025-04-15T16:55:48.628826",
     "exception": false,
     "start_time": "2025-04-15T16:55:48.622382",
     "status": "completed"
    },
    "tags": []
   },
   "source": [
    "# Loading Dataset to Neo4JS"
   ]
  },
  {
   "cell_type": "code",
   "execution_count": 1,
   "id": "8bd3b6f6-3365-4a83-a8da-40863f3b9f1c",
   "metadata": {
    "execution": {
     "iopub.execute_input": "2025-04-15T16:55:48.652682Z",
     "iopub.status.busy": "2025-04-15T16:55:48.652682Z",
     "iopub.status.idle": "2025-04-15T16:55:48.658571Z",
     "shell.execute_reply": "2025-04-15T16:55:48.657570Z"
    },
    "papermill": {
     "duration": 0.014867,
     "end_time": "2025-04-15T16:55:48.660565",
     "exception": false,
     "start_time": "2025-04-15T16:55:48.645698",
     "status": "completed"
    },
    "tags": []
   },
   "outputs": [],
   "source": [
    "# pip install neo4j\n",
    "# pip install pandas py2neo\n",
    "# pip install python-dotenv\n",
    "# !pip install dagster papermill jupyter"
   ]
  },
  {
   "cell_type": "code",
   "execution_count": 2,
   "id": "02f917ae-1815-4f66-a170-2e329249b28a",
   "metadata": {
    "execution": {
     "iopub.execute_input": "2025-04-15T16:55:48.670663Z",
     "iopub.status.busy": "2025-04-15T16:55:48.670663Z",
     "iopub.status.idle": "2025-04-15T16:55:50.214225Z",
     "shell.execute_reply": "2025-04-15T16:55:50.214225Z"
    },
    "papermill": {
     "duration": 1.550549,
     "end_time": "2025-04-15T16:55:50.216222",
     "exception": false,
     "start_time": "2025-04-15T16:55:48.665673",
     "status": "completed"
    },
    "tags": []
   },
   "outputs": [],
   "source": [
    "import os\n",
    "\n",
    "import numpy as np\n",
    "import pandas as pd\n",
    "from neo4j import GraphDatabase\n",
    "from neo4j.exceptions import Neo4jError,ServiceUnavailable,ClientError\n",
    "from py2neo import Graph, Node, Relationship, Transaction\n",
    "from dotenv import load_dotenv\n",
    "from pathlib import Path "
   ]
  },
  {
   "cell_type": "code",
   "execution_count": 3,
   "id": "fdecc975-ff95-492a-ad14-89982d3dd698",
   "metadata": {
    "execution": {
     "iopub.execute_input": "2025-04-15T16:55:50.228195Z",
     "iopub.status.busy": "2025-04-15T16:55:50.228195Z",
     "iopub.status.idle": "2025-04-15T16:55:50.231493Z",
     "shell.execute_reply": "2025-04-15T16:55:50.231493Z"
    },
    "papermill": {
     "duration": 0.012311,
     "end_time": "2025-04-15T16:55:50.233491",
     "exception": false,
     "start_time": "2025-04-15T16:55:50.221180",
     "status": "completed"
    },
    "tags": []
   },
   "outputs": [],
   "source": [
    "#Intergovernmental Panel on Climate Change - IPCC"
   ]
  },
  {
   "cell_type": "code",
   "execution_count": 4,
   "id": "1e3bd78f-5df9-4fc6-a4c6-9e0a53b0cd14",
   "metadata": {
    "execution": {
     "iopub.execute_input": "2025-04-15T16:55:50.244463Z",
     "iopub.status.busy": "2025-04-15T16:55:50.243466Z",
     "iopub.status.idle": "2025-04-15T16:55:53.069010Z",
     "shell.execute_reply": "2025-04-15T16:55:53.068008Z"
    },
    "papermill": {
     "duration": 2.832527,
     "end_time": "2025-04-15T16:55:53.071004",
     "exception": false,
     "start_time": "2025-04-15T16:55:50.238477",
     "status": "completed"
    },
    "scrolled": true,
    "tags": []
   },
   "outputs": [],
   "source": [
    "df = pd.read_excel(\"data/IEA_EDGAR_CO2_1970_2023.xlsx\",sheet_name=\"IPCC 2006\",skiprows=9)"
   ]
  },
  {
   "cell_type": "code",
   "execution_count": 5,
   "id": "43de6589-9c18-40d6-b4b9-302f2d20b924",
   "metadata": {
    "execution": {
     "iopub.execute_input": "2025-04-15T16:55:53.081958Z",
     "iopub.status.busy": "2025-04-15T16:55:53.081958Z",
     "iopub.status.idle": "2025-04-15T16:55:53.090521Z",
     "shell.execute_reply": "2025-04-15T16:55:53.090521Z"
    },
    "papermill": {
     "duration": 0.01655,
     "end_time": "2025-04-15T16:55:53.092521",
     "exception": false,
     "start_time": "2025-04-15T16:55:53.075971",
     "status": "completed"
    },
    "scrolled": true,
    "tags": []
   },
   "outputs": [
    {
     "data": {
      "text/plain": [
       "Index(['IPCC_annex', 'C_group_IM24_sh', 'Country_code_A3', 'Name',\n",
       "       'ipcc_code_2006_for_standard_report',\n",
       "       'ipcc_code_2006_for_standard_report_name', 'Substance', 'fossil_bio',\n",
       "       'Y_1970', 'Y_1971', 'Y_1972', 'Y_1973', 'Y_1974', 'Y_1975', 'Y_1976',\n",
       "       'Y_1977', 'Y_1978', 'Y_1979', 'Y_1980', 'Y_1981', 'Y_1982', 'Y_1983',\n",
       "       'Y_1984', 'Y_1985', 'Y_1986', 'Y_1987', 'Y_1988', 'Y_1989', 'Y_1990',\n",
       "       'Y_1991', 'Y_1992', 'Y_1993', 'Y_1994', 'Y_1995', 'Y_1996', 'Y_1997',\n",
       "       'Y_1998', 'Y_1999', 'Y_2000', 'Y_2001', 'Y_2002', 'Y_2003', 'Y_2004',\n",
       "       'Y_2005', 'Y_2006', 'Y_2007', 'Y_2008', 'Y_2009', 'Y_2010', 'Y_2011',\n",
       "       'Y_2012', 'Y_2013', 'Y_2014', 'Y_2015', 'Y_2016', 'Y_2017', 'Y_2018',\n",
       "       'Y_2019', 'Y_2020', 'Y_2021', 'Y_2022', 'Y_2023'],\n",
       "      dtype='object')"
      ]
     },
     "execution_count": 5,
     "metadata": {},
     "output_type": "execute_result"
    }
   ],
   "source": [
    "df.columns"
   ]
  },
  {
   "cell_type": "code",
   "execution_count": 6,
   "id": "1d22bdbe-4baf-429c-abbb-ba6cce1ae989",
   "metadata": {
    "execution": {
     "iopub.execute_input": "2025-04-15T16:55:53.105484Z",
     "iopub.status.busy": "2025-04-15T16:55:53.104488Z",
     "iopub.status.idle": "2025-04-15T16:55:53.143837Z",
     "shell.execute_reply": "2025-04-15T16:55:53.142891Z"
    },
    "papermill": {
     "duration": 0.047332,
     "end_time": "2025-04-15T16:55:53.144838",
     "exception": false,
     "start_time": "2025-04-15T16:55:53.097506",
     "status": "completed"
    },
    "tags": []
   },
   "outputs": [
    {
     "data": {
      "text/html": [
       "<div>\n",
       "<style scoped>\n",
       "    .dataframe tbody tr th:only-of-type {\n",
       "        vertical-align: middle;\n",
       "    }\n",
       "\n",
       "    .dataframe tbody tr th {\n",
       "        vertical-align: top;\n",
       "    }\n",
       "\n",
       "    .dataframe thead th {\n",
       "        text-align: right;\n",
       "    }\n",
       "</style>\n",
       "<table border=\"1\" class=\"dataframe\">\n",
       "  <thead>\n",
       "    <tr style=\"text-align: right;\">\n",
       "      <th></th>\n",
       "      <th>IPCC_annex</th>\n",
       "      <th>C_group_IM24_sh</th>\n",
       "      <th>Country_code_A3</th>\n",
       "      <th>Name</th>\n",
       "      <th>ipcc_code_2006_for_standard_report</th>\n",
       "      <th>ipcc_code_2006_for_standard_report_name</th>\n",
       "      <th>Substance</th>\n",
       "      <th>fossil_bio</th>\n",
       "      <th>Y_1970</th>\n",
       "      <th>Y_1971</th>\n",
       "      <th>...</th>\n",
       "      <th>Y_2014</th>\n",
       "      <th>Y_2015</th>\n",
       "      <th>Y_2016</th>\n",
       "      <th>Y_2017</th>\n",
       "      <th>Y_2018</th>\n",
       "      <th>Y_2019</th>\n",
       "      <th>Y_2020</th>\n",
       "      <th>Y_2021</th>\n",
       "      <th>Y_2022</th>\n",
       "      <th>Y_2023</th>\n",
       "    </tr>\n",
       "  </thead>\n",
       "  <tbody>\n",
       "    <tr>\n",
       "      <th>0</th>\n",
       "      <td>Non-Annex_I</td>\n",
       "      <td>Rest Central America</td>\n",
       "      <td>ABW</td>\n",
       "      <td>Aruba</td>\n",
       "      <td>1.A.1.a</td>\n",
       "      <td>Main Activity Electricity and Heat Production</td>\n",
       "      <td>CO2</td>\n",
       "      <td>fossil</td>\n",
       "      <td>17.343706</td>\n",
       "      <td>19.877523</td>\n",
       "      <td>...</td>\n",
       "      <td>222.238026</td>\n",
       "      <td>230.102165</td>\n",
       "      <td>240.807934</td>\n",
       "      <td>223.432549</td>\n",
       "      <td>226.341226</td>\n",
       "      <td>268.030985</td>\n",
       "      <td>232.923266</td>\n",
       "      <td>253.010310</td>\n",
       "      <td>251.278359</td>\n",
       "      <td>263.506570</td>\n",
       "    </tr>\n",
       "    <tr>\n",
       "      <th>1</th>\n",
       "      <td>Non-Annex_I</td>\n",
       "      <td>Rest Central America</td>\n",
       "      <td>ABW</td>\n",
       "      <td>Aruba</td>\n",
       "      <td>1.A.2</td>\n",
       "      <td>Manufacturing Industries and Construction</td>\n",
       "      <td>CO2</td>\n",
       "      <td>fossil</td>\n",
       "      <td>0.193087</td>\n",
       "      <td>0.221296</td>\n",
       "      <td>...</td>\n",
       "      <td>22.208463</td>\n",
       "      <td>24.215383</td>\n",
       "      <td>21.728011</td>\n",
       "      <td>33.276726</td>\n",
       "      <td>28.199275</td>\n",
       "      <td>29.319799</td>\n",
       "      <td>26.562462</td>\n",
       "      <td>34.208633</td>\n",
       "      <td>33.974462</td>\n",
       "      <td>35.627795</td>\n",
       "    </tr>\n",
       "    <tr>\n",
       "      <th>2</th>\n",
       "      <td>Non-Annex_I</td>\n",
       "      <td>Rest Central America</td>\n",
       "      <td>ABW</td>\n",
       "      <td>Aruba</td>\n",
       "      <td>1.A.3.a</td>\n",
       "      <td>Civil Aviation</td>\n",
       "      <td>CO2</td>\n",
       "      <td>fossil</td>\n",
       "      <td>0.754306</td>\n",
       "      <td>0.864505</td>\n",
       "      <td>...</td>\n",
       "      <td>18.429354</td>\n",
       "      <td>18.900723</td>\n",
       "      <td>18.986393</td>\n",
       "      <td>19.690313</td>\n",
       "      <td>16.584860</td>\n",
       "      <td>25.492941</td>\n",
       "      <td>11.216762</td>\n",
       "      <td>12.473237</td>\n",
       "      <td>17.615120</td>\n",
       "      <td>20.659366</td>\n",
       "    </tr>\n",
       "    <tr>\n",
       "      <th>3</th>\n",
       "      <td>Non-Annex_I</td>\n",
       "      <td>Rest Central America</td>\n",
       "      <td>ABW</td>\n",
       "      <td>Aruba</td>\n",
       "      <td>1.A.3.b_noRES</td>\n",
       "      <td>Road Transportation no resuspension</td>\n",
       "      <td>CO2</td>\n",
       "      <td>fossil</td>\n",
       "      <td>1.040720</td>\n",
       "      <td>1.192764</td>\n",
       "      <td>...</td>\n",
       "      <td>126.415252</td>\n",
       "      <td>135.238780</td>\n",
       "      <td>140.177105</td>\n",
       "      <td>135.429729</td>\n",
       "      <td>136.224966</td>\n",
       "      <td>165.125521</td>\n",
       "      <td>128.398393</td>\n",
       "      <td>143.107436</td>\n",
       "      <td>142.127812</td>\n",
       "      <td>149.044320</td>\n",
       "    </tr>\n",
       "    <tr>\n",
       "      <th>4</th>\n",
       "      <td>Non-Annex_I</td>\n",
       "      <td>Rest Central America</td>\n",
       "      <td>ABW</td>\n",
       "      <td>Aruba</td>\n",
       "      <td>1.A.3.d</td>\n",
       "      <td>Water-borne Navigation</td>\n",
       "      <td>CO2</td>\n",
       "      <td>fossil</td>\n",
       "      <td>NaN</td>\n",
       "      <td>NaN</td>\n",
       "      <td>...</td>\n",
       "      <td>9.191439</td>\n",
       "      <td>9.637073</td>\n",
       "      <td>10.209681</td>\n",
       "      <td>9.763253</td>\n",
       "      <td>9.615795</td>\n",
       "      <td>11.382993</td>\n",
       "      <td>9.866186</td>\n",
       "      <td>10.696811</td>\n",
       "      <td>10.876347</td>\n",
       "      <td>12.160220</td>\n",
       "    </tr>\n",
       "  </tbody>\n",
       "</table>\n",
       "<p>5 rows × 62 columns</p>\n",
       "</div>"
      ],
      "text/plain": [
       "    IPCC_annex       C_group_IM24_sh Country_code_A3   Name  \\\n",
       "0  Non-Annex_I  Rest Central America             ABW  Aruba   \n",
       "1  Non-Annex_I  Rest Central America             ABW  Aruba   \n",
       "2  Non-Annex_I  Rest Central America             ABW  Aruba   \n",
       "3  Non-Annex_I  Rest Central America             ABW  Aruba   \n",
       "4  Non-Annex_I  Rest Central America             ABW  Aruba   \n",
       "\n",
       "  ipcc_code_2006_for_standard_report  \\\n",
       "0                            1.A.1.a   \n",
       "1                              1.A.2   \n",
       "2                            1.A.3.a   \n",
       "3                      1.A.3.b_noRES   \n",
       "4                            1.A.3.d   \n",
       "\n",
       "         ipcc_code_2006_for_standard_report_name Substance fossil_bio  \\\n",
       "0  Main Activity Electricity and Heat Production       CO2     fossil   \n",
       "1      Manufacturing Industries and Construction       CO2     fossil   \n",
       "2                                 Civil Aviation       CO2     fossil   \n",
       "3            Road Transportation no resuspension       CO2     fossil   \n",
       "4                         Water-borne Navigation       CO2     fossil   \n",
       "\n",
       "      Y_1970     Y_1971  ...      Y_2014      Y_2015      Y_2016      Y_2017  \\\n",
       "0  17.343706  19.877523  ...  222.238026  230.102165  240.807934  223.432549   \n",
       "1   0.193087   0.221296  ...   22.208463   24.215383   21.728011   33.276726   \n",
       "2   0.754306   0.864505  ...   18.429354   18.900723   18.986393   19.690313   \n",
       "3   1.040720   1.192764  ...  126.415252  135.238780  140.177105  135.429729   \n",
       "4        NaN        NaN  ...    9.191439    9.637073   10.209681    9.763253   \n",
       "\n",
       "       Y_2018      Y_2019      Y_2020      Y_2021      Y_2022      Y_2023  \n",
       "0  226.341226  268.030985  232.923266  253.010310  251.278359  263.506570  \n",
       "1   28.199275   29.319799   26.562462   34.208633   33.974462   35.627795  \n",
       "2   16.584860   25.492941   11.216762   12.473237   17.615120   20.659366  \n",
       "3  136.224966  165.125521  128.398393  143.107436  142.127812  149.044320  \n",
       "4    9.615795   11.382993    9.866186   10.696811   10.876347   12.160220  \n",
       "\n",
       "[5 rows x 62 columns]"
      ]
     },
     "execution_count": 6,
     "metadata": {},
     "output_type": "execute_result"
    }
   ],
   "source": [
    "df.head()"
   ]
  },
  {
   "cell_type": "code",
   "execution_count": 7,
   "id": "00abe863-7e9b-4351-9c0a-5412a5f4c1b6",
   "metadata": {
    "execution": {
     "iopub.execute_input": "2025-04-15T16:55:53.158799Z",
     "iopub.status.busy": "2025-04-15T16:55:53.158799Z",
     "iopub.status.idle": "2025-04-15T16:55:53.163010Z",
     "shell.execute_reply": "2025-04-15T16:55:53.162011Z"
    },
    "papermill": {
     "duration": 0.012188,
     "end_time": "2025-04-15T16:55:53.164007",
     "exception": false,
     "start_time": "2025-04-15T16:55:53.151819",
     "status": "completed"
    },
    "tags": []
   },
   "outputs": [],
   "source": [
    "# def connectToDataBases():\n",
    "#     try:\n",
    "#         URI = \"bolt://localhost:7687\"\n",
    "#         AUTH = (\"neo4j\", \"asd123asd123\")\n",
    "        \n",
    "#         driver = GraphDatabase.driver(URI, auth=AUTH)\n",
    "#         return driver\n",
    "#     except Neo4jError as e:\n",
    "#         print(f\"Error when connecting to DB - {e.code} - {e.message}\")"
   ]
  },
  {
   "cell_type": "markdown",
   "id": "a0e8fc3b-d4b2-41e7-9a74-d3e7b59d0ef2",
   "metadata": {
    "papermill": {
     "duration": 0.004986,
     "end_time": "2025-04-15T16:55:53.173980",
     "exception": false,
     "start_time": "2025-04-15T16:55:53.168994",
     "status": "completed"
    },
    "tags": []
   },
   "source": [
    "## Data Pre-processing"
   ]
  },
  {
   "cell_type": "code",
   "execution_count": 8,
   "id": "68a52530-97fc-4dce-b61f-26b09d63cfd9",
   "metadata": {
    "execution": {
     "iopub.execute_input": "2025-04-15T16:55:53.185633Z",
     "iopub.status.busy": "2025-04-15T16:55:53.185633Z",
     "iopub.status.idle": "2025-04-15T16:55:53.188854Z",
     "shell.execute_reply": "2025-04-15T16:55:53.188854Z"
    },
    "papermill": {
     "duration": 0.011856,
     "end_time": "2025-04-15T16:55:53.190852",
     "exception": false,
     "start_time": "2025-04-15T16:55:53.178996",
     "status": "completed"
    },
    "tags": []
   },
   "outputs": [],
   "source": [
    "#Aggregate Data to create tables"
   ]
  },
  {
   "cell_type": "code",
   "execution_count": 9,
   "id": "ca116fee-66ee-47ce-91de-eb2c106a2b92",
   "metadata": {
    "execution": {
     "iopub.execute_input": "2025-04-15T16:55:53.201824Z",
     "iopub.status.busy": "2025-04-15T16:55:53.201824Z",
     "iopub.status.idle": "2025-04-15T16:55:53.208241Z",
     "shell.execute_reply": "2025-04-15T16:55:53.208241Z"
    },
    "papermill": {
     "duration": 0.014401,
     "end_time": "2025-04-15T16:55:53.210241",
     "exception": false,
     "start_time": "2025-04-15T16:55:53.195840",
     "status": "completed"
    },
    "tags": []
   },
   "outputs": [],
   "source": [
    "df = df.drop([\"Substance\",\"fossil_bio\"],axis=1)"
   ]
  },
  {
   "cell_type": "code",
   "execution_count": 10,
   "id": "213530be-0211-4f7d-bac4-bd5042f9c968",
   "metadata": {
    "execution": {
     "iopub.execute_input": "2025-04-15T16:55:53.221210Z",
     "iopub.status.busy": "2025-04-15T16:55:53.221210Z",
     "iopub.status.idle": "2025-04-15T16:55:53.227932Z",
     "shell.execute_reply": "2025-04-15T16:55:53.227932Z"
    },
    "papermill": {
     "duration": 0.014695,
     "end_time": "2025-04-15T16:55:53.229921",
     "exception": false,
     "start_time": "2025-04-15T16:55:53.215226",
     "status": "completed"
    },
    "tags": []
   },
   "outputs": [],
   "source": [
    "df = df.rename(columns={\"C_group_IM24_sh\":\"zone\",\"Country_code_A3\":\"code\"})\n",
    "df = df.rename(columns={\"ipcc_code_2006_for_standard_report\":\"ipcc_code\",\"ipcc_code_2006_for_standard_report_name\":\"ipcc_name\"})"
   ]
  },
  {
   "cell_type": "code",
   "execution_count": 11,
   "id": "7d9caa35-0ab5-4f6e-8cb4-0923e2d70247",
   "metadata": {
    "execution": {
     "iopub.execute_input": "2025-04-15T16:55:53.241889Z",
     "iopub.status.busy": "2025-04-15T16:55:53.241889Z",
     "iopub.status.idle": "2025-04-15T16:55:53.251399Z",
     "shell.execute_reply": "2025-04-15T16:55:53.251399Z"
    },
    "papermill": {
     "duration": 0.018489,
     "end_time": "2025-04-15T16:55:53.253396",
     "exception": false,
     "start_time": "2025-04-15T16:55:53.234907",
     "status": "completed"
    },
    "tags": []
   },
   "outputs": [
    {
     "name": "stdout",
     "output_type": "stream",
     "text": [
      "Index(['IPCC_annex', 'zone', 'code', 'Name'], dtype='object')\n",
      "Index(['ipcc_code', 'ipcc_name'], dtype='object')\n",
      "Index(['Y_1970', 'Y_1971', 'Y_1972', 'Y_1973', 'Y_1974', 'Y_1975', 'Y_1976',\n",
      "       'Y_1977', 'Y_1978', 'Y_1979', 'Y_1980', 'Y_1981', 'Y_1982', 'Y_1983',\n",
      "       'Y_1984', 'Y_1985', 'Y_1986', 'Y_1987', 'Y_1988', 'Y_1989', 'Y_1990',\n",
      "       'Y_1991', 'Y_1992', 'Y_1993', 'Y_1994', 'Y_1995', 'Y_1996', 'Y_1997',\n",
      "       'Y_1998', 'Y_1999', 'Y_2000', 'Y_2001', 'Y_2002', 'Y_2003', 'Y_2004',\n",
      "       'Y_2005', 'Y_2006', 'Y_2007', 'Y_2008', 'Y_2009', 'Y_2010', 'Y_2011',\n",
      "       'Y_2012', 'Y_2013', 'Y_2014', 'Y_2015', 'Y_2016', 'Y_2017', 'Y_2018',\n",
      "       'Y_2019', 'Y_2020', 'Y_2021', 'Y_2022', 'Y_2023'],\n",
      "      dtype='object')\n"
     ]
    }
   ],
   "source": [
    "Country_columns = [\"IPCC_annex\",\"zone\",\"code\",\"Name\"]\n",
    "Code_columns = [\"ipcc_code\",\"ipcc_name\"]\n",
    "Country = df[Country_columns]\n",
    "Ipcc_code = df.drop(Country_columns,axis=1)[Code_columns]\n",
    "Year = df.drop(Country_columns + Code_columns,axis=1)\n",
    "print(Country.columns)\n",
    "print(Ipcc_code.columns)\n",
    "print(Year.columns)"
   ]
  },
  {
   "cell_type": "code",
   "execution_count": 12,
   "id": "d1f3f6c8-9db7-4396-b707-4461fe7565f1",
   "metadata": {
    "execution": {
     "iopub.execute_input": "2025-04-15T16:55:53.265323Z",
     "iopub.status.busy": "2025-04-15T16:55:53.265323Z",
     "iopub.status.idle": "2025-04-15T16:55:53.272592Z",
     "shell.execute_reply": "2025-04-15T16:55:53.271801Z"
    },
    "papermill": {
     "duration": 0.014264,
     "end_time": "2025-04-15T16:55:53.273598",
     "exception": false,
     "start_time": "2025-04-15T16:55:53.259334",
     "status": "completed"
    },
    "tags": []
   },
   "outputs": [],
   "source": [
    "# Handling missing values\n",
    "df.fillna(0,inplace=True)\n",
    "#remove duplicate records\n",
    "# Country.drop_duplicates(subset=['Name'], keep='first', inplace=True)\n",
    "# Ipcc_code.drop_duplicates(subset=['ipcc_code_2006_for_standard_report'], keep='first', inplace=True)"
   ]
  },
  {
   "cell_type": "code",
   "execution_count": 13,
   "id": "dae11f5c-ebef-412f-b4db-0482067eb62f",
   "metadata": {
    "execution": {
     "iopub.execute_input": "2025-04-15T16:55:53.286557Z",
     "iopub.status.busy": "2025-04-15T16:55:53.285560Z",
     "iopub.status.idle": "2025-04-15T16:55:53.294641Z",
     "shell.execute_reply": "2025-04-15T16:55:53.294641Z"
    },
    "papermill": {
     "duration": 0.017102,
     "end_time": "2025-04-15T16:55:53.296701",
     "exception": false,
     "start_time": "2025-04-15T16:55:53.279599",
     "status": "completed"
    },
    "scrolled": true,
    "tags": []
   },
   "outputs": [
    {
     "data": {
      "text/plain": [
       "IPCC_annex      0\n",
       "zone            0\n",
       "code            0\n",
       "Name            0\n",
       "ipcc_code       0\n",
       "ipcc_name       0\n",
       "Y_1970        751\n",
       "Y_1971        746\n",
       "Y_1972        746\n",
       "Y_1973        736\n",
       "Y_1974        712\n",
       "Y_1975        702\n",
       "Y_1976        695\n",
       "Y_1977        713\n",
       "Y_1978        652\n",
       "Y_1979        654\n",
       "Y_1980        651\n",
       "Y_1981        634\n",
       "Y_1982        652\n",
       "Y_1983        644\n",
       "Y_1984        640\n",
       "Y_1985        636\n",
       "Y_1986        640\n",
       "Y_1987        636\n",
       "Y_1988        641\n",
       "Y_1989        631\n",
       "Y_1990        541\n",
       "Y_1991        539\n",
       "Y_1992        529\n",
       "Y_1993        517\n",
       "Y_1994        509\n",
       "Y_1995        504\n",
       "Y_1996        479\n",
       "Y_1997        463\n",
       "Y_1998        481\n",
       "Y_1999        497\n",
       "Y_2000        492\n",
       "Y_2001        488\n",
       "Y_2002        498\n",
       "Y_2003        491\n",
       "Y_2004        418\n",
       "Y_2005        398\n",
       "Y_2006        394\n",
       "Y_2007        412\n",
       "Y_2008        406\n",
       "Y_2009        394\n",
       "Y_2010        372\n",
       "Y_2011        372\n",
       "Y_2012        354\n",
       "Y_2013        351\n",
       "Y_2014        341\n",
       "Y_2015        332\n",
       "Y_2016        327\n",
       "Y_2017        306\n",
       "Y_2018        314\n",
       "Y_2019        313\n",
       "Y_2020        316\n",
       "Y_2021        315\n",
       "Y_2022        317\n",
       "Y_2023        319\n",
       "dtype: int64"
      ]
     },
     "execution_count": 13,
     "metadata": {},
     "output_type": "execute_result"
    }
   ],
   "source": [
    "df.eq(0).sum()"
   ]
  },
  {
   "cell_type": "markdown",
   "id": "e1def12c-944f-4dd4-91d0-e6628eb3f216",
   "metadata": {
    "papermill": {
     "duration": 0.005986,
     "end_time": "2025-04-15T16:55:53.307673",
     "exception": false,
     "start_time": "2025-04-15T16:55:53.301687",
     "status": "completed"
    },
    "tags": []
   },
   "source": [
    "remove year columns before the year 2000. For our analysis we are focusing on the duration between 2000 - 2023"
   ]
  },
  {
   "cell_type": "code",
   "execution_count": 14,
   "id": "15b253ec-09ab-4d32-b1c2-06a9c74dbfd3",
   "metadata": {
    "execution": {
     "iopub.execute_input": "2025-04-15T16:55:53.322631Z",
     "iopub.status.busy": "2025-04-15T16:55:53.322631Z",
     "iopub.status.idle": "2025-04-15T16:55:53.327133Z",
     "shell.execute_reply": "2025-04-15T16:55:53.327133Z"
    },
    "papermill": {
     "duration": 0.016472,
     "end_time": "2025-04-15T16:55:53.329130",
     "exception": false,
     "start_time": "2025-04-15T16:55:53.312658",
     "status": "completed"
    },
    "tags": []
   },
   "outputs": [],
   "source": [
    "year_list=[]\n",
    "for i in range(2000,2024,1):\n",
    "    year_list.append(\"Y_\" + str(i))\n",
    "Year = Year[year_list];"
   ]
  },
  {
   "cell_type": "markdown",
   "id": "14baf050-d0a3-47c5-90e4-7ba27e1f3b46",
   "metadata": {
    "papermill": {
     "duration": 0.004988,
     "end_time": "2025-04-15T16:55:53.340102",
     "exception": false,
     "start_time": "2025-04-15T16:55:53.335114",
     "status": "completed"
    },
    "tags": []
   },
   "source": [
    "## Insert data into the DB"
   ]
  },
  {
   "cell_type": "code",
   "execution_count": 15,
   "id": "fc84c62e-08b2-4e11-a9ba-2aa5885c206e",
   "metadata": {
    "execution": {
     "iopub.execute_input": "2025-04-15T16:55:53.354064Z",
     "iopub.status.busy": "2025-04-15T16:55:53.354064Z",
     "iopub.status.idle": "2025-04-15T16:55:53.359387Z",
     "shell.execute_reply": "2025-04-15T16:55:53.359387Z"
    },
    "papermill": {
     "duration": 0.0153,
     "end_time": "2025-04-15T16:55:53.361385",
     "exception": false,
     "start_time": "2025-04-15T16:55:53.346085",
     "status": "completed"
    },
    "tags": []
   },
   "outputs": [],
   "source": [
    "load_dotenv(verbose=True)\n",
    "env_path = Path('.') / '.env'"
   ]
  },
  {
   "cell_type": "code",
   "execution_count": 16,
   "id": "c59fcea4-c406-498d-9528-b6ff9dcc4758",
   "metadata": {
    "execution": {
     "iopub.execute_input": "2025-04-15T16:55:53.373352Z",
     "iopub.status.busy": "2025-04-15T16:55:53.373352Z",
     "iopub.status.idle": "2025-04-15T16:55:53.378377Z",
     "shell.execute_reply": "2025-04-15T16:55:53.378377Z"
    },
    "papermill": {
     "duration": 0.014002,
     "end_time": "2025-04-15T16:55:53.380374",
     "exception": false,
     "start_time": "2025-04-15T16:55:53.366372",
     "status": "completed"
    },
    "tags": []
   },
   "outputs": [],
   "source": [
    "if(load_dotenv(dotenv_path=env_path)):\n",
    "    host = os.environ.get(\"neo_host\")\n",
    "    username = os.environ.get(\"neo_username\")\n",
    "    password = os.environ.get(\"neo_password\")\n",
    "else:\n",
    "    print(\".env file does not have required values!\")"
   ]
  },
  {
   "cell_type": "code",
   "execution_count": 17,
   "id": "f847ec62-a0ff-425a-82d3-e54b2f49e6d9",
   "metadata": {
    "execution": {
     "iopub.execute_input": "2025-04-15T16:55:53.393340Z",
     "iopub.status.busy": "2025-04-15T16:55:53.393340Z",
     "iopub.status.idle": "2025-04-15T16:55:53.550179Z",
     "shell.execute_reply": "2025-04-15T16:55:53.549194Z"
    },
    "papermill": {
     "duration": 0.164816,
     "end_time": "2025-04-15T16:55:53.551176",
     "exception": false,
     "start_time": "2025-04-15T16:55:53.386360",
     "status": "completed"
    },
    "tags": []
   },
   "outputs": [],
   "source": [
    "graph = Graph(host,auth=(username, password))"
   ]
  },
  {
   "cell_type": "code",
   "execution_count": 18,
   "id": "98ffad67-2cb3-48cd-85b0-4415fedb5580",
   "metadata": {
    "execution": {
     "iopub.execute_input": "2025-04-15T16:55:53.565139Z",
     "iopub.status.busy": "2025-04-15T16:55:53.564144Z",
     "iopub.status.idle": "2025-04-15T16:55:53.568831Z",
     "shell.execute_reply": "2025-04-15T16:55:53.568831Z"
    },
    "papermill": {
     "duration": 0.01367,
     "end_time": "2025-04-15T16:55:53.570830",
     "exception": false,
     "start_time": "2025-04-15T16:55:53.557160",
     "status": "completed"
    },
    "tags": []
   },
   "outputs": [],
   "source": [
    "def checkIfNodesAvailable(query):\n",
    "    result = graph.run(query)\n",
    "    record = result.data()\n",
    "    has_nodes = record[0][\"IsNodesPresent\"]\n",
    "    return has_nodes"
   ]
  },
  {
   "cell_type": "code",
   "execution_count": 19,
   "id": "122d0e40-b53a-4a10-8609-32b9e1af381d",
   "metadata": {
    "execution": {
     "iopub.execute_input": "2025-04-15T16:55:53.584791Z",
     "iopub.status.busy": "2025-04-15T16:55:53.584791Z",
     "iopub.status.idle": "2025-04-15T16:55:53.592208Z",
     "shell.execute_reply": "2025-04-15T16:55:53.591374Z"
    },
    "papermill": {
     "duration": 0.016396,
     "end_time": "2025-04-15T16:55:53.593208",
     "exception": false,
     "start_time": "2025-04-15T16:55:53.576812",
     "status": "completed"
    },
    "tags": []
   },
   "outputs": [],
   "source": [
    "def createNodes(row):\n",
    "    try:\n",
    "        country_node = Node(\"country\",code=row[\"code\"],name=row[\"Name\"],zone=row[\"zone\"])\n",
    "        graph.merge(country_node,\"country\",\"code\")\n",
    "        ipcc_node = Node(\"ipcc\",ipcc_code = row[\"ipcc_code\"],\n",
    "                      ipcc_name = row[\"ipcc_name\"])\n",
    "         \n",
    "        relation01 = Relationship(country_node,\"UNDER_IPCC_CODE\",ipcc_node)\n",
    "\n",
    "        graph.create(relation01)\n",
    "        emission_node = Node(\"emission\")\n",
    "        total_emission = 0.0\n",
    "        for year_column in [col for col in Year.columns]:\n",
    "            total_emission += row[year_column]\n",
    "            emission_node[year_column.replace(\"Y_\",\"\")] = row[year_column]\n",
    "        emission_node[\"total_emission\"] = total_emission\n",
    "        relation = Relationship(ipcc_node,\"HAS_PRODUCED\",emission_node)\n",
    "        graph.create(relation)\n",
    "    except Neo4jError as e:\n",
    "        print(f\"Error - {e.code} - {e.message}\")\n",
    "        return\n",
    "    except Exception as e:\n",
    "        print(f\"Unexpected Error - {str(e)}\")\n",
    "        return"
   ]
  },
  {
   "cell_type": "code",
   "execution_count": 20,
   "id": "b3bde5f1-4ee5-41d3-a91d-bc4445e1e2c7",
   "metadata": {
    "execution": {
     "iopub.execute_input": "2025-04-15T16:55:53.606173Z",
     "iopub.status.busy": "2025-04-15T16:55:53.606173Z",
     "iopub.status.idle": "2025-04-15T16:55:53.609447Z",
     "shell.execute_reply": "2025-04-15T16:55:53.609447Z"
    },
    "papermill": {
     "duration": 0.01225,
     "end_time": "2025-04-15T16:55:53.611444",
     "exception": false,
     "start_time": "2025-04-15T16:55:53.599194",
     "status": "completed"
    },
    "tags": []
   },
   "outputs": [],
   "source": [
    "check_query = \"\"\"\n",
    "OPTIONAL MATCH (n) WITH n LIMIT 1 \n",
    "RETURN n IS NOT NULL AS IsNodesPresent\n",
    "\"\"\""
   ]
  },
  {
   "cell_type": "code",
   "execution_count": 21,
   "id": "80b3cb35-e5aa-468d-89fc-1f5732a23b8b",
   "metadata": {
    "execution": {
     "iopub.execute_input": "2025-04-15T16:55:53.624411Z",
     "iopub.status.busy": "2025-04-15T16:55:53.623413Z",
     "iopub.status.idle": "2025-04-15T16:55:53.638395Z",
     "shell.execute_reply": "2025-04-15T16:55:53.637507Z"
    },
    "papermill": {
     "duration": 0.021964,
     "end_time": "2025-04-15T16:55:53.639395",
     "exception": false,
     "start_time": "2025-04-15T16:55:53.617431",
     "status": "completed"
    },
    "tags": []
   },
   "outputs": [
    {
     "name": "stdout",
     "output_type": "stream",
     "text": [
      "Nodes are already created and available in the DB!\n"
     ]
    }
   ],
   "source": [
    "if(checkIfNodesAvailable(check_query) == False):\n",
    "    for i,row in df.iterrows():\n",
    "        createNodes(row)\n",
    "else:\n",
    "    print(\"Nodes are already created and available in the DB!\")"
   ]
  },
  {
   "cell_type": "code",
   "execution_count": null,
   "id": "df9e5374-7714-49f3-aa18-40bd9e2a3617",
   "metadata": {
    "papermill": {
     "duration": 0.005983,
     "end_time": "2025-04-15T16:55:53.651362",
     "exception": false,
     "start_time": "2025-04-15T16:55:53.645379",
     "status": "completed"
    },
    "tags": []
   },
   "outputs": [],
   "source": []
  }
 ],
 "metadata": {
  "kernelspec": {
   "display_name": "Python [conda env:base] *",
   "language": "python",
   "name": "conda-base-py"
  },
  "language_info": {
   "codemirror_mode": {
    "name": "ipython",
    "version": 3
   },
   "file_extension": ".py",
   "mimetype": "text/x-python",
   "name": "python",
   "nbconvert_exporter": "python",
   "pygments_lexer": "ipython3",
   "version": "3.12.3"
  },
  "papermill": {
   "default_parameters": {},
   "duration": 8.640778,
   "end_time": "2025-04-15T16:55:54.123757",
   "environment_variables": {},
   "exception": null,
   "input_path": "C:\\Users\\Asus\\Desktop\\Study\\Msc DA\\Analytics Programming and Data Visualisation\\Project\\Data-Analytics-And-Visualization\\notebooks\\dataset_01\\loading_data_neo4js.ipynb",
   "output_path": "outputs\\output_loading_data_neo4js.ipynb",
   "parameters": {},
   "start_time": "2025-04-15T16:55:45.482979",
   "version": "2.6.0"
  }
 },
 "nbformat": 4,
 "nbformat_minor": 5
}