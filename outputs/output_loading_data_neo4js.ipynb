{
 "cells": [
  {
   "cell_type": "markdown",
   "id": "87c6e230-acc8-43d0-96e9-4d3130947203",
   "metadata": {
    "papermill": {
     "duration": 0.004975,
     "end_time": "2025-04-20T19:10:10.483152",
     "exception": false,
     "start_time": "2025-04-20T19:10:10.478177",
     "status": "completed"
    },
    "tags": []
   },
   "source": [
    "# Loading Dataset to Neo4JS"
   ]
  },
  {
   "cell_type": "code",
   "execution_count": 1,
   "id": "8bd3b6f6-3365-4a83-a8da-40863f3b9f1c",
   "metadata": {
    "execution": {
     "iopub.execute_input": "2025-04-20T19:10:10.492978Z",
     "iopub.status.busy": "2025-04-20T19:10:10.492978Z",
     "iopub.status.idle": "2025-04-20T19:10:10.496831Z",
     "shell.execute_reply": "2025-04-20T19:10:10.496831Z"
    },
    "papermill": {
     "duration": 0.010834,
     "end_time": "2025-04-20T19:10:10.498824",
     "exception": false,
     "start_time": "2025-04-20T19:10:10.487990",
     "status": "completed"
    },
    "tags": []
   },
   "outputs": [],
   "source": [
    "# pip install neo4j\n",
    "# pip install pandas py2neo\n",
    "# pip install python-dotenv\n",
    "# !pip install dagster papermill jupyter"
   ]
  },
  {
   "cell_type": "code",
   "execution_count": 2,
   "id": "02f917ae-1815-4f66-a170-2e329249b28a",
   "metadata": {
    "execution": {
     "iopub.execute_input": "2025-04-20T19:10:10.510805Z",
     "iopub.status.busy": "2025-04-20T19:10:10.509794Z",
     "iopub.status.idle": "2025-04-20T19:10:11.493744Z",
     "shell.execute_reply": "2025-04-20T19:10:11.493744Z"
    },
    "papermill": {
     "duration": 0.992915,
     "end_time": "2025-04-20T19:10:11.495738",
     "exception": false,
     "start_time": "2025-04-20T19:10:10.502823",
     "status": "completed"
    },
    "tags": []
   },
   "outputs": [],
   "source": [
    "import os\n",
    "\n",
    "import numpy as np\n",
    "import pandas as pd\n",
    "from neo4j import GraphDatabase\n",
    "from neo4j.exceptions import Neo4jError,ServiceUnavailable,ClientError\n",
    "from py2neo import Graph, Node, Relationship, Transaction\n",
    "from dotenv import load_dotenv\n",
    "from pathlib import Path\n",
    "import psycopg2\n",
    "from psycopg2 import sql"
   ]
  },
  {
   "cell_type": "code",
   "execution_count": 3,
   "id": "fdecc975-ff95-492a-ad14-89982d3dd698",
   "metadata": {
    "execution": {
     "iopub.execute_input": "2025-04-20T19:10:11.504842Z",
     "iopub.status.busy": "2025-04-20T19:10:11.504842Z",
     "iopub.status.idle": "2025-04-20T19:10:11.508047Z",
     "shell.execute_reply": "2025-04-20T19:10:11.508047Z"
    },
    "papermill": {
     "duration": 0.009187,
     "end_time": "2025-04-20T19:10:11.509021",
     "exception": false,
     "start_time": "2025-04-20T19:10:11.499834",
     "status": "completed"
    },
    "tags": []
   },
   "outputs": [],
   "source": [
    "#Intergovernmental Panel on Climate Change - IPCC"
   ]
  },
  {
   "cell_type": "code",
   "execution_count": 4,
   "id": "1e3bd78f-5df9-4fc6-a4c6-9e0a53b0cd14",
   "metadata": {
    "execution": {
     "iopub.execute_input": "2025-04-20T19:10:11.519990Z",
     "iopub.status.busy": "2025-04-20T19:10:11.519990Z",
     "iopub.status.idle": "2025-04-20T19:10:13.717182Z",
     "shell.execute_reply": "2025-04-20T19:10:13.716416Z"
    },
    "papermill": {
     "duration": 2.204176,
     "end_time": "2025-04-20T19:10:13.718182",
     "exception": false,
     "start_time": "2025-04-20T19:10:11.514006",
     "status": "completed"
    },
    "scrolled": true,
    "tags": []
   },
   "outputs": [],
   "source": [
    "df = pd.read_excel(\"data/IEA_EDGAR_CO2_1970_2023.xlsx\",sheet_name=\"IPCC 2006\",skiprows=9)"
   ]
  },
  {
   "cell_type": "code",
   "execution_count": 5,
   "id": "43de6589-9c18-40d6-b4b9-302f2d20b924",
   "metadata": {
    "execution": {
     "iopub.execute_input": "2025-04-20T19:10:13.729153Z",
     "iopub.status.busy": "2025-04-20T19:10:13.728154Z",
     "iopub.status.idle": "2025-04-20T19:10:13.731541Z",
     "shell.execute_reply": "2025-04-20T19:10:13.731541Z"
    },
    "papermill": {
     "duration": 0.010371,
     "end_time": "2025-04-20T19:10:13.733539",
     "exception": false,
     "start_time": "2025-04-20T19:10:13.723168",
     "status": "completed"
    },
    "scrolled": true,
    "tags": []
   },
   "outputs": [],
   "source": [
    "# df.columns"
   ]
  },
  {
   "cell_type": "code",
   "execution_count": 6,
   "id": "1d22bdbe-4baf-429c-abbb-ba6cce1ae989",
   "metadata": {
    "execution": {
     "iopub.execute_input": "2025-04-20T19:10:13.743511Z",
     "iopub.status.busy": "2025-04-20T19:10:13.743511Z",
     "iopub.status.idle": "2025-04-20T19:10:13.746138Z",
     "shell.execute_reply": "2025-04-20T19:10:13.746138Z"
    },
    "papermill": {
     "duration": 0.010601,
     "end_time": "2025-04-20T19:10:13.748129",
     "exception": false,
     "start_time": "2025-04-20T19:10:13.737528",
     "status": "completed"
    },
    "tags": []
   },
   "outputs": [],
   "source": [
    "# df.head()"
   ]
  },
  {
   "cell_type": "code",
   "execution_count": 7,
   "id": "00abe863-7e9b-4351-9c0a-5412a5f4c1b6",
   "metadata": {
    "execution": {
     "iopub.execute_input": "2025-04-20T19:10:13.758102Z",
     "iopub.status.busy": "2025-04-20T19:10:13.757106Z",
     "iopub.status.idle": "2025-04-20T19:10:13.760515Z",
     "shell.execute_reply": "2025-04-20T19:10:13.760515Z"
    },
    "papermill": {
     "duration": 0.010388,
     "end_time": "2025-04-20T19:10:13.762507",
     "exception": false,
     "start_time": "2025-04-20T19:10:13.752119",
     "status": "completed"
    },
    "tags": []
   },
   "outputs": [],
   "source": [
    "# def connectToDataBases():\n",
    "#     try:\n",
    "#         URI = \"bolt://localhost:7687\"\n",
    "#         AUTH = (\"neo4j\", \"asd123asd123\")\n",
    "        \n",
    "#         driver = GraphDatabase.driver(URI, auth=AUTH)\n",
    "#         return driver\n",
    "#     except Neo4jError as e:\n",
    "#         print(f\"Error when connecting to DB - {e.code} - {e.message}\")"
   ]
  },
  {
   "cell_type": "code",
   "execution_count": 8,
   "id": "586848a9-a03e-45b2-adf8-f729e6636736",
   "metadata": {
    "execution": {
     "iopub.execute_input": "2025-04-20T19:10:13.772491Z",
     "iopub.status.busy": "2025-04-20T19:10:13.772491Z",
     "iopub.status.idle": "2025-04-20T19:10:13.777668Z",
     "shell.execute_reply": "2025-04-20T19:10:13.777668Z"
    },
    "papermill": {
     "duration": 0.012168,
     "end_time": "2025-04-20T19:10:13.778664",
     "exception": false,
     "start_time": "2025-04-20T19:10:13.766496",
     "status": "completed"
    },
    "tags": []
   },
   "outputs": [],
   "source": [
    "def connectToDB():\n",
    "    try:\n",
    "        load_dotenv(verbose=True)\n",
    "        env_path = Path('.') / '.env'\n",
    "        if(load_dotenv(dotenv_path=env_path)):\n",
    "            _host = os.environ.get(\"pg_host\")\n",
    "            _username = os.environ.get(\"pg_username\")\n",
    "            _password = os.environ.get(\"pg_password\")\n",
    "            _port = int(os.environ.get(\"pg_port\"))\n",
    "            conn = psycopg2.connect(database=\"CO2_Emission\",\n",
    "                    host=_host,\n",
    "                    user=_username,\n",
    "                    password=_password,\n",
    "                    port=_port)\n",
    "            return conn\n",
    "        else:\n",
    "            return None\n",
    "    except (psycopg2.DatabaseError, Exception) as error:\n",
    "        print(error)"
   ]
  },
  {
   "cell_type": "code",
   "execution_count": 9,
   "id": "f1db632c-ee41-44d1-970d-f3ce8c00bcc1",
   "metadata": {
    "execution": {
     "iopub.execute_input": "2025-04-20T19:10:13.790506Z",
     "iopub.status.busy": "2025-04-20T19:10:13.790506Z",
     "iopub.status.idle": "2025-04-20T19:10:13.793386Z",
     "shell.execute_reply": "2025-04-20T19:10:13.792884Z"
    },
    "papermill": {
     "duration": 0.010736,
     "end_time": "2025-04-20T19:10:13.794386",
     "exception": false,
     "start_time": "2025-04-20T19:10:13.783650",
     "status": "completed"
    },
    "tags": []
   },
   "outputs": [],
   "source": [
    "# conn = connectToDB()\n",
    "# cursor = conn.cursor()"
   ]
  },
  {
   "cell_type": "code",
   "execution_count": 10,
   "id": "486d1041-ce9d-4def-b019-4ed3974b693c",
   "metadata": {
    "execution": {
     "iopub.execute_input": "2025-04-20T19:10:13.806354Z",
     "iopub.status.busy": "2025-04-20T19:10:13.805356Z",
     "iopub.status.idle": "2025-04-20T19:10:13.808489Z",
     "shell.execute_reply": "2025-04-20T19:10:13.808489Z"
    },
    "papermill": {
     "duration": 0.012113,
     "end_time": "2025-04-20T19:10:13.810488",
     "exception": false,
     "start_time": "2025-04-20T19:10:13.798375",
     "status": "completed"
    },
    "tags": []
   },
   "outputs": [],
   "source": [
    "query = sql.SQL(\"\"\"\n",
    "SELECT c.*, e.*,i.* FROM emission e LEFT JOIN country c on e.country_id == c.country_id\n",
    "LEFT JOIN ipcc i on e.ipcc_id == i.ipcc_id\"\"\")"
   ]
  },
  {
   "cell_type": "code",
   "execution_count": 11,
   "id": "4ccfb8e0-cda8-43f9-be99-828d7f710e17",
   "metadata": {
    "execution": {
     "iopub.execute_input": "2025-04-20T19:10:13.819463Z",
     "iopub.status.busy": "2025-04-20T19:10:13.819463Z",
     "iopub.status.idle": "2025-04-20T19:10:13.822231Z",
     "shell.execute_reply": "2025-04-20T19:10:13.822231Z"
    },
    "papermill": {
     "duration": 0.010742,
     "end_time": "2025-04-20T19:10:13.825217",
     "exception": false,
     "start_time": "2025-04-20T19:10:13.814475",
     "status": "completed"
    },
    "tags": []
   },
   "outputs": [],
   "source": [
    "# cursor.execute(query)\n",
    "# all_data = cursor.fetchall()\n",
    "# df_combined = pd.DataFrame(all_data)"
   ]
  },
  {
   "cell_type": "markdown",
   "id": "a0e8fc3b-d4b2-41e7-9a74-d3e7b59d0ef2",
   "metadata": {
    "papermill": {
     "duration": 0.003988,
     "end_time": "2025-04-20T19:10:13.836188",
     "exception": false,
     "start_time": "2025-04-20T19:10:13.832200",
     "status": "completed"
    },
    "tags": []
   },
   "source": [
    "## Data Pre-processing"
   ]
  },
  {
   "cell_type": "code",
   "execution_count": 12,
   "id": "68a52530-97fc-4dce-b61f-26b09d63cfd9",
   "metadata": {
    "execution": {
     "iopub.execute_input": "2025-04-20T19:10:13.848155Z",
     "iopub.status.busy": "2025-04-20T19:10:13.848155Z",
     "iopub.status.idle": "2025-04-20T19:10:13.852390Z",
     "shell.execute_reply": "2025-04-20T19:10:13.851406Z"
    },
    "papermill": {
     "duration": 0.013209,
     "end_time": "2025-04-20T19:10:13.853386",
     "exception": false,
     "start_time": "2025-04-20T19:10:13.840177",
     "status": "completed"
    },
    "tags": []
   },
   "outputs": [],
   "source": [
    "#Aggregate Data to create tables"
   ]
  },
  {
   "cell_type": "code",
   "execution_count": 13,
   "id": "ca116fee-66ee-47ce-91de-eb2c106a2b92",
   "metadata": {
    "execution": {
     "iopub.execute_input": "2025-04-20T19:10:13.867348Z",
     "iopub.status.busy": "2025-04-20T19:10:13.866351Z",
     "iopub.status.idle": "2025-04-20T19:10:13.872492Z",
     "shell.execute_reply": "2025-04-20T19:10:13.871494Z"
    },
    "papermill": {
     "duration": 0.014113,
     "end_time": "2025-04-20T19:10:13.873482",
     "exception": false,
     "start_time": "2025-04-20T19:10:13.859369",
     "status": "completed"
    },
    "tags": []
   },
   "outputs": [],
   "source": [
    "df = df.drop([\"Substance\",\"fossil_bio\"],axis=1)"
   ]
  },
  {
   "cell_type": "code",
   "execution_count": 14,
   "id": "213530be-0211-4f7d-bac4-bd5042f9c968",
   "metadata": {
    "execution": {
     "iopub.execute_input": "2025-04-20T19:10:13.889441Z",
     "iopub.status.busy": "2025-04-20T19:10:13.889441Z",
     "iopub.status.idle": "2025-04-20T19:10:13.896633Z",
     "shell.execute_reply": "2025-04-20T19:10:13.896633Z"
    },
    "papermill": {
     "duration": 0.018154,
     "end_time": "2025-04-20T19:10:13.898626",
     "exception": false,
     "start_time": "2025-04-20T19:10:13.880472",
     "status": "completed"
    },
    "tags": []
   },
   "outputs": [],
   "source": [
    "df = df.rename(columns={\"C_group_IM24_sh\":\"zone\",\"Country_code_A3\":\"code\"})\n",
    "df = df.rename(columns={\"ipcc_code_2006_for_standard_report\":\"ipcc_code\",\"ipcc_code_2006_for_standard_report_name\":\"ipcc_name\"})"
   ]
  },
  {
   "cell_type": "code",
   "execution_count": 15,
   "id": "7d9caa35-0ab5-4f6e-8cb4-0923e2d70247",
   "metadata": {
    "execution": {
     "iopub.execute_input": "2025-04-20T19:10:13.912587Z",
     "iopub.status.busy": "2025-04-20T19:10:13.912587Z",
     "iopub.status.idle": "2025-04-20T19:10:13.924555Z",
     "shell.execute_reply": "2025-04-20T19:10:13.924555Z"
    },
    "papermill": {
     "duration": 0.020941,
     "end_time": "2025-04-20T19:10:13.925552",
     "exception": false,
     "start_time": "2025-04-20T19:10:13.904611",
     "status": "completed"
    },
    "tags": []
   },
   "outputs": [
    {
     "name": "stdout",
     "output_type": "stream",
     "text": [
      "Index(['IPCC_annex', 'zone', 'code', 'Name'], dtype='object')\n",
      "Index(['ipcc_code', 'ipcc_name'], dtype='object')\n",
      "Index(['Y_1970', 'Y_1971', 'Y_1972', 'Y_1973', 'Y_1974', 'Y_1975', 'Y_1976',\n",
      "       'Y_1977', 'Y_1978', 'Y_1979', 'Y_1980', 'Y_1981', 'Y_1982', 'Y_1983',\n",
      "       'Y_1984', 'Y_1985', 'Y_1986', 'Y_1987', 'Y_1988', 'Y_1989', 'Y_1990',\n",
      "       'Y_1991', 'Y_1992', 'Y_1993', 'Y_1994', 'Y_1995', 'Y_1996', 'Y_1997',\n",
      "       'Y_1998', 'Y_1999', 'Y_2000', 'Y_2001', 'Y_2002', 'Y_2003', 'Y_2004',\n",
      "       'Y_2005', 'Y_2006', 'Y_2007', 'Y_2008', 'Y_2009', 'Y_2010', 'Y_2011',\n",
      "       'Y_2012', 'Y_2013', 'Y_2014', 'Y_2015', 'Y_2016', 'Y_2017', 'Y_2018',\n",
      "       'Y_2019', 'Y_2020', 'Y_2021', 'Y_2022', 'Y_2023'],\n",
      "      dtype='object')\n"
     ]
    }
   ],
   "source": [
    "Country_columns = [\"IPCC_annex\",\"zone\",\"code\",\"Name\"]\n",
    "Code_columns = [\"ipcc_code\",\"ipcc_name\"]\n",
    "Country = df[Country_columns]\n",
    "Ipcc_code = df.drop(Country_columns,axis=1)[Code_columns]\n",
    "Year = df.drop(Country_columns + Code_columns,axis=1)\n",
    "print(Country.columns)\n",
    "print(Ipcc_code.columns)\n",
    "print(Year.columns)"
   ]
  },
  {
   "cell_type": "code",
   "execution_count": 16,
   "id": "d1f3f6c8-9db7-4396-b707-4461fe7565f1",
   "metadata": {
    "execution": {
     "iopub.execute_input": "2025-04-20T19:10:13.939517Z",
     "iopub.status.busy": "2025-04-20T19:10:13.939517Z",
     "iopub.status.idle": "2025-04-20T19:10:13.947087Z",
     "shell.execute_reply": "2025-04-20T19:10:13.947087Z"
    },
    "papermill": {
     "duration": 0.01854,
     "end_time": "2025-04-20T19:10:13.950076",
     "exception": false,
     "start_time": "2025-04-20T19:10:13.931536",
     "status": "completed"
    },
    "tags": []
   },
   "outputs": [],
   "source": [
    "# Handling missing values\n",
    "df.fillna(0,inplace=True)\n",
    "#remove duplicate records\n",
    "# Country.drop_duplicates(subset=['Name'], keep='first', inplace=True)\n",
    "# Ipcc_code.drop_duplicates(subset=['ipcc_code_2006_for_standard_report'], keep='first', inplace=True)"
   ]
  },
  {
   "cell_type": "code",
   "execution_count": 17,
   "id": "dae11f5c-ebef-412f-b4db-0482067eb62f",
   "metadata": {
    "execution": {
     "iopub.execute_input": "2025-04-20T19:10:13.962043Z",
     "iopub.status.busy": "2025-04-20T19:10:13.961046Z",
     "iopub.status.idle": "2025-04-20T19:10:13.974604Z",
     "shell.execute_reply": "2025-04-20T19:10:13.974604Z"
    },
    "papermill": {
     "duration": 0.020552,
     "end_time": "2025-04-20T19:10:13.976613",
     "exception": false,
     "start_time": "2025-04-20T19:10:13.956061",
     "status": "completed"
    },
    "scrolled": true,
    "tags": []
   },
   "outputs": [
    {
     "data": {
      "text/plain": [
       "IPCC_annex      0\n",
       "zone            0\n",
       "code            0\n",
       "Name            0\n",
       "ipcc_code       0\n",
       "ipcc_name       0\n",
       "Y_1970        751\n",
       "Y_1971        746\n",
       "Y_1972        746\n",
       "Y_1973        736\n",
       "Y_1974        712\n",
       "Y_1975        702\n",
       "Y_1976        695\n",
       "Y_1977        713\n",
       "Y_1978        652\n",
       "Y_1979        654\n",
       "Y_1980        651\n",
       "Y_1981        634\n",
       "Y_1982        652\n",
       "Y_1983        644\n",
       "Y_1984        640\n",
       "Y_1985        636\n",
       "Y_1986        640\n",
       "Y_1987        636\n",
       "Y_1988        641\n",
       "Y_1989        631\n",
       "Y_1990        541\n",
       "Y_1991        539\n",
       "Y_1992        529\n",
       "Y_1993        517\n",
       "Y_1994        509\n",
       "Y_1995        504\n",
       "Y_1996        479\n",
       "Y_1997        463\n",
       "Y_1998        481\n",
       "Y_1999        497\n",
       "Y_2000        492\n",
       "Y_2001        488\n",
       "Y_2002        498\n",
       "Y_2003        491\n",
       "Y_2004        418\n",
       "Y_2005        398\n",
       "Y_2006        394\n",
       "Y_2007        412\n",
       "Y_2008        406\n",
       "Y_2009        394\n",
       "Y_2010        372\n",
       "Y_2011        372\n",
       "Y_2012        354\n",
       "Y_2013        351\n",
       "Y_2014        341\n",
       "Y_2015        332\n",
       "Y_2016        327\n",
       "Y_2017        306\n",
       "Y_2018        314\n",
       "Y_2019        313\n",
       "Y_2020        316\n",
       "Y_2021        315\n",
       "Y_2022        317\n",
       "Y_2023        319\n",
       "dtype: int64"
      ]
     },
     "execution_count": 17,
     "metadata": {},
     "output_type": "execute_result"
    }
   ],
   "source": [
    "df.eq(0).sum()"
   ]
  },
  {
   "cell_type": "markdown",
   "id": "e1def12c-944f-4dd4-91d0-e6628eb3f216",
   "metadata": {
    "papermill": {
     "duration": 0.005984,
     "end_time": "2025-04-20T19:10:13.987566",
     "exception": false,
     "start_time": "2025-04-20T19:10:13.981582",
     "status": "completed"
    },
    "tags": []
   },
   "source": [
    "remove year columns before the year 2000. For our analysis we are focusing on the duration between 2000 - 2023"
   ]
  },
  {
   "cell_type": "code",
   "execution_count": 18,
   "id": "15b253ec-09ab-4d32-b1c2-06a9c74dbfd3",
   "metadata": {
    "execution": {
     "iopub.execute_input": "2025-04-20T19:10:13.998537Z",
     "iopub.status.busy": "2025-04-20T19:10:13.998537Z",
     "iopub.status.idle": "2025-04-20T19:10:14.002095Z",
     "shell.execute_reply": "2025-04-20T19:10:14.002095Z"
    },
    "papermill": {
     "duration": 0.012509,
     "end_time": "2025-04-20T19:10:14.005061",
     "exception": false,
     "start_time": "2025-04-20T19:10:13.992552",
     "status": "completed"
    },
    "tags": []
   },
   "outputs": [],
   "source": [
    "year_list=[]\n",
    "for i in range(2000,2024,1):\n",
    "    year_list.append(\"Y_\" + str(i))\n",
    "Year = Year[year_list];"
   ]
  },
  {
   "cell_type": "markdown",
   "id": "14baf050-d0a3-47c5-90e4-7ba27e1f3b46",
   "metadata": {
    "papermill": {
     "duration": 0.00698,
     "end_time": "2025-04-20T19:10:14.019024",
     "exception": false,
     "start_time": "2025-04-20T19:10:14.012044",
     "status": "completed"
    },
    "tags": []
   },
   "source": [
    "## Insert data into the DB"
   ]
  },
  {
   "cell_type": "code",
   "execution_count": 19,
   "id": "fc84c62e-08b2-4e11-a9ba-2aa5885c206e",
   "metadata": {
    "execution": {
     "iopub.execute_input": "2025-04-20T19:10:14.030990Z",
     "iopub.status.busy": "2025-04-20T19:10:14.030990Z",
     "iopub.status.idle": "2025-04-20T19:10:14.035954Z",
     "shell.execute_reply": "2025-04-20T19:10:14.035954Z"
    },
    "papermill": {
     "duration": 0.011943,
     "end_time": "2025-04-20T19:10:14.036950",
     "exception": false,
     "start_time": "2025-04-20T19:10:14.025007",
     "status": "completed"
    },
    "tags": []
   },
   "outputs": [],
   "source": [
    "load_dotenv(verbose=True)\n",
    "env_path = Path('.') / '.env'"
   ]
  },
  {
   "cell_type": "code",
   "execution_count": 20,
   "id": "c59fcea4-c406-498d-9528-b6ff9dcc4758",
   "metadata": {
    "execution": {
     "iopub.execute_input": "2025-04-20T19:10:14.047921Z",
     "iopub.status.busy": "2025-04-20T19:10:14.047921Z",
     "iopub.status.idle": "2025-04-20T19:10:14.053226Z",
     "shell.execute_reply": "2025-04-20T19:10:14.052225Z"
    },
    "papermill": {
     "duration": 0.012282,
     "end_time": "2025-04-20T19:10:14.054219",
     "exception": false,
     "start_time": "2025-04-20T19:10:14.041937",
     "status": "completed"
    },
    "tags": []
   },
   "outputs": [],
   "source": [
    "if(load_dotenv(dotenv_path=env_path)):\n",
    "    host = os.environ.get(\"neo_host\")\n",
    "    username = os.environ.get(\"neo_username\")\n",
    "    password = os.environ.get(\"neo_password\")\n",
    "else:\n",
    "    print(\".env file does not have required values!\")"
   ]
  },
  {
   "cell_type": "code",
   "execution_count": 21,
   "id": "f847ec62-a0ff-425a-82d3-e54b2f49e6d9",
   "metadata": {
    "execution": {
     "iopub.execute_input": "2025-04-20T19:10:14.068181Z",
     "iopub.status.busy": "2025-04-20T19:10:14.067193Z",
     "iopub.status.idle": "2025-04-20T19:10:14.183293Z",
     "shell.execute_reply": "2025-04-20T19:10:14.182783Z"
    },
    "papermill": {
     "duration": 0.126092,
     "end_time": "2025-04-20T19:10:14.185297",
     "exception": false,
     "start_time": "2025-04-20T19:10:14.059205",
     "status": "completed"
    },
    "tags": []
   },
   "outputs": [],
   "source": [
    "graph = Graph(host,auth=(username, password))"
   ]
  },
  {
   "cell_type": "code",
   "execution_count": 22,
   "id": "98ffad67-2cb3-48cd-85b0-4415fedb5580",
   "metadata": {
    "execution": {
     "iopub.execute_input": "2025-04-20T19:10:14.199030Z",
     "iopub.status.busy": "2025-04-20T19:10:14.198047Z",
     "iopub.status.idle": "2025-04-20T19:10:14.202049Z",
     "shell.execute_reply": "2025-04-20T19:10:14.202049Z"
    },
    "papermill": {
     "duration": 0.012777,
     "end_time": "2025-04-20T19:10:14.204043",
     "exception": false,
     "start_time": "2025-04-20T19:10:14.191266",
     "status": "completed"
    },
    "tags": []
   },
   "outputs": [],
   "source": [
    "def checkIfNodesAvailable(query):\n",
    "    result = graph.run(query)\n",
    "    record = result.data()\n",
    "    has_nodes = record[0][\"IsNodesPresent\"]\n",
    "    return has_nodes"
   ]
  },
  {
   "cell_type": "code",
   "execution_count": 23,
   "id": "122d0e40-b53a-4a10-8609-32b9e1af381d",
   "metadata": {
    "execution": {
     "iopub.execute_input": "2025-04-20T19:10:14.215014Z",
     "iopub.status.busy": "2025-04-20T19:10:14.215014Z",
     "iopub.status.idle": "2025-04-20T19:10:14.220658Z",
     "shell.execute_reply": "2025-04-20T19:10:14.219704Z"
    },
    "papermill": {
     "duration": 0.013634,
     "end_time": "2025-04-20T19:10:14.222663",
     "exception": false,
     "start_time": "2025-04-20T19:10:14.209029",
     "status": "completed"
    },
    "tags": []
   },
   "outputs": [],
   "source": [
    "def createNodes(row):\n",
    "    try:\n",
    "        country_node = Node(\"country\",code=row[\"code\"],name=row[\"Name\"],zone=row[\"zone\"])\n",
    "        graph.merge(country_node,\"country\",\"code\")\n",
    "        ipcc_node = Node(\"ipcc\",ipcc_code = row[\"ipcc_code\"],\n",
    "                      ipcc_name = row[\"ipcc_name\"])\n",
    "         \n",
    "        relation01 = Relationship(country_node,\"UNDER_IPCC_CODE\",ipcc_node)\n",
    "\n",
    "        graph.create(relation01)\n",
    "        emission_node = Node(\"emission\")\n",
    "        total_emission = 0.0\n",
    "        for year_column in [col for col in Year.columns]:\n",
    "            total_emission += row[year_column]\n",
    "            emission_node[year_column.replace(\"Y_\",\"\")] = row[year_column]\n",
    "        emission_node[\"total_emission\"] = total_emission\n",
    "        relation = Relationship(ipcc_node,\"HAS_PRODUCED\",emission_node)\n",
    "        graph.create(relation)\n",
    "    except Neo4jError as e:\n",
    "        print(f\"Error - {e.code} - {e.message}\")\n",
    "        return\n",
    "    except Exception as e:\n",
    "        print(f\"Unexpected Error - {str(e)}\")\n",
    "        return"
   ]
  },
  {
   "cell_type": "code",
   "execution_count": 24,
   "id": "b3bde5f1-4ee5-41d3-a91d-bc4445e1e2c7",
   "metadata": {
    "execution": {
     "iopub.execute_input": "2025-04-20T19:10:14.234619Z",
     "iopub.status.busy": "2025-04-20T19:10:14.233643Z",
     "iopub.status.idle": "2025-04-20T19:10:14.237610Z",
     "shell.execute_reply": "2025-04-20T19:10:14.237610Z"
    },
    "papermill": {
     "duration": 0.010968,
     "end_time": "2025-04-20T19:10:14.238604",
     "exception": false,
     "start_time": "2025-04-20T19:10:14.227636",
     "status": "completed"
    },
    "tags": []
   },
   "outputs": [],
   "source": [
    "check_query = \"\"\"\n",
    "OPTIONAL MATCH (n) WITH n LIMIT 1 \n",
    "RETURN n IS NOT NULL AS IsNodesPresent\n",
    "\"\"\""
   ]
  },
  {
   "cell_type": "code",
   "execution_count": 25,
   "id": "80b3cb35-e5aa-468d-89fc-1f5732a23b8b",
   "metadata": {
    "execution": {
     "iopub.execute_input": "2025-04-20T19:10:14.249575Z",
     "iopub.status.busy": "2025-04-20T19:10:14.249575Z",
     "iopub.status.idle": "2025-04-20T19:10:14.263825Z",
     "shell.execute_reply": "2025-04-20T19:10:14.263536Z"
    },
    "papermill": {
     "duration": 0.021235,
     "end_time": "2025-04-20T19:10:14.264825",
     "exception": false,
     "start_time": "2025-04-20T19:10:14.243590",
     "status": "completed"
    },
    "tags": []
   },
   "outputs": [
    {
     "name": "stdout",
     "output_type": "stream",
     "text": [
      "Nodes are already created and available in the DB!\n"
     ]
    }
   ],
   "source": [
    "if(checkIfNodesAvailable(check_query) == False):\n",
    "    for i,row in df.iterrows():\n",
    "        createNodes(row)\n",
    "else:\n",
    "    print(\"Nodes are already created and available in the DB!\")"
   ]
  },
  {
   "cell_type": "code",
   "execution_count": null,
   "id": "df9e5374-7714-49f3-aa18-40bd9e2a3617",
   "metadata": {
    "papermill": {
     "duration": 0.004971,
     "end_time": "2025-04-20T19:10:14.275795",
     "exception": false,
     "start_time": "2025-04-20T19:10:14.270824",
     "status": "completed"
    },
    "tags": []
   },
   "outputs": [],
   "source": []
  }
 ],
 "metadata": {
  "kernelspec": {
   "display_name": "Python [conda env:base] *",
   "language": "python",
   "name": "conda-base-py"
  },
  "language_info": {
   "codemirror_mode": {
    "name": "ipython",
    "version": 3
   },
   "file_extension": ".py",
   "mimetype": "text/x-python",
   "name": "python",
   "nbconvert_exporter": "python",
   "pygments_lexer": "ipython3",
   "version": "3.12.3"
  },
  "papermill": {
   "default_parameters": {},
   "duration": 6.543294,
   "end_time": "2025-04-20T19:10:14.738333",
   "environment_variables": {},
   "exception": null,
   "input_path": "C:\\Users\\Asus\\Desktop\\Study\\Msc DA\\Analytics Programming and Data Visualisation\\Project\\Data-Analytics-And-Visualization\\notebooks\\dataset_01\\loading_data_neo4js.ipynb",
   "output_path": "outputs\\output_loading_data_neo4js.ipynb",
   "parameters": {},
   "start_time": "2025-04-20T19:10:08.195039",
   "version": "2.6.0"
  }
 },
 "nbformat": 4,
 "nbformat_minor": 5
}