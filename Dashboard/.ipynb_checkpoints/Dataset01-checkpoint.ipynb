{
 "cells": [
  {
   "cell_type": "code",
   "execution_count": 19,
   "id": "11f59222-3a60-43b7-8be3-006f3ed82e8e",
   "metadata": {},
   "outputs": [],
   "source": [
    "import os\n",
    "import numpy as np\n",
    "import pandas as pd\n",
    "from neo4j import GraphDatabase\n",
    "from dotenv import load_dotenv\n",
    "from pathlib import Path \n",
    "import matplotlib.pyplot as plt\n",
    "import psycopg2\n",
    "from dash import Dash, html, dash_table, dcc\n",
    "from dash.dependencies import Input, Output\n",
    "import plotly.express as px\n",
    "import plotly.graph_objects as go"
   ]
  },
  {
   "cell_type": "code",
   "execution_count": 4,
   "id": "dd8489d5-1a9c-4e0b-b972-21fbee78d865",
   "metadata": {},
   "outputs": [],
   "source": [
    "check_query = \"\"\"\n",
    "OPTIONAL MATCH (n) WITH n LIMIT 1 \n",
    "RETURN n IS NOT NULL AS IsNodesPresent\n",
    "\"\"\"\n",
    "country_query = \"\"\"\n",
    "MATCH (n:country) RETURN n.code as Code, n.zone as Zone, n.name as Name LIMIT 25\n",
    "\"\"\"\n",
    "\n",
    "emission_by_country_query = \"\"\"\n",
    "MATCH (c:country)-[r1:UNDER_IPCC_CODE]->(i:ipcc)-[r2:HAS_PRODUCED]->(e:emission)\n",
    "WITH c,i,e,r1,r2\n",
    "WHERE c.code = '{key}'\n",
    "RETURN\n",
    "    c.code as Code,\n",
    "    c.zone as Zone,\n",
    "    c.name as Name,\n",
    "    i.ipcc_code as IPCC_Code,\n",
    "    i.ipcc_name as IPCC_Code_Name,\n",
    "    e.total_emission as Total_Emission\n",
    "    ORDER BY Code\n",
    "\"\"\"\n",
    "emission_by_all_country_query = \"\"\"\n",
    "MATCH (c:country)-[r1:UNDER_IPCC_CODE]->(i:ipcc)-[r2:HAS_PRODUCED]->(e:emission)\n",
    "WITH c,i,e,r1,r2\n",
    "RETURN\n",
    "    c.code as Code,\n",
    "    c.name as Name,\n",
    "    SUM(e.total_emission) as Total_Emission\n",
    "    ORDER BY Total_Emission DESC LIMIT 5\n",
    "\"\"\"\n",
    "\n",
    "emission_by_country_year_query = \"\"\"\n",
    "MATCH (c:country)-[r1:UNDER_IPCC_CODE]->(i:ipcc)-[r2:HAS_PRODUCED]->(e:emission)\n",
    "WITH c,i,e,r1,r2\n",
    "WHERE i.ipcc_code = '{key1}'\n",
    "RETURN\n",
    "    c.code as Code,\n",
    "    c.zone as Zone,\n",
    "    c.name as Name,\n",
    "    i.ipcc_code as IPCC_Code,\n",
    "    i.ipcc_name as IPCC_Code_Name,\n",
    "    e.`{key2}` as Y_{key2},\n",
    "    e.total_emission as Total_Emission\n",
    "    ORDER BY Code\n",
    "\"\"\"\n",
    "\n",
    "emission_by_secotrs_query = \"\"\"\n",
    "MATCH (c:country)-[r1:UNDER_IPCC_CODE]->(i:ipcc)-[r2:HAS_PRODUCED]->(e:emission)\n",
    "WITH c,i,e,r1,r2\n",
    "WHERE i.ipcc_code = '{key}'\n",
    "RETURN\n",
    "    c.name as Country_Name,\n",
    "    i.ipcc_code as Code,\n",
    "    i.ipcc_name as Name, \n",
    "    e.total_emission as Total_Emission\n",
    "    ORDER BY Total_Emission DESC LIMIT 10\n",
    "\"\"\"\n",
    "\n",
    "emission_by_all_secotrs_query = \"\"\"\n",
    "MATCH (c:country)-[r1:UNDER_IPCC_CODE]->(i:ipcc)-[r2:HAS_PRODUCED]->(e:emission)\n",
    "WITH c,i,e,r1,r2\n",
    "RETURN\n",
    "    c.name as Country_Name,\n",
    "    i.ipcc_code as Code,\n",
    "    i.ipcc_name as Name, \n",
    "    e.total_emission as Total_Emission\n",
    "\"\"\"\n",
    "complete_emission_query=\"\"\"\n",
    "MATCH (c:country)-[r1:UNDER_IPCC_CODE]->(i:ipcc)-[r2:HAS_PRODUCED]->(e:emission)\n",
    "WITH c,i,e,r1,r2\n",
    "RETURN\n",
    "    c.code as Code,\n",
    "    c.zone as Zone,\n",
    "    c.name as Name,\n",
    "    i.ipcc_code as IPCC_Code,\n",
    "    i.ipcc_name as IPCC_Code_Name,\n",
    "    properties(e) as emissions\n",
    "ORDER BY Code\n",
    "\"\"\""
   ]
  },
  {
   "cell_type": "code",
   "execution_count": 21,
   "id": "5df77c85-e200-46b9-834b-7e56ef3480f4",
   "metadata": {},
   "outputs": [],
   "source": [
    "def connectToDataBases():\n",
    "    env_path = Path('..') / '.env'\n",
    "    if(load_dotenv(dotenv_path=env_path)):\n",
    "        host = os.environ.get(\"neo_host\")\n",
    "        username = os.environ.get(\"neo_username\")\n",
    "        password = os.environ.get(\"neo_password\")\n",
    "    else:\n",
    "        print(\".env file does not have required values!\")\n",
    "    driver = GraphDatabase.driver(host,auth=(username, password))\n",
    "    return driver"
   ]
  },
  {
   "cell_type": "code",
   "execution_count": 22,
   "id": "c6910026-7027-4730-92bc-86163fc04a26",
   "metadata": {},
   "outputs": [],
   "source": [
    "def getCountry(query,name=\"\"):\n",
    "    with driver.session() as session: \n",
    "        result = session.run(query)\n",
    "        data = [dict(record) for record in result]\n",
    "        return pd.DataFrame(data)\n",
    "    \n",
    "def getRecords(query, values=[]):\n",
    "    with driver.session() as session:\n",
    "        f_query = \"\"\n",
    "        if(len(values) > 0):\n",
    "            if(len(values) == 1):\n",
    "                f_query = query.format(key=values[0])\n",
    "            elif(len(values) == 2):\n",
    "                f_query = query.format(key1=values[0],key2=values[1])\n",
    "            else:\n",
    "                f_query = query\n",
    "        else:\n",
    "            f_query = query\n",
    "        result = session.run(f_query)\n",
    "        data = [dict(record) for record in result]\n",
    "        return pd.DataFrame(data)"
   ]
  },
  {
   "cell_type": "code",
   "execution_count": 23,
   "id": "6ddba6c5",
   "metadata": {},
   "outputs": [],
   "source": [
    "driver = connectToDataBases()"
   ]
  },
  {
   "cell_type": "code",
   "execution_count": 24,
   "id": "00f7fc02",
   "metadata": {},
   "outputs": [],
   "source": [
    "emission_by_country = getRecords(emission_by_country_query,[\"ABW\"])\n",
    "emission_by_secotrs= getRecords(emission_by_secotrs_query,[\"1.A.3.d\"])\n",
    "emission_by_all_sectors = getRecords(emission_by_all_secotrs_query)\n",
    "emission_by_country_year = getRecords(emission_by_country_year_query,[\"1.A.3.d\",\"2020\"])\n",
    "emission_by_all_countries = getRecords(emission_by_all_country_query)\n",
    "init_complete_emission = getRecords(complete_emission_query)"
   ]
  },
  {
   "cell_type": "code",
   "execution_count": 25,
   "id": "a97e168d",
   "metadata": {},
   "outputs": [],
   "source": [
    "def createCompleteData(df):\n",
    "    records=[]\n",
    "    for i, row in df.iterrows():\n",
    "        emission_body={\n",
    "            'Code':row[\"Code\"],\n",
    "            'Zone':row[\"Zone\"],\n",
    "            'Name':row[\"Name\"],\n",
    "            'IPCC_Code':row[\"IPCC_Code\"],\n",
    "            'IPCC_Code_Name':row[\"IPCC_Code_Name\"],\n",
    "        }\n",
    "        for year_col in sorted(col for col in row['emissions'].keys()):\n",
    "            emission_body[f\"{year_col}\"] = row['emissions'][year_col]\n",
    "        records.append(emission_body)\n",
    "    return pd.DataFrame(records)"
   ]
  },
  {
   "cell_type": "code",
   "execution_count": 26,
   "id": "e2d2d2cb",
   "metadata": {},
   "outputs": [],
   "source": [
    "complete_emission = createCompleteData(init_complete_emission)"
   ]
  },
  {
   "cell_type": "code",
   "execution_count": 27,
   "id": "b78fb0f1",
   "metadata": {},
   "outputs": [],
   "source": [
    "year_cols = [col for col in complete_emission.columns if col.isdigit()]"
   ]
  },
  {
   "cell_type": "markdown",
   "id": "7c0f0774",
   "metadata": {},
   "source": [
    "## PostgreSQL connection"
   ]
  },
  {
   "cell_type": "code",
   "execution_count": 29,
   "id": "3d56f227",
   "metadata": {},
   "outputs": [],
   "source": [
    "def connectToDB(db = \"postgres\"):\n",
    "    try:\n",
    "        env_path = Path('..') / '.env'\n",
    "        if(load_dotenv(dotenv_path=env_path)):\n",
    "            _host = os.environ.get(\"pg_host\")\n",
    "            _username = os.environ.get(\"pg_username\")\n",
    "            _password = os.environ.get(\"pg_password\")\n",
    "            _port = int(os.environ.get(\"pg_port\"))\n",
    "            conn = psycopg2.connect(database=db,\n",
    "                    host=_host,\n",
    "                    user=_username,\n",
    "                    password=_password,\n",
    "                    port=_port)\n",
    "            return conn\n",
    "        else:\n",
    "            return None\n",
    "    except (psycopg2.DatabaseError, Exception) as error:\n",
    "        print(error)"
   ]
  },
  {
   "cell_type": "code",
   "execution_count": 30,
   "id": "9e80441a",
   "metadata": {},
   "outputs": [],
   "source": [
    "conn = connectToDB(\"co2_emission\")\n",
    "cursor = conn.cursor()"
   ]
  },
  {
   "cell_type": "code",
   "execution_count": 2,
   "id": "0f9ac50f",
   "metadata": {},
   "outputs": [],
   "source": [
    "all_county_query = \"\"\"SELECT code,name FROM country ORDER BY name ASC\"\"\"\n",
    "\n",
    "emission_by_year = \"\"\"SELECT c.name,sum(e.Y_{year}) AS emission_rate FROM emission e \n",
    "INNER JOIN country c ON e.country_id = c.country_id GROUP BY c.name;\"\"\"\n",
    "\n",
    "get_all_ipcc = \"\"\" SELECT ipcc_code,ipcc_name from ipcc ORDER BY ipcc_code ASC\"\"\""
   ]
  },
  {
   "cell_type": "code",
   "execution_count": 32,
   "id": "6b424e6b",
   "metadata": {},
   "outputs": [],
   "source": [
    "cursor.execute(all_county_query)\n",
    "country_list = [{\"label\":str(country[1]),\"value\":str(country[0])} for country in cursor.fetchall()]"
   ]
  },
  {
   "cell_type": "code",
   "execution_count": 33,
   "id": "62088bf3-1f88-446a-b751-6de5900bc4d1",
   "metadata": {},
   "outputs": [],
   "source": [
    "cursor.execute(get_all_ipcc)\n",
    "ipcc_codes = cursor.fetchall()\n",
    "map_ipcc={\n",
    "        \"ipcc_code\":[str(x[0]) for x in ipcc_codes],\n",
    "        \"ipcc_name\":[str(x[1]) for x in ipcc_codes]\n",
    "}\n",
    "df_ipcc_list = pd.DataFrame(map_ipcc)"
   ]
  },
  {
   "cell_type": "code",
   "execution_count": 34,
   "id": "313bc9a6",
   "metadata": {},
   "outputs": [],
   "source": [
    "def getEmissionByYear(query,value=\"2000\"):\n",
    "    cursor.execute(query.format(year=value))\n",
    "    return cursor.fetchall()"
   ]
  },
  {
   "cell_type": "code",
   "execution_count": 35,
   "id": "45903d04",
   "metadata": {},
   "outputs": [],
   "source": [
    "emissionByYear = getEmissionByYear(emission_by_year)\n",
    "map_plot={\n",
    "        \"country\":[str(x[0]) for x in emissionByYear],\n",
    "        \"emission\":[str(x[1]) for x in emissionByYear]\n",
    "}"
   ]
  },
  {
   "cell_type": "code",
   "execution_count": null,
   "id": "2d1744c9-37ee-436c-a870-e5c4ffc0ee43",
   "metadata": {},
   "outputs": [],
   "source": [
    "# cursor.execute(get_all_ipcc)\n",
    "# ipcc_codes = cursor.fetchall()"
   ]
  },
  {
   "cell_type": "code",
   "execution_count": 36,
   "id": "a5fab4da",
   "metadata": {},
   "outputs": [],
   "source": [
    "plot_data = {\n",
    "    \"Year\":year_cols,\n",
    "    'Emissions':complete_emission[year_cols].sum().values\n",
    "}\n",
    "plot_df=pd.DataFrame(plot_data)"
   ]
  },
  {
   "cell_type": "code",
   "execution_count": 5,
   "id": "4b91e101",
   "metadata": {},
   "outputs": [],
   "source": [
    "def layout_01():\n",
    "    return html.Div([\n",
    "    html.H3(children=\"Intergovernmental Panel on Climate Change codes and its description\"),\n",
    "    dash_table.DataTable(data=df_ipcc_list.to_dict('records'),\n",
    "        style_table={\n",
    "            'maxHeight': '300px',\n",
    "            'overflowY': 'auto',\n",
    "            'border': 'thin lightgrey solid'\n",
    "        },\n",
    "        style_header={\n",
    "            'backgroundColor': 'rgb(30, 30, 30)',\n",
    "            'color': 'white',\n",
    "            'fontWeight': 'bold'\n",
    "        },\n",
    "        style_cell={\n",
    "            'padding': '10px',\n",
    "            'textAlign': 'left',\n",
    "            'border': '1px solid lightgrey'\n",
    "        },\n",
    "        style_data_conditional=[\n",
    "            {\n",
    "                'if': {'row_index': 'odd'},\n",
    "                'backgroundColor': 'rgb(248, 248, 248)'\n",
    "            }\n",
    "    ]),\n",
    "    dcc.Graph(figure=px.histogram(plot_df, x='Year', y='Emissions', histfunc='avg',title=\"Global CO2 Emission from fossil fule 2000-2023\")),\n",
    "    dcc.Graph(figure=px.line(plot_df,x='Year',y='Emissions',title=\"Trend of global CO2 Emission from fossil fule 2000-2023\")),\n",
    "    html.Div([\n",
    "        dcc.Graph(figure =px.pie(emission_by_all_sectors, values='Total_Emission', names='Code', \n",
    "        title=\"Total CO2 Emission by IPCC code\").update_traces(textposition='inside', textinfo='percent+label'))\n",
    "    ],style={\"display\":\"inline-block\",\"width\":\"47%\"}),\n",
    "    html.Div([\n",
    "        dcc.Graph(figure = px.bar(emission_by_all_countries.sort_values('Total_Emission', ascending=True), \n",
    "                                  y='Name', x='Total_Emission', orientation='h',title=\"Top 5 Countries of Total CO2 Emissions from 2000 - 2023\"))\n",
    "    ],style={\"display\":\"inline-block\",\"width\":\"47%\", \"float\":\"right\"}),\n",
    "    dcc.Dropdown(country_list, \"BRA\", id=\"country-dropdown\"),\n",
    "    html.Div(id=\"dd-output-container\"),\n",
    "    dcc.Graph(id=\"country-graph\"),\n",
    "    dcc.Graph(id=\"country-ipcc-pie-graph\"),\n",
    "    html.Div([\n",
    "        html.Label(\"Select year:\"),\n",
    "        dcc.Dropdown([str(i) for i in range(2000,2024)], \"2000\", id=\"year-dropdown\",),\n",
    "    ], style={\"display\":\"inline-block\",\"width\":\"47%\"}),\n",
    "    html.Div([\n",
    "        html.Label(\"Select Continent:\"),\n",
    "        dcc.Dropdown([\"world\" , \"europe\" , \"asia\" , \"africa\" , \"north america\",\"south america\"], \"europe\", id=\"continent-dropdown\"),\n",
    "    ],style={\"display\":\"inline-block\",\"width\":\"47%\", \"float\":\"right\"}),\n",
    "    dcc.Graph(id=\"continent-map\")],className=\"layout-1\")"
   ]
  },
  {
   "cell_type": "code",
   "execution_count": null,
   "id": "2e2ed255",
   "metadata": {},
   "outputs": [],
   "source": [
    "def callback_bar(app):\n",
    "    @app.callback(\n",
    "        Output('country-graph', 'figure'),\n",
    "        Input('country-dropdown', 'value')\n",
    "    )\n",
    "\n",
    "    def update_bar(value):\n",
    "        emission_by_country = getRecords(emission_by_country_query,[value])\n",
    "        graph_df = emission_by_country[emission_by_country[\"Code\"] == value]\n",
    "\n",
    "        fig = px.bar(graph_df,x=\"IPCC_Code\",y=\"Total_Emission\",title=f'Emission by IPCC code for {graph_df[\"Name\"][0]}')\n",
    "        return fig"
   ]
  },
  {
   "cell_type": "code",
   "execution_count": null,
   "id": "e0b8e6ef",
   "metadata": {},
   "outputs": [],
   "source": [
    "def callback_pie(app):\n",
    "    @app.callback(\n",
    "        Output('country-ipcc-pie-graph', 'figure'),\n",
    "        Input('country-dropdown', 'value')\n",
    "    )\n",
    "    def update_pie(value):\n",
    "        emission_by_country = getRecords(emission_by_country_query,[value])\n",
    "        graph_df = emission_by_country[emission_by_country[\"Code\"] == value]\n",
    "\n",
    "        fig = px.pie(graph_df, values='Total_Emission', names='IPCC_Code', title=f'Emission by IPCC code for {graph_df[\"Name\"][0]}').update_traces(textposition='inside', textinfo='percent+label')\n",
    "        return fig"
   ]
  },
  {
   "cell_type": "code",
   "execution_count": null,
   "id": "e7769196",
   "metadata": {},
   "outputs": [],
   "source": [
    "def callback_country_emission(app):\n",
    "    @app.callback(\n",
    "        Output(\"continent-map\", \"figure\"),\n",
    "        [Input(\"year-dropdown\", \"value\"),\n",
    "         Input(\"continent-dropdown\", \"value\")]\n",
    "    )\n",
    "    def update_country_emission(year_value,continent_value):\n",
    "        emissionByYear = getEmissionByYear(emission_by_year,year_value)\n",
    "        map_plot={\n",
    "            \"country\":[str(x[0]) for x in emissionByYear],\n",
    "            \"emission\":[int(x[1]) for x in emissionByYear]\n",
    "        }\n",
    "        graph_df = pd.DataFrame(map_plot)\n",
    "        fig = px.choropleth(graph_df,\n",
    "                        locations=\"country\",\n",
    "                        locationmode=\"country names\",\n",
    "                        color=\"emission\",\n",
    "                        scope=continent_value,\n",
    "                        title=\"Emission by Continent\",\n",
    "                        hover_name = \"country\",\n",
    "                        hover_data = {\"emission\":True,\"country\":False},\n",
    "                        labels={\"emission\":\"Emission Rate\"},\n",
    "                        range_color=[0,13000000]\n",
    "                        )\n",
    "        fig.update_geos(showcountries=True, showcoastlines=True)\n",
    "        fig.update_layout(height=600,coloraxis_colorbar={\"title\":\"emission\",\"tickformat\":\",.0f\"})\n",
    "        return fig"
   ]
  },
  {
   "cell_type": "code",
   "execution_count": null,
   "id": "ace9881f",
   "metadata": {},
   "outputs": [],
   "source": [
    "# def emission_by_sectors(app):\n",
    "#     @app.callback(\n",
    "#         Output('ipcc-bar-graph', 'figure'),\n",
    "#         Input('country-dropdown', 'value')\n",
    "#     )"
   ]
  },
  {
   "cell_type": "code",
   "execution_count": null,
   "id": "32fbb2d2-c36a-483b-81ca-f2b10be56409",
   "metadata": {},
   "outputs": [],
   "source": []
  }
 ],
 "metadata": {
  "kernelspec": {
   "display_name": "Python [conda env:base] *",
   "language": "python",
   "name": "conda-base-py"
  },
  "language_info": {
   "codemirror_mode": {
    "name": "ipython",
    "version": 3
   },
   "file_extension": ".py",
   "mimetype": "text/x-python",
   "name": "python",
   "nbconvert_exporter": "python",
   "pygments_lexer": "ipython3",
   "version": "3.12.3"
  }
 },
 "nbformat": 4,
 "nbformat_minor": 5
}
