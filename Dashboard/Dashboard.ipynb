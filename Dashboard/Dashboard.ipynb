{
 "cells": [
  {
   "cell_type": "code",
   "execution_count": 57,
   "id": "11f59222-3a60-43b7-8be3-006f3ed82e8e",
   "metadata": {},
   "outputs": [],
   "source": [
    "from dash import Dash, html, dash_table, dcc\n",
    "import pandas as pd\n",
    "import plotly.express as px\n",
    "from dagster import asset, AssetIn"
   ]
  },
  {
   "cell_type": "code",
   "execution_count": 58,
   "id": "dd8489d5-1a9c-4e0b-b972-21fbee78d865",
   "metadata": {},
   "outputs": [],
   "source": [
    "try:\n",
    "    %run ./Dataset01.ipynb\n",
    "except (Exception) as error:\n",
    "    print(\"Failed to run the 'Dataset01.ipynb' file - \"+error)"
   ]
  },
  {
   "cell_type": "code",
   "execution_count": 59,
   "id": "35b4a5b6",
   "metadata": {},
   "outputs": [],
   "source": [
    "try:\n",
    "    %run ./Dataset02.ipynb\n",
    "except (Exception) as error:\n",
    "    print(\"Failed to run the 'Dataset02.ipynb' file - \"+error)"
   ]
  },
  {
   "cell_type": "code",
   "execution_count": 60,
   "id": "6b07d6ed-ee98-452a-8b08-34b32ff572d3",
   "metadata": {
    "scrolled": true
   },
   "outputs": [],
   "source": [
    "try:\n",
    "    %run ./Dataset03.ipynb\n",
    "except (Exception) as error:\n",
    "    print(\"Failed to run the 'Dataset03.ipynb' file - \"+error)"
   ]
  },
  {
   "cell_type": "code",
   "execution_count": 61,
   "id": "5df77c85-e200-46b9-834b-7e56ef3480f4",
   "metadata": {},
   "outputs": [],
   "source": [
    "try:\n",
    "    app = Dash(__name__, suppress_callback_exceptions=True)\n",
    "    \n",
    "    # App layout\n",
    "    app.layout = html.Div([\n",
    "        html.H1(\"Dashboard\"),\n",
    "        dcc.Tabs([\n",
    "            dcc.Tab(label=\"Data Set 01\",children = layout_01()),\n",
    "            dcc.Tab(label=\"Data Set 02\",children = layout_02()),\n",
    "            dcc.Tab(label=\"Data Set 03\",children = layout_03())\n",
    "        ])\n",
    "    ],style={\"padding\":\"20px\"})\n",
    "    \n",
    "    callback_bar(app)\n",
    "    callback_pie(app)\n",
    "    callback_country_emission(app)\n",
    "except (Exception) as error:\n",
    "    print(\"Error while running the Dashboard : \" + error)"
   ]
  },
  {
   "cell_type": "code",
   "execution_count": 62,
   "id": "b8a5cb2b",
   "metadata": {},
   "outputs": [
    {
     "name": "stdout",
     "output_type": "stream",
     "text": [
      "Dash app running on http://127.0.0.1:8080/\n"
     ]
    },
    {
     "data": {
      "application/javascript": [
       "window.open('http://127.0.0.1:8080/')"
      ],
      "text/plain": [
       "<IPython.core.display.Javascript object>"
      ]
     },
     "metadata": {},
     "output_type": "display_data"
    }
   ],
   "source": [
    "# Run the app\n",
    "if __name__ == '__main__':\n",
    "    app.run(debug=True,jupyter_mode=\"tab\",port=8080)"
   ]
  },
  {
   "cell_type": "code",
   "execution_count": null,
   "id": "c6910026-7027-4730-92bc-86163fc04a26",
   "metadata": {},
   "outputs": [],
   "source": []
  }
 ],
 "metadata": {
  "kernelspec": {
   "display_name": "Python [conda env:base] *",
   "language": "python",
   "name": "conda-base-py"
  },
  "language_info": {
   "codemirror_mode": {
    "name": "ipython",
    "version": 3
   },
   "file_extension": ".py",
   "mimetype": "text/x-python",
   "name": "python",
   "nbconvert_exporter": "python",
   "pygments_lexer": "ipython3",
   "version": "3.12.3"
  }
 },
 "nbformat": 4,
 "nbformat_minor": 5
}
