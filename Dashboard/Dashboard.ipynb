{
 "cells": [
  {
   "cell_type": "code",
   "execution_count": 106,
   "id": "11f59222-3a60-43b7-8be3-006f3ed82e8e",
   "metadata": {},
   "outputs": [],
   "source": [
    "from dash import Dash, html, dash_table, dcc\n",
    "import pandas as pd\n",
    "import plotly.express as px\n",
    "from dagster import asset, AssetIn"
   ]
  },
  {
   "cell_type": "code",
   "execution_count": 113,
   "id": "dd8489d5-1a9c-4e0b-b972-21fbee78d865",
   "metadata": {},
   "outputs": [],
   "source": [
    "%run ./Dataset01.ipynb"
   ]
  },
  {
   "cell_type": "code",
   "execution_count": 115,
   "id": "35b4a5b6",
   "metadata": {},
   "outputs": [],
   "source": [
    "%run ./Dataset02.ipynb"
   ]
  },
  {
   "cell_type": "code",
   "execution_count": 117,
   "id": "6b07d6ed-ee98-452a-8b08-34b32ff572d3",
   "metadata": {
    "scrolled": true
   },
   "outputs": [
    {
     "ename": "SyntaxError",
     "evalue": "invalid syntax. Perhaps you forgot a comma? (3390831141.py, line 5)",
     "output_type": "error",
     "traceback": [
      "\u001b[1;36m  File \u001b[1;32m~\\AppData\\Local\\Temp\\ipykernel_21048\\3390831141.py:5\u001b[1;36m\u001b[0m\n\u001b[1;33m    dcc.Graph(figure=px.scatter(correlation.reset_index(),x = \"total_emission\", y = \"Average Temperature °C\", size = \"pop_tot\",color = \"Year\",title = \"<br> Temperature & CO2 Emissions - global relation\",template=\"plotly_dark\"))\u001b[0m\n\u001b[1;37m    ^\u001b[0m\n\u001b[1;31mSyntaxError\u001b[0m\u001b[1;31m:\u001b[0m invalid syntax. Perhaps you forgot a comma?\n"
     ]
    },
    {
     "ename": "SyntaxError",
     "evalue": "invalid syntax. Perhaps you forgot a comma? (3390831141.py, line 5)",
     "output_type": "error",
     "traceback": [
      "Traceback \u001b[1;36m(most recent call last)\u001b[0m:\n",
      "\u001b[0m  File \u001b[0;32m~\\anaconda3\\Lib\\site-packages\\IPython\\core\\interactiveshell.py:3577\u001b[0m in \u001b[0;35mrun_code\u001b[0m\n    exec(code_obj, self.user_global_ns, self.user_ns)\u001b[0m\n",
      "\u001b[0m  Cell \u001b[0;32mIn[117], line 1\u001b[0m\n    get_ipython().run_line_magic('run', './Dataset03.ipynb')\u001b[0m\n",
      "\u001b[0m  File \u001b[0;32m~\\anaconda3\\Lib\\site-packages\\IPython\\core\\interactiveshell.py:2480\u001b[0m in \u001b[0;35mrun_line_magic\u001b[0m\n    result = fn(*args, **kwargs)\u001b[0m\n",
      "\u001b[0m  File \u001b[0;32m~\\anaconda3\\Lib\\site-packages\\IPython\\core\\magics\\execution.py:737\u001b[0m in \u001b[0;35mrun\u001b[0m\n    self.shell.safe_execfile_ipy(filename, raise_exceptions=True)\u001b[0m\n",
      "\u001b[0m  File \u001b[0;32m~\\anaconda3\\Lib\\site-packages\\IPython\\core\\interactiveshell.py:3005\u001b[0m in \u001b[0;35msafe_execfile_ipy\u001b[0m\n    result.raise_error()\u001b[0m\n",
      "\u001b[0m  File \u001b[0;32m~\\anaconda3\\Lib\\site-packages\\IPython\\core\\interactiveshell.py:306\u001b[0m in \u001b[0;35mraise_error\u001b[0m\n    raise self.error_before_exec\u001b[0m\n",
      "\u001b[0m  File \u001b[0;32m~\\anaconda3\\Lib\\site-packages\\IPython\\core\\interactiveshell.py:3306\u001b[0m in \u001b[0;35mrun_cell_async\u001b[0m\n    code_ast = compiler.ast_parse(cell, filename=cell_name)\u001b[0m\n",
      "\u001b[1;36m  File \u001b[1;32m~\\anaconda3\\Lib\\site-packages\\IPython\\core\\compilerop.py:86\u001b[1;36m in \u001b[1;35mast_parse\u001b[1;36m\n\u001b[1;33m    return compile(source, filename, symbol, self.flags | PyCF_ONLY_AST, 1)\u001b[1;36m\n",
      "\u001b[1;36m  File \u001b[1;32m~\\AppData\\Local\\Temp\\ipykernel_21048\\3390831141.py:5\u001b[1;36m\u001b[0m\n\u001b[1;33m    dcc.Graph(figure=px.scatter(correlation.reset_index(),x = \"total_emission\", y = \"Average Temperature °C\", size = \"pop_tot\",color = \"Year\",title = \"<br> Temperature & CO2 Emissions - global relation\",template=\"plotly_dark\"))\u001b[0m\n\u001b[1;37m    ^\u001b[0m\n\u001b[1;31mSyntaxError\u001b[0m\u001b[1;31m:\u001b[0m invalid syntax. Perhaps you forgot a comma?\n"
     ]
    }
   ],
   "source": [
    "%run ./Dataset03.ipynb"
   ]
  },
  {
   "cell_type": "code",
   "execution_count": null,
   "id": "5df77c85-e200-46b9-834b-7e56ef3480f4",
   "metadata": {},
   "outputs": [],
   "source": [
    "app = Dash(__name__, suppress_callback_exceptions=True)\n",
    "\n",
    "# App layout\n",
    "app.layout = html.Div([\n",
    "    html.H1(\"Dashboard\"),\n",
    "    dcc.Tabs([\n",
    "        dcc.Tab(label=\"Data Set 01\",children = layout_01()),\n",
    "        dcc.Tab(label=\"Data Set 02\",children = layout_02()),\n",
    "        dcc.Tab(label=\"Data Set 03\",children = layout_03())\n",
    "    ])\n",
    "],style={\"padding\":\"20px\"})\n",
    "\n",
    "callback_bar(app)\n",
    "callback_pie(app)\n",
    "callback_country_emission(app)"
   ]
  },
  {
   "cell_type": "code",
   "execution_count": null,
   "id": "b8a5cb2b",
   "metadata": {},
   "outputs": [],
   "source": [
    "# Run the app\n",
    "if __name__ == '__main__':\n",
    "    app.run(debug=True,jupyter_mode=\"tab\",port=8050)"
   ]
  },
  {
   "cell_type": "code",
   "execution_count": null,
   "id": "c6910026-7027-4730-92bc-86163fc04a26",
   "metadata": {},
   "outputs": [],
   "source": []
  },
  {
   "cell_type": "code",
   "execution_count": null,
   "id": "de4385dc-d9e4-4598-aeb1-a8ca42a78dd8",
   "metadata": {},
   "outputs": [],
   "source": []
  }
 ],
 "metadata": {
  "kernelspec": {
   "display_name": "Python [conda env:base] *",
   "language": "python",
   "name": "conda-base-py"
  },
  "language_info": {
   "codemirror_mode": {
    "name": "ipython",
    "version": 3
   },
   "file_extension": ".py",
   "mimetype": "text/x-python",
   "name": "python",
   "nbconvert_exporter": "python",
   "pygments_lexer": "ipython3",
   "version": "3.12.3"
  }
 },
 "nbformat": 4,
 "nbformat_minor": 5
}
