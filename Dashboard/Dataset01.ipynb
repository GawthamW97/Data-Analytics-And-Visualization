{
 "cells": [
  {
   "cell_type": "code",
   "execution_count": 11,
   "id": "11f59222-3a60-43b7-8be3-006f3ed82e8e",
   "metadata": {},
   "outputs": [],
   "source": [
    "import os\n",
    "import numpy as np\n",
    "import pandas as pd\n",
    "from neo4j import GraphDatabase\n",
    "from dotenv import load_dotenv\n",
    "from pathlib import Path \n",
    "import matplotlib.pyplot as plt\n",
    "import psycopg2\n",
    "from dash import Dash, html, dash_table, dcc\n",
    "from dash.dependencies import Input, Output\n",
    "import plotly.express as px"
   ]
  },
  {
   "cell_type": "code",
   "execution_count": 12,
   "id": "dd8489d5-1a9c-4e0b-b972-21fbee78d865",
   "metadata": {},
   "outputs": [],
   "source": [
    "check_query = \"\"\"\n",
    "OPTIONAL MATCH (n) WITH n LIMIT 1 \n",
    "RETURN n IS NOT NULL AS IsNodesPresent\n",
    "\"\"\"\n",
    "country_query = \"\"\"\n",
    "MATCH (n:country) RETURN n.code as Code, n.zone as Zone, n.name as Name LIMIT 25\n",
    "\"\"\"\n",
    "\n",
    "emission_by_country_query = \"\"\"\n",
    "MATCH (c:country)-[r1:UNDER_IPCC_CODE]->(i:ipcc)-[r2:HAS_PRODUCED]->(e:emission)\n",
    "WITH c,i,e,r1,r2\n",
    "WHERE c.code = '{key}'\n",
    "RETURN\n",
    "    c.code as Code,\n",
    "    c.zone as Zone,\n",
    "    c.name as Name,\n",
    "    i.ipcc_code as IPCC_Code,\n",
    "    i.ipcc_name as IPCC_Code_Name,\n",
    "    e.total_emission as Total_Emission\n",
    "    ORDER BY Code\n",
    "\"\"\"\n",
    "\n",
    "emission_by_country_year_query = \"\"\"\n",
    "MATCH (c:country)-[r1:UNDER_IPCC_CODE]->(i:ipcc)-[r2:HAS_PRODUCED]->(e:emission)\n",
    "WITH c,i,e,r1,r2\n",
    "WHERE i.ipcc_code = '{key1}'\n",
    "RETURN\n",
    "    c.code as Code,\n",
    "    c.zone as Zone,\n",
    "    c.name as Name,\n",
    "    i.ipcc_code as IPCC_Code,\n",
    "    i.ipcc_name as IPCC_Code_Name,\n",
    "    e.`{key2}` as Y_{key2},\n",
    "    e.total_emission as Total_Emission\n",
    "    ORDER BY Code\n",
    "\"\"\"\n",
    "\n",
    "emission_by_secotrs_query = \"\"\"\n",
    "MATCH (c:country)-[r1:UNDER_IPCC_CODE]->(i:ipcc)-[r2:HAS_PRODUCED]->(e:emission)\n",
    "WITH c,i,e,r1,r2\n",
    "WHERE i.ipcc_code = '{key}'\n",
    "RETURN\n",
    "    c.name as Country_Name,\n",
    "    i.ipcc_code as Code,\n",
    "    i.ipcc_name as Name, \n",
    "    e.total_emission as Total_Emission\n",
    "\"\"\"\n",
    "complete_emission_query=\"\"\"\n",
    "MATCH (c:country)-[r1:UNDER_IPCC_CODE]->(i:ipcc)-[r2:HAS_PRODUCED]->(e:emission)\n",
    "WITH c,i,e,r1,r2\n",
    "RETURN\n",
    "    c.code as Code,\n",
    "    c.zone as Zone,\n",
    "    c.name as Name,\n",
    "    i.ipcc_code as IPCC_Code,\n",
    "    i.ipcc_name as IPCC_Code_Name,\n",
    "    properties(e) as emissions\n",
    "ORDER BY Code\n",
    "\"\"\""
   ]
  },
  {
   "cell_type": "code",
   "execution_count": null,
   "id": "5df77c85-e200-46b9-834b-7e56ef3480f4",
   "metadata": {},
   "outputs": [],
   "source": [
    "def connectToDataBases():\n",
    "    env_path = Path('..') / '.env'\n",
    "    if(load_dotenv(dotenv_path=env_path)):\n",
    "        host = os.environ.get(\"neo_host\")\n",
    "        username = os.environ.get(\"neo_username\")\n",
    "        password = os.environ.get(\"neo_password\")\n",
    "    else:\n",
    "        print(\".env file does not have required values!\")\n",
    "    driver = GraphDatabase.driver(host,auth=(username, password))\n",
    "    return driver"
   ]
  },
  {
   "cell_type": "code",
   "execution_count": 14,
   "id": "c6910026-7027-4730-92bc-86163fc04a26",
   "metadata": {},
   "outputs": [],
   "source": [
    "def getCountry(query,name=\"\"):\n",
    "    with driver.session() as session: \n",
    "        result = session.run(query)\n",
    "        data = [dict(record) for record in result]\n",
    "        return pd.DataFrame(data)\n",
    "    \n",
    "def getRecords(query, values=[]):\n",
    "    with driver.session() as session:\n",
    "        f_query = \"\"\n",
    "        if(len(values) > 0):\n",
    "            if(len(values) == 1):\n",
    "                f_query = query.format(key=values[0])\n",
    "            elif(len(values) == 2):\n",
    "                f_query = query.format(key1=values[0],key2=values[1])\n",
    "            else:\n",
    "                f_query = query\n",
    "        else:\n",
    "            f_query = query\n",
    "        result = session.run(f_query)\n",
    "        data = [dict(record) for record in result]\n",
    "        return pd.DataFrame(data)"
   ]
  },
  {
   "cell_type": "code",
   "execution_count": 15,
   "id": "6ddba6c5",
   "metadata": {},
   "outputs": [],
   "source": [
    "driver = connectToDataBases()"
   ]
  },
  {
   "cell_type": "code",
   "execution_count": 16,
   "id": "00f7fc02",
   "metadata": {},
   "outputs": [],
   "source": [
    "emission_by_country = getRecords(emission_by_country_query,[\"ABW\"])\n",
    "emission_by_secotrs= getRecords(emission_by_secotrs_query,[\"1.A.3.d\"])\n",
    "emission_by_country_year = getRecords(emission_by_country_year_query,[\"1.A.3.d\",\"2020\"])\n",
    "init_complete_emission = getRecords(complete_emission_query)"
   ]
  },
  {
   "cell_type": "code",
   "execution_count": 17,
   "id": "a97e168d",
   "metadata": {},
   "outputs": [],
   "source": [
    "def createCompleteData(df):\n",
    "    records=[]\n",
    "    for i, row in df.iterrows():\n",
    "        emission_body={\n",
    "            'Code':row[\"Code\"],\n",
    "            'Zone':row[\"Zone\"],\n",
    "            'Name':row[\"Name\"],\n",
    "            'IPCC_Code':row[\"IPCC_Code\"],\n",
    "            'IPCC_Code_Name':row[\"IPCC_Code_Name\"],\n",
    "        }\n",
    "        for year_col in sorted(col for col in row['emissions'].keys()):\n",
    "            emission_body[f\"{year_col}\"] = row['emissions'][year_col]\n",
    "        records.append(emission_body)\n",
    "    return pd.DataFrame(records)"
   ]
  },
  {
   "cell_type": "code",
   "execution_count": 18,
   "id": "e2d2d2cb",
   "metadata": {},
   "outputs": [],
   "source": [
    "complete_emission = createCompleteData(init_complete_emission)"
   ]
  },
  {
   "cell_type": "code",
   "execution_count": 19,
   "id": "b78fb0f1",
   "metadata": {},
   "outputs": [],
   "source": [
    "year_cols = [col for col in complete_emission.columns if col.isdigit()]"
   ]
  },
  {
   "cell_type": "markdown",
   "id": "7c0f0774",
   "metadata": {},
   "source": [
    "## PostgreSQL connection"
   ]
  },
  {
   "cell_type": "code",
   "execution_count": null,
   "id": "3d56f227",
   "metadata": {},
   "outputs": [],
   "source": [
    "def connectToDB(db = \"postgres\"):\n",
    "    try:\n",
    "        env_path = Path('..') / '.env'\n",
    "        if(load_dotenv(dotenv_path=env_path)):\n",
    "            _host = os.environ.get(\"pg_host\")\n",
    "            _username = os.environ.get(\"pg_username\")\n",
    "            _password = os.environ.get(\"pg_password\")\n",
    "            _port = int(os.environ.get(\"pg_port\"))\n",
    "            conn = psycopg2.connect(database=db,\n",
    "                    host=_host,\n",
    "                    user=_username,\n",
    "                    password=_password,\n",
    "                    port=_port)\n",
    "            return conn\n",
    "        else:\n",
    "            return None\n",
    "    except (psycopg2.DatabaseError, Exception) as error:\n",
    "        print(error)"
   ]
  },
  {
   "cell_type": "code",
   "execution_count": 21,
   "id": "9e80441a",
   "metadata": {},
   "outputs": [],
   "source": [
    "conn = connectToDB(\"co2_emission\")\n",
    "cursor = conn.cursor()"
   ]
  },
  {
   "cell_type": "code",
   "execution_count": 22,
   "id": "0f9ac50f",
   "metadata": {},
   "outputs": [],
   "source": [
    "all_county_query = \"\"\"SELECT code FROM country\"\"\"\n",
    "\n",
    "emission_by_year = \"\"\"SELECT c.name,sum(e.Y_{year}) AS emission_rate FROM emission e \n",
    "INNER JOIN country c ON e.country_id = c.country_id GROUP BY c.name;\"\"\""
   ]
  },
  {
   "cell_type": "code",
   "execution_count": 23,
   "id": "6b424e6b",
   "metadata": {},
   "outputs": [],
   "source": [
    "cursor.execute(all_county_query)\n",
    "country_list = [str(country[0]) for country in cursor.fetchall()]"
   ]
  },
  {
   "cell_type": "code",
   "execution_count": 24,
   "id": "313bc9a6",
   "metadata": {},
   "outputs": [],
   "source": [
    "def getEmissionByYear(query,value=\"2000\"):\n",
    "    cursor.execute(query.format(year=value))\n",
    "    return cursor.fetchall()"
   ]
  },
  {
   "cell_type": "code",
   "execution_count": 25,
   "id": "45903d04",
   "metadata": {},
   "outputs": [],
   "source": [
    "emissionByYear = getEmissionByYear(emission_by_year)\n",
    "map_plot={\n",
    "        \"country\":[str(x[0]) for x in emissionByYear],\n",
    "        \"emission\":[str(x[1]) for x in emissionByYear]\n",
    "}"
   ]
  },
  {
   "cell_type": "code",
   "execution_count": 31,
   "id": "a5fab4da",
   "metadata": {},
   "outputs": [],
   "source": [
    "plot_data = {\n",
    "    \"Year\":year_cols,\n",
    "    'Emissions':complete_emission[year_cols].sum().values\n",
    "}\n",
    "plot_df=pd.DataFrame(plot_data)"
   ]
  },
  {
   "cell_type": "code",
   "execution_count": 26,
   "id": "4b91e101",
   "metadata": {},
   "outputs": [],
   "source": [
    "def layout_01():\n",
    "    return html.Div([\n",
    "    html.Div(children='My First App with Data and a Graph'),\n",
    "    dcc.Graph(figure=px.histogram(plot_df, x='Year', y='Emissions', histfunc='avg')),\n",
    "    dcc.Graph(figure=px.line(plot_df,x='Year',y='Emissions')),\n",
    "    dcc.Dropdown(country_list, \"BRA\", id=\"country-dropdown\"),\n",
    "    html.Div(id=\"dd-output-container\"),\n",
    "    dcc.Graph(id=\"country-graph\"),\n",
    "    dcc.Graph(id=\"country-ipcc-pie-graph\"),\n",
    "    dcc.Dropdown([str(i) for i in range(2000,2024)], \"2000\", id=\"year-dropdown\"),\n",
    "    dcc.Graph(id=\"continent-map\")],className=\"layout-1\")"
   ]
  },
  {
   "cell_type": "code",
   "execution_count": 27,
   "id": "2e2ed255",
   "metadata": {},
   "outputs": [],
   "source": [
    "def callback_bar(app):\n",
    "    @app.callback(\n",
    "        Output('country-graph', 'figure'),\n",
    "        Input('country-dropdown', 'value')\n",
    "    )\n",
    "\n",
    "    def update_bar(value):\n",
    "        emission_by_country = getRecords(emission_by_country_query,[value])\n",
    "        graph_df = emission_by_country[emission_by_country[\"Code\"] == value]\n",
    "\n",
    "        fig = px.bar(graph_df,x=\"IPCC_Code\",y=\"Total_Emission\")\n",
    "        return fig"
   ]
  },
  {
   "cell_type": "code",
   "execution_count": 28,
   "id": "e0b8e6ef",
   "metadata": {},
   "outputs": [],
   "source": [
    "def callback_pie(app):\n",
    "    @app.callback(\n",
    "        Output('country-ipcc-pie-graph', 'figure'),\n",
    "        Input('country-dropdown', 'value')\n",
    "    )\n",
    "    def update_pie(value):\n",
    "        emission_by_country = getRecords(emission_by_country_query,[value])\n",
    "        graph_df = emission_by_country[emission_by_country[\"Code\"] == value]\n",
    "\n",
    "        fig = px.pie(graph_df, values='Total_Emission', names='IPCC_Code', title=f'Emission by IPCC code for {graph_df[\"Name\"][0]}').update_traces(textposition='inside', textinfo='percent+label')\n",
    "        return fig"
   ]
  },
  {
   "cell_type": "code",
   "execution_count": 29,
   "id": "b36b9d05",
   "metadata": {},
   "outputs": [],
   "source": [
    "red_scale = [\n",
    "    [0.0, 'rgb(103, 0, 0)'], \n",
    "    [0.2, 'rgb(178, 24, 43)'],\n",
    "    [0.4, 'rgb(214, 96, 77)'],\n",
    "    [0.6, 'rgb(244, 165, 130)'],\n",
    "    [0.8, 'rgb(253, 219, 199)'],\n",
    "    [1.0, 'rgb(255, 245, 240)']\n",
    "]"
   ]
  },
  {
   "cell_type": "code",
   "execution_count": 30,
   "id": "e7769196",
   "metadata": {},
   "outputs": [],
   "source": [
    "def callback_country_emission(app):\n",
    "    @app.callback(\n",
    "        Output('continent-map', 'figure'),\n",
    "        Input('year-dropdown', 'value')\n",
    "    )\n",
    "    def update_country_emission(value):\n",
    "        emissionByYear = getEmissionByYear(emission_by_year,value)\n",
    "        map_plot={\n",
    "            \"country\":[str(x[0]) for x in emissionByYear],\n",
    "            \"emission\":[int(x[1]) for x in emissionByYear]\n",
    "        }\n",
    "        graph_df = pd.DataFrame(map_plot)\n",
    "        fig = px.choropleth(graph_df,\n",
    "                        locations=\"country\",\n",
    "                        locationmode=\"country names\",\n",
    "                        color=\"emission\",\n",
    "                        scope=\"europe\",\n",
    "                        title=\"Emission by Country\",\n",
    "                        hover_name = \"country\",\n",
    "                        hover_data = {\"emission\":True,\"country\":False},\n",
    "                        labels={\"emission\":\"Emission Rate\"},\n",
    "                        )\n",
    "        fig.update_geos(showcountries=True, showcoastlines=True)\n",
    "        fig.update_layout(height=600,coloraxis_colorbar={\"title\":\"emission\",\"tickformat\":\",.0f\"})\n",
    "        return fig"
   ]
  },
  {
   "cell_type": "code",
   "execution_count": null,
   "id": "ace9881f",
   "metadata": {},
   "outputs": [],
   "source": []
  }
 ],
 "metadata": {
  "kernelspec": {
   "display_name": "Python (conda-base)",
   "language": "python",
   "name": "conda-base-py"
  },
  "language_info": {
   "codemirror_mode": {
    "name": "ipython",
    "version": 3
   },
   "file_extension": ".py",
   "mimetype": "text/x-python",
   "name": "python",
   "nbconvert_exporter": "python",
   "pygments_lexer": "ipython3",
   "version": "3.12.3"
  }
 },
 "nbformat": 4,
 "nbformat_minor": 5
}
